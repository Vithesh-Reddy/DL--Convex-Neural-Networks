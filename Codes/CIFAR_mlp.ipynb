{
  "nbformat": 4,
  "nbformat_minor": 0,
  "metadata": {
    "colab": {
      "provenance": []
    },
    "kernelspec": {
      "name": "python3",
      "display_name": "Python 3"
    },
    "language_info": {
      "name": "python"
    },
    "accelerator": "GPU",
    "gpuClass": "standard",
    "widgets": {
      "application/vnd.jupyter.widget-state+json": {
        "45a9aa84d6a2432ba2bbcc72eb5e1b5f": {
          "model_module": "@jupyter-widgets/controls",
          "model_name": "HBoxModel",
          "model_module_version": "1.5.0",
          "state": {
            "_dom_classes": [],
            "_model_module": "@jupyter-widgets/controls",
            "_model_module_version": "1.5.0",
            "_model_name": "HBoxModel",
            "_view_count": null,
            "_view_module": "@jupyter-widgets/controls",
            "_view_module_version": "1.5.0",
            "_view_name": "HBoxView",
            "box_style": "",
            "children": [
              "IPY_MODEL_dceecc07f80944c396905db6cb529eda",
              "IPY_MODEL_3b985d105db9416ea378ca16434fb4b9",
              "IPY_MODEL_28ae2ac4e64a436682d279ff264a64ec"
            ],
            "layout": "IPY_MODEL_ba4a6cbd1aa348afaca8ac5b523820e2"
          }
        },
        "dceecc07f80944c396905db6cb529eda": {
          "model_module": "@jupyter-widgets/controls",
          "model_name": "HTMLModel",
          "model_module_version": "1.5.0",
          "state": {
            "_dom_classes": [],
            "_model_module": "@jupyter-widgets/controls",
            "_model_module_version": "1.5.0",
            "_model_name": "HTMLModel",
            "_view_count": null,
            "_view_module": "@jupyter-widgets/controls",
            "_view_module_version": "1.5.0",
            "_view_name": "HTMLView",
            "description": "",
            "description_tooltip": null,
            "layout": "IPY_MODEL_7188adc3578f4a3c98c1e4f573b209cc",
            "placeholder": "​",
            "style": "IPY_MODEL_156d2069036d4b0b937c952499086cb5",
            "value": "100%"
          }
        },
        "3b985d105db9416ea378ca16434fb4b9": {
          "model_module": "@jupyter-widgets/controls",
          "model_name": "FloatProgressModel",
          "model_module_version": "1.5.0",
          "state": {
            "_dom_classes": [],
            "_model_module": "@jupyter-widgets/controls",
            "_model_module_version": "1.5.0",
            "_model_name": "FloatProgressModel",
            "_view_count": null,
            "_view_module": "@jupyter-widgets/controls",
            "_view_module_version": "1.5.0",
            "_view_name": "ProgressView",
            "bar_style": "success",
            "description": "",
            "description_tooltip": null,
            "layout": "IPY_MODEL_71b18e5538a3437c942904ea7339e596",
            "max": 170498071,
            "min": 0,
            "orientation": "horizontal",
            "style": "IPY_MODEL_5e9101d41b88493f8f08e283493b09de",
            "value": 170498071
          }
        },
        "28ae2ac4e64a436682d279ff264a64ec": {
          "model_module": "@jupyter-widgets/controls",
          "model_name": "HTMLModel",
          "model_module_version": "1.5.0",
          "state": {
            "_dom_classes": [],
            "_model_module": "@jupyter-widgets/controls",
            "_model_module_version": "1.5.0",
            "_model_name": "HTMLModel",
            "_view_count": null,
            "_view_module": "@jupyter-widgets/controls",
            "_view_module_version": "1.5.0",
            "_view_name": "HTMLView",
            "description": "",
            "description_tooltip": null,
            "layout": "IPY_MODEL_8924a74813494a7b9ffa1976e2cec947",
            "placeholder": "​",
            "style": "IPY_MODEL_95962fd500b94fe6befd760889049d8d",
            "value": " 170498071/170498071 [00:06&lt;00:00, 31093866.62it/s]"
          }
        },
        "ba4a6cbd1aa348afaca8ac5b523820e2": {
          "model_module": "@jupyter-widgets/base",
          "model_name": "LayoutModel",
          "model_module_version": "1.2.0",
          "state": {
            "_model_module": "@jupyter-widgets/base",
            "_model_module_version": "1.2.0",
            "_model_name": "LayoutModel",
            "_view_count": null,
            "_view_module": "@jupyter-widgets/base",
            "_view_module_version": "1.2.0",
            "_view_name": "LayoutView",
            "align_content": null,
            "align_items": null,
            "align_self": null,
            "border": null,
            "bottom": null,
            "display": null,
            "flex": null,
            "flex_flow": null,
            "grid_area": null,
            "grid_auto_columns": null,
            "grid_auto_flow": null,
            "grid_auto_rows": null,
            "grid_column": null,
            "grid_gap": null,
            "grid_row": null,
            "grid_template_areas": null,
            "grid_template_columns": null,
            "grid_template_rows": null,
            "height": null,
            "justify_content": null,
            "justify_items": null,
            "left": null,
            "margin": null,
            "max_height": null,
            "max_width": null,
            "min_height": null,
            "min_width": null,
            "object_fit": null,
            "object_position": null,
            "order": null,
            "overflow": null,
            "overflow_x": null,
            "overflow_y": null,
            "padding": null,
            "right": null,
            "top": null,
            "visibility": null,
            "width": null
          }
        },
        "7188adc3578f4a3c98c1e4f573b209cc": {
          "model_module": "@jupyter-widgets/base",
          "model_name": "LayoutModel",
          "model_module_version": "1.2.0",
          "state": {
            "_model_module": "@jupyter-widgets/base",
            "_model_module_version": "1.2.0",
            "_model_name": "LayoutModel",
            "_view_count": null,
            "_view_module": "@jupyter-widgets/base",
            "_view_module_version": "1.2.0",
            "_view_name": "LayoutView",
            "align_content": null,
            "align_items": null,
            "align_self": null,
            "border": null,
            "bottom": null,
            "display": null,
            "flex": null,
            "flex_flow": null,
            "grid_area": null,
            "grid_auto_columns": null,
            "grid_auto_flow": null,
            "grid_auto_rows": null,
            "grid_column": null,
            "grid_gap": null,
            "grid_row": null,
            "grid_template_areas": null,
            "grid_template_columns": null,
            "grid_template_rows": null,
            "height": null,
            "justify_content": null,
            "justify_items": null,
            "left": null,
            "margin": null,
            "max_height": null,
            "max_width": null,
            "min_height": null,
            "min_width": null,
            "object_fit": null,
            "object_position": null,
            "order": null,
            "overflow": null,
            "overflow_x": null,
            "overflow_y": null,
            "padding": null,
            "right": null,
            "top": null,
            "visibility": null,
            "width": null
          }
        },
        "156d2069036d4b0b937c952499086cb5": {
          "model_module": "@jupyter-widgets/controls",
          "model_name": "DescriptionStyleModel",
          "model_module_version": "1.5.0",
          "state": {
            "_model_module": "@jupyter-widgets/controls",
            "_model_module_version": "1.5.0",
            "_model_name": "DescriptionStyleModel",
            "_view_count": null,
            "_view_module": "@jupyter-widgets/base",
            "_view_module_version": "1.2.0",
            "_view_name": "StyleView",
            "description_width": ""
          }
        },
        "71b18e5538a3437c942904ea7339e596": {
          "model_module": "@jupyter-widgets/base",
          "model_name": "LayoutModel",
          "model_module_version": "1.2.0",
          "state": {
            "_model_module": "@jupyter-widgets/base",
            "_model_module_version": "1.2.0",
            "_model_name": "LayoutModel",
            "_view_count": null,
            "_view_module": "@jupyter-widgets/base",
            "_view_module_version": "1.2.0",
            "_view_name": "LayoutView",
            "align_content": null,
            "align_items": null,
            "align_self": null,
            "border": null,
            "bottom": null,
            "display": null,
            "flex": null,
            "flex_flow": null,
            "grid_area": null,
            "grid_auto_columns": null,
            "grid_auto_flow": null,
            "grid_auto_rows": null,
            "grid_column": null,
            "grid_gap": null,
            "grid_row": null,
            "grid_template_areas": null,
            "grid_template_columns": null,
            "grid_template_rows": null,
            "height": null,
            "justify_content": null,
            "justify_items": null,
            "left": null,
            "margin": null,
            "max_height": null,
            "max_width": null,
            "min_height": null,
            "min_width": null,
            "object_fit": null,
            "object_position": null,
            "order": null,
            "overflow": null,
            "overflow_x": null,
            "overflow_y": null,
            "padding": null,
            "right": null,
            "top": null,
            "visibility": null,
            "width": null
          }
        },
        "5e9101d41b88493f8f08e283493b09de": {
          "model_module": "@jupyter-widgets/controls",
          "model_name": "ProgressStyleModel",
          "model_module_version": "1.5.0",
          "state": {
            "_model_module": "@jupyter-widgets/controls",
            "_model_module_version": "1.5.0",
            "_model_name": "ProgressStyleModel",
            "_view_count": null,
            "_view_module": "@jupyter-widgets/base",
            "_view_module_version": "1.2.0",
            "_view_name": "StyleView",
            "bar_color": null,
            "description_width": ""
          }
        },
        "8924a74813494a7b9ffa1976e2cec947": {
          "model_module": "@jupyter-widgets/base",
          "model_name": "LayoutModel",
          "model_module_version": "1.2.0",
          "state": {
            "_model_module": "@jupyter-widgets/base",
            "_model_module_version": "1.2.0",
            "_model_name": "LayoutModel",
            "_view_count": null,
            "_view_module": "@jupyter-widgets/base",
            "_view_module_version": "1.2.0",
            "_view_name": "LayoutView",
            "align_content": null,
            "align_items": null,
            "align_self": null,
            "border": null,
            "bottom": null,
            "display": null,
            "flex": null,
            "flex_flow": null,
            "grid_area": null,
            "grid_auto_columns": null,
            "grid_auto_flow": null,
            "grid_auto_rows": null,
            "grid_column": null,
            "grid_gap": null,
            "grid_row": null,
            "grid_template_areas": null,
            "grid_template_columns": null,
            "grid_template_rows": null,
            "height": null,
            "justify_content": null,
            "justify_items": null,
            "left": null,
            "margin": null,
            "max_height": null,
            "max_width": null,
            "min_height": null,
            "min_width": null,
            "object_fit": null,
            "object_position": null,
            "order": null,
            "overflow": null,
            "overflow_x": null,
            "overflow_y": null,
            "padding": null,
            "right": null,
            "top": null,
            "visibility": null,
            "width": null
          }
        },
        "95962fd500b94fe6befd760889049d8d": {
          "model_module": "@jupyter-widgets/controls",
          "model_name": "DescriptionStyleModel",
          "model_module_version": "1.5.0",
          "state": {
            "_model_module": "@jupyter-widgets/controls",
            "_model_module_version": "1.5.0",
            "_model_name": "DescriptionStyleModel",
            "_view_count": null,
            "_view_module": "@jupyter-widgets/base",
            "_view_module_version": "1.2.0",
            "_view_name": "StyleView",
            "description_width": ""
          }
        }
      }
    }
  },
  "cells": [
    {
      "cell_type": "code",
      "execution_count": null,
      "metadata": {
        "id": "kakOZU4ElS2-"
      },
      "outputs": [],
      "source": [
        "\n",
        "import torch\n",
        "import numpy as np\n",
        "import pandas as pd\n",
        "import torch.nn as nn\n",
        "import torch.optim as optim\n",
        "import os\n",
        "import matplotlib.pyplot as plt\n",
        "import torch.nn.functional as F\n",
        "%matplotlib inline\n",
        "import random\n",
        "import math"
      ]
    },
    {
      "cell_type": "code",
      "source": [
        "import torchvision\n",
        "import torchvision.transforms as transforms"
      ],
      "metadata": {
        "id": "x6Opl6MFleUZ"
      },
      "execution_count": null,
      "outputs": []
    },
    {
      "cell_type": "code",
      "source": [
        "device = torch.device('cuda' if torch.cuda.is_available() else 'cpu')\n",
        "print('Device available now:', device)"
      ],
      "metadata": {
        "colab": {
          "base_uri": "https://localhost:8080/"
        },
        "id": "WaSpjfAUlffo",
        "outputId": "fbf15743-a201-48c2-d0b8-befc9e6cdd92"
      },
      "execution_count": null,
      "outputs": [
        {
          "output_type": "stream",
          "name": "stdout",
          "text": [
            "Device available now: cuda\n"
          ]
        }
      ]
    },
    {
      "cell_type": "code",
      "source": [
        "image_transforms = transforms.Compose(\n",
        "         [transforms.ToTensor(),\n",
        "         transforms.CenterCrop(28),\n",
        "         transforms.Normalize((0.5), (0.5))]\n",
        ")"
      ],
      "metadata": {
        "id": "1ZjacIpLlg0B"
      },
      "execution_count": null,
      "outputs": []
    },
    {
      "cell_type": "code",
      "source": [
        "batchsize = 32\n",
        "rowsize = 28\n",
        "colsize = 28\n",
        "inchannels = 3\n",
        "fc_size = 800\n",
        "no_classes = 10\n",
        "epochs = 30 \n"
      ],
      "metadata": {
        "id": "vsHZ5EHjliRU"
      },
      "execution_count": null,
      "outputs": []
    },
    {
      "cell_type": "code",
      "source": [
        "\n",
        "train_ioc = []\n",
        "test_ioc = 0\n",
        "train_nn = []\n",
        "noise = 40\n",
        "test_nn = 0"
      ],
      "metadata": {
        "id": "e_0WinFGljlE"
      },
      "execution_count": null,
      "outputs": []
    },
    {
      "cell_type": "code",
      "source": [
        "train = torchvision.datasets.CIFAR10(root='./', train=True, download=True, transform=image_transforms)\n",
        "test = torchvision.datasets.CIFAR10(root='./', train=False, transform=image_transforms)\n",
        "\n"
      ],
      "metadata": {
        "colab": {
          "base_uri": "https://localhost:8080/",
          "height": 84,
          "referenced_widgets": [
            "45a9aa84d6a2432ba2bbcc72eb5e1b5f",
            "dceecc07f80944c396905db6cb529eda",
            "3b985d105db9416ea378ca16434fb4b9",
            "28ae2ac4e64a436682d279ff264a64ec",
            "ba4a6cbd1aa348afaca8ac5b523820e2",
            "7188adc3578f4a3c98c1e4f573b209cc",
            "156d2069036d4b0b937c952499086cb5",
            "71b18e5538a3437c942904ea7339e596",
            "5e9101d41b88493f8f08e283493b09de",
            "8924a74813494a7b9ffa1976e2cec947",
            "95962fd500b94fe6befd760889049d8d"
          ]
        },
        "id": "xaMH9zFTllKd",
        "outputId": "8fd00c68-7ab0-4dfc-dc75-3f4e96d4b3fc"
      },
      "execution_count": null,
      "outputs": [
        {
          "output_type": "stream",
          "name": "stdout",
          "text": [
            "Downloading https://www.cs.toronto.edu/~kriz/cifar-10-python.tar.gz to ./cifar-10-python.tar.gz\n"
          ]
        },
        {
          "output_type": "display_data",
          "data": {
            "text/plain": [
              "  0%|          | 0/170498071 [00:00<?, ?it/s]"
            ],
            "application/vnd.jupyter.widget-view+json": {
              "version_major": 2,
              "version_minor": 0,
              "model_id": "45a9aa84d6a2432ba2bbcc72eb5e1b5f"
            }
          },
          "metadata": {}
        },
        {
          "output_type": "stream",
          "name": "stdout",
          "text": [
            "Extracting ./cifar-10-python.tar.gz to ./\n"
          ]
        }
      ]
    },
    {
      "cell_type": "code",
      "source": [
        "traindata = torch.utils.data.DataLoader(train,batch_size=batchsize, shuffle=True, num_workers=2,pin_memory=True)\n",
        "testdata = torch.utils.data.DataLoader(test,batch_size=batchsize, shuffle=False, num_workers=2,pin_memory=True)"
      ],
      "metadata": {
        "id": "Mt9gtwdklmi9"
      },
      "execution_count": null,
      "outputs": []
    },
    {
      "cell_type": "code",
      "source": [
        "# for i,data in enumerate(traindata):\n",
        "#   #data[0] , data[1]\n",
        "#   for j in range(len(data)):\n",
        "#     data[1][j] = random.randint(0, 9)"
      ],
      "metadata": {
        "id": "RrhORtLQxiAf"
      },
      "execution_count": null,
      "outputs": []
    },
    {
      "cell_type": "code",
      "source": [
        "class IOC_MLP(nn.Module):\n",
        "  def __init__(self,rowsize,colsize,fc_size,inchannels,no_classes):\n",
        "    super(IOC_MLP, self).__init__()\n",
        "    self.fc1 = nn.Linear(rowsize*colsize*inchannels,fc_size)\n",
        "    self.batchnorm1 = nn.BatchNorm1d(fc_size)\n",
        "    self.fc2 = nn.Linear(fc_size,fc_size)\n",
        "    self.batchnorm2 = nn.BatchNorm1d(fc_size)\n",
        "    self.fc3 = nn.Linear(fc_size,fc_size)\n",
        "    self.batchnorm3 = nn.BatchNorm1d(fc_size)\n",
        "    self.fc4 = nn.Linear(fc_size,no_classes)\n",
        "\n",
        "\n",
        "  def forward(self, x):\n",
        "    x = torch.flatten(x,1)\n",
        "    x = x.view(-1, rowsize*colsize*inchannels)\n",
        "    x = F.elu(self.fc1(x))\n",
        "    x = self.batchnorm1(x)\n",
        "    x = F.elu(self.fc2(x))\n",
        "    x = self.batchnorm2(x)\n",
        "    x = F.elu(self.fc3(x))\n",
        "    x = self.batchnorm3(x)\n",
        "    return x"
      ],
      "metadata": {
        "id": "kuwkBMhXloP2"
      },
      "execution_count": null,
      "outputs": []
    },
    {
      "cell_type": "code",
      "source": [
        "class NN(nn.Module):\n",
        "  def __init__(self,rowsize,colsize,fc_size,inchannels,no_classes):\n",
        "    super(NN, self).__init__()\n",
        "    self.fc1 = nn.Linear(rowsize*colsize*inchannels,fc_size)\n",
        "    self.batchnorm1 = nn.BatchNorm1d(fc_size)\n",
        "    self.fc2 = nn.Linear(fc_size,fc_size)\n",
        "    self.batchnorm2 = nn.BatchNorm1d(fc_size)\n",
        "    self.fc3 = nn.Linear(fc_size,fc_size)\n",
        "    self.batchnorm3 = nn.BatchNorm1d(fc_size)\n",
        "    self.fc4 = nn.Linear(fc_size,no_classes)\n",
        "\n",
        "\n",
        "  def forward(self, x):\n",
        "    x = torch.flatten(x,1)\n",
        "    x = x.view(-1, rowsize*colsize*inchannels)\n",
        "    x = F.relu(self.fc1(x))\n",
        "    x = self.batchnorm1(x)\n",
        "    x = F.relu(self.fc2(x))\n",
        "    x = self.batchnorm2(x)\n",
        "    x = F.relu(self.fc3(x))\n",
        "    x = self.batchnorm3(x)\n",
        "    return x"
      ],
      "metadata": {
        "id": "IDgMRIi9l96Y"
      },
      "execution_count": null,
      "outputs": []
    },
    {
      "cell_type": "code",
      "source": [
        "ioc_model = IOC_MLP(rowsize,colsize,fc_size,inchannels,no_classes).to(device)\n",
        "nn_model = NN(rowsize,colsize,fc_size,inchannels,no_classes).to(device)\n",
        "# model = SimpleAlex(no_classes).to(device)"
      ],
      "metadata": {
        "id": "e_GZljS_lqDd"
      },
      "execution_count": null,
      "outputs": []
    },
    {
      "cell_type": "code",
      "source": [
        "ioc_optimizer = torch.optim.Adam(ioc_model.parameters(),lr= 0.0001)\n",
        "nn_optimizer = torch.optim.Adam(nn_model.parameters(),lr= 0.0001)\n",
        "criterion = nn.CrossEntropyLoss().to(device)"
      ],
      "metadata": {
        "id": "xZvx6fhalu5F"
      },
      "execution_count": null,
      "outputs": []
    },
    {
      "cell_type": "code",
      "source": [
        "\n",
        "for i in range(epochs):\n",
        "  Loss = 0\n",
        "  num_correct=0\n",
        "  tot = 0\n",
        "  for i,data in enumerate(traindata):\n",
        "    # iterating through every batch\n",
        "    x_data = data[0].to(device)\n",
        "    labels = data[1].to(device)\n",
        "    ioc_optimizer.zero_grad()\n",
        "    outputs = ioc_model(x_data)\n",
        "    _, pred = torch.max(outputs.data, 1)\n",
        "    num_correct += (pred == labels).sum().item()\n",
        "    tot += labels.size(0)\n",
        "    loss = criterion(outputs, labels)\n",
        "    loss.backward()\n",
        "    ioc_optimizer.step()\n",
        "    Loss += loss\n",
        "    for w in ioc_model.parameters():\n",
        "      p = w\n",
        "      torch.where(w > 0, w, torch.exp(p))\n",
        "  train_ioc.append(num_correct/tot)    \n",
        "  print(\"Accuracy for exponentiation on negative weights : \",num_correct/tot)\n",
        "  print(\"Loss for exponentiation on negative weights : \",loss.item())\n",
        "  "
      ],
      "metadata": {
        "colab": {
          "base_uri": "https://localhost:8080/"
        },
        "id": "k2-Ap-RclwHI",
        "outputId": "865f3fbe-61c5-45e5-8773-c795904d6c6f"
      },
      "execution_count": null,
      "outputs": [
        {
          "output_type": "stream",
          "name": "stdout",
          "text": [
            "Accuracy for exponentiation on negative weights :  0.34672\n",
            "Loss for exponentiation on negative weights :  5.514845848083496\n",
            "Accuracy for exponentiation on negative weights :  0.43058\n",
            "Loss for exponentiation on negative weights :  3.8954050540924072\n",
            "Accuracy for exponentiation on negative weights :  0.46252\n",
            "Loss for exponentiation on negative weights :  4.069122314453125\n",
            "Accuracy for exponentiation on negative weights :  0.48898\n",
            "Loss for exponentiation on negative weights :  3.0256106853485107\n",
            "Accuracy for exponentiation on negative weights :  0.51098\n",
            "Loss for exponentiation on negative weights :  4.025304794311523\n",
            "Accuracy for exponentiation on negative weights :  0.53334\n",
            "Loss for exponentiation on negative weights :  3.207984447479248\n",
            "Accuracy for exponentiation on negative weights :  0.54548\n",
            "Loss for exponentiation on negative weights :  2.72430682182312\n",
            "Accuracy for exponentiation on negative weights :  0.56022\n",
            "Loss for exponentiation on negative weights :  2.840183973312378\n",
            "Accuracy for exponentiation on negative weights :  0.57258\n",
            "Loss for exponentiation on negative weights :  2.106407642364502\n",
            "Accuracy for exponentiation on negative weights :  0.58656\n",
            "Loss for exponentiation on negative weights :  2.167065382003784\n",
            "Accuracy for exponentiation on negative weights :  0.597\n",
            "Loss for exponentiation on negative weights :  2.104769468307495\n",
            "Accuracy for exponentiation on negative weights :  0.61274\n",
            "Loss for exponentiation on negative weights :  1.895200252532959\n",
            "Accuracy for exponentiation on negative weights :  0.62518\n",
            "Loss for exponentiation on negative weights :  1.8216867446899414\n",
            "Accuracy for exponentiation on negative weights :  0.63972\n",
            "Loss for exponentiation on negative weights :  1.4579519033432007\n",
            "Accuracy for exponentiation on negative weights :  0.6508\n",
            "Loss for exponentiation on negative weights :  0.6030367016792297\n",
            "Accuracy for exponentiation on negative weights :  0.66276\n",
            "Loss for exponentiation on negative weights :  0.8030761480331421\n",
            "Accuracy for exponentiation on negative weights :  0.67438\n",
            "Loss for exponentiation on negative weights :  1.0728212594985962\n",
            "Accuracy for exponentiation on negative weights :  0.68674\n",
            "Loss for exponentiation on negative weights :  1.0795044898986816\n",
            "Accuracy for exponentiation on negative weights :  0.69822\n",
            "Loss for exponentiation on negative weights :  1.1802715063095093\n",
            "Accuracy for exponentiation on negative weights :  0.70842\n",
            "Loss for exponentiation on negative weights :  0.6177530288696289\n",
            "Accuracy for exponentiation on negative weights :  0.71898\n",
            "Loss for exponentiation on negative weights :  1.2795625925064087\n",
            "Accuracy for exponentiation on negative weights :  0.73278\n",
            "Loss for exponentiation on negative weights :  0.9492557644844055\n",
            "Accuracy for exponentiation on negative weights :  0.74352\n",
            "Loss for exponentiation on negative weights :  1.3145298957824707\n",
            "Accuracy for exponentiation on negative weights :  0.7521\n",
            "Loss for exponentiation on negative weights :  1.260279655456543\n",
            "Accuracy for exponentiation on negative weights :  0.76606\n",
            "Loss for exponentiation on negative weights :  0.43644022941589355\n",
            "Accuracy for exponentiation on negative weights :  0.76694\n",
            "Loss for exponentiation on negative weights :  1.3146535158157349\n",
            "Accuracy for exponentiation on negative weights :  0.77926\n",
            "Loss for exponentiation on negative weights :  1.0942996740341187\n",
            "Accuracy for exponentiation on negative weights :  0.7912\n",
            "Loss for exponentiation on negative weights :  0.9490418434143066\n",
            "Accuracy for exponentiation on negative weights :  0.79728\n",
            "Loss for exponentiation on negative weights :  1.0463199615478516\n",
            "Accuracy for exponentiation on negative weights :  0.80274\n",
            "Loss for exponentiation on negative weights :  0.4359670579433441\n"
          ]
        }
      ]
    },
    {
      "cell_type": "code",
      "source": [
        "with torch.no_grad():\n",
        "    correct = 0\n",
        "    total = 0\n",
        "    for images, labels in testdata:\n",
        "        images = images.to(device)\n",
        "        labels = labels.to(device)\n",
        "        outputs = ioc_model(images)\n",
        "        _, predicted = torch.max(outputs.data, 1)\n",
        "        total += labels.size(0)\n",
        "        correct += (predicted == labels).sum().item()\n",
        "    test_ioc = correct/total\n",
        "    print(\"Test Accuracy for exponentiation of weights for IOC Architecture : \",100 * correct / total)\n",
        "\n"
      ],
      "metadata": {
        "colab": {
          "base_uri": "https://localhost:8080/"
        },
        "id": "MmWHTFfyl2TO",
        "outputId": "046a008a-a36d-4c5d-bb7e-a3d4ee9a6985"
      },
      "execution_count": null,
      "outputs": [
        {
          "output_type": "stream",
          "name": "stdout",
          "text": [
            "Test Accuracy for exponentiation of weights for IOC Architecture :  51.16\n"
          ]
        }
      ]
    },
    {
      "cell_type": "code",
      "source": [
        "\n",
        "for i in range(epochs):\n",
        "  Loss = 0\n",
        "  num_correct=0\n",
        "  tot = 0\n",
        "  for i,data in enumerate(traindata):\n",
        "    # iterating through every batch\n",
        "    x_data = data[0].to(device)\n",
        "    labels = data[1].to(device)\n",
        "    nn_optimizer.zero_grad()\n",
        "    outputs = nn_model(x_data)\n",
        "    _, pred = torch.max(outputs.data, 1)\n",
        "    num_correct += (pred == labels).sum().item()\n",
        "    tot += labels.size(0)\n",
        "    loss = criterion(outputs, labels)\n",
        "    loss.backward()\n",
        "    nn_optimizer.step()\n",
        "    Loss += loss\n",
        "  train_nn.append(num_correct/tot)    \n",
        "  print(\"Accuracy for exponentiation on negative weights : \",num_correct/tot)\n",
        "  print(\"Loss for exponentiation on negative weights : \",loss.item())\n",
        "  "
      ],
      "metadata": {
        "colab": {
          "base_uri": "https://localhost:8080/"
        },
        "id": "1kshSpCLobr9",
        "outputId": "9e9032b4-d3f7-4c34-b809-281f4361824d"
      },
      "execution_count": null,
      "outputs": [
        {
          "output_type": "stream",
          "name": "stdout",
          "text": [
            "Accuracy for exponentiation on negative weights :  0.35772\n",
            "Loss for exponentiation on negative weights :  5.11448335647583\n",
            "Accuracy for exponentiation on negative weights :  0.4597\n",
            "Loss for exponentiation on negative weights :  4.4173383712768555\n",
            "Accuracy for exponentiation on negative weights :  0.50486\n",
            "Loss for exponentiation on negative weights :  3.9030048847198486\n",
            "Accuracy for exponentiation on negative weights :  0.53612\n",
            "Loss for exponentiation on negative weights :  3.526823043823242\n",
            "Accuracy for exponentiation on negative weights :  0.56382\n",
            "Loss for exponentiation on negative weights :  3.0719876289367676\n",
            "Accuracy for exponentiation on negative weights :  0.59204\n",
            "Loss for exponentiation on negative weights :  2.8156673908233643\n",
            "Accuracy for exponentiation on negative weights :  0.61636\n",
            "Loss for exponentiation on negative weights :  2.516848087310791\n",
            "Accuracy for exponentiation on negative weights :  0.635\n",
            "Loss for exponentiation on negative weights :  2.223137617111206\n",
            "Accuracy for exponentiation on negative weights :  0.65796\n",
            "Loss for exponentiation on negative weights :  1.6754765510559082\n",
            "Accuracy for exponentiation on negative weights :  0.67672\n",
            "Loss for exponentiation on negative weights :  1.9911086559295654\n",
            "Accuracy for exponentiation on negative weights :  0.69446\n",
            "Loss for exponentiation on negative weights :  2.1953887939453125\n",
            "Accuracy for exponentiation on negative weights :  0.7122\n",
            "Loss for exponentiation on negative weights :  1.5693695545196533\n",
            "Accuracy for exponentiation on negative weights :  0.72996\n",
            "Loss for exponentiation on negative weights :  1.4475841522216797\n",
            "Accuracy for exponentiation on negative weights :  0.74158\n",
            "Loss for exponentiation on negative weights :  1.658354640007019\n",
            "Accuracy for exponentiation on negative weights :  0.75884\n",
            "Loss for exponentiation on negative weights :  1.21003258228302\n",
            "Accuracy for exponentiation on negative weights :  0.7714\n",
            "Loss for exponentiation on negative weights :  1.149647831916809\n",
            "Accuracy for exponentiation on negative weights :  0.78382\n",
            "Loss for exponentiation on negative weights :  1.2689087390899658\n",
            "Accuracy for exponentiation on negative weights :  0.79662\n",
            "Loss for exponentiation on negative weights :  0.49114859104156494\n",
            "Accuracy for exponentiation on negative weights :  0.80658\n",
            "Loss for exponentiation on negative weights :  0.9995035529136658\n",
            "Accuracy for exponentiation on negative weights :  0.81788\n",
            "Loss for exponentiation on negative weights :  0.7311167120933533\n",
            "Accuracy for exponentiation on negative weights :  0.82358\n",
            "Loss for exponentiation on negative weights :  0.5693152546882629\n",
            "Accuracy for exponentiation on negative weights :  0.83582\n",
            "Loss for exponentiation on negative weights :  0.4927906095981598\n",
            "Accuracy for exponentiation on negative weights :  0.84048\n",
            "Loss for exponentiation on negative weights :  0.6341991424560547\n",
            "Accuracy for exponentiation on negative weights :  0.84718\n",
            "Loss for exponentiation on negative weights :  1.2064673900604248\n",
            "Accuracy for exponentiation on negative weights :  0.85372\n",
            "Loss for exponentiation on negative weights :  0.8312802910804749\n",
            "Accuracy for exponentiation on negative weights :  0.85766\n",
            "Loss for exponentiation on negative weights :  1.1364988088607788\n",
            "Accuracy for exponentiation on negative weights :  0.86592\n",
            "Loss for exponentiation on negative weights :  1.603214144706726\n",
            "Accuracy for exponentiation on negative weights :  0.86922\n",
            "Loss for exponentiation on negative weights :  0.4620020091533661\n",
            "Accuracy for exponentiation on negative weights :  0.87292\n",
            "Loss for exponentiation on negative weights :  0.3580479919910431\n",
            "Accuracy for exponentiation on negative weights :  0.87744\n",
            "Loss for exponentiation on negative weights :  0.6425588726997375\n"
          ]
        }
      ]
    },
    {
      "cell_type": "code",
      "source": [
        "with torch.no_grad():\n",
        "    correct = 0\n",
        "    total = 0\n",
        "    for images, labels in testdata:\n",
        "        images = images.to(device)\n",
        "        labels = labels.to(device)\n",
        "        outputs = nn_model(images)\n",
        "        _, predicted = torch.max(outputs.data, 1)\n",
        "        total += labels.size(0)\n",
        "        correct += (predicted == labels).sum().item()\n",
        "    test_nn = correct/total\n",
        "    print(\"Test Accuracy for exponentiation of weights with NN Architecture : \",100 * correct / total)\n",
        "\n"
      ],
      "metadata": {
        "colab": {
          "base_uri": "https://localhost:8080/"
        },
        "id": "CPGO4btmocda",
        "outputId": "9a682b51-0c9e-4727-907c-8dc743e26ae3"
      },
      "execution_count": null,
      "outputs": [
        {
          "output_type": "stream",
          "name": "stdout",
          "text": [
            "Test Accuracy for exponentiation of weights with NN Architecture :  51.07\n"
          ]
        }
      ]
    },
    {
      "cell_type": "code",
      "source": [
        "import matplotlib.pyplot as plt\n",
        "epoch_numbers = np.arange(0,epochs,1)\n",
        "plt.title(\"Training Accuracies\")\n",
        "plt.xlabel(\"Epochs\")\n",
        "plt.ylabel(\"Accuracies\")\n",
        "plt.plot(epoch_numbers,train_ioc,label='IOC Model')\n",
        "plt.plot(epoch_numbers,train_nn,label='NN Model')     \n",
        "plt.legend()\n",
        "plt.show()           "
      ],
      "metadata": {
        "colab": {
          "base_uri": "https://localhost:8080/",
          "height": 295
        },
        "id": "rC8_eq1hpmZ1",
        "outputId": "8b3409cf-10be-40f9-8008-d88213969791"
      },
      "execution_count": null,
      "outputs": [
        {
          "output_type": "display_data",
          "data": {
            "text/plain": [
              "<Figure size 432x288 with 1 Axes>"
            ],
            "image/png": "[encoded data removed]"
          },
          "metadata": {
            "needs_background": "light"
          }
        }
      ]
    },
    {
      "cell_type": "code",
      "source": [
        "print(\"Generalization Gap for NN Model: \",(train_nn[len(train_nn)-1]*100)-test_nn)\n",
        "print(\"Generalization Gap for IOC Model: \",(train_ioc[len(train_ioc)-1]*100)-test_ioc)\n"
      ],
      "metadata": {
        "colab": {
          "base_uri": "https://localhost:8080/"
        },
        "id": "KhpYZiNHpvY8",
        "outputId": "0ff6e0ea-2781-4c28-bb12-70a098060910"
      },
      "execution_count": 20,
      "outputs": [
        {
          "output_type": "stream",
          "name": "stdout",
          "text": [
            "Generalization Gap for NN Model: 90.7623\n",
            "Generalization Gap for IOC Model: 79.7624\n"
          ]
        }
      ]
    }
  ]
}