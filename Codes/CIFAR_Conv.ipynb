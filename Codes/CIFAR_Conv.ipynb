{
  "nbformat": 4,
  "nbformat_minor": 0,
  "metadata": {
    "colab": {
      "provenance": []
    },
    "kernelspec": {
      "name": "python3",
      "display_name": "Python 3"
    },
    "language_info": {
      "name": "python"
    },
    "accelerator": "GPU",
    "gpuClass": "standard",
    "widgets": {
      "application/vnd.jupyter.widget-state+json": {
        "3305195fd4394a1c94bdb7c1e5ebb54f": {
          "model_module": "@jupyter-widgets/controls",
          "model_name": "HBoxModel",
          "model_module_version": "1.5.0",
          "state": {
            "_dom_classes": [],
            "_model_module": "@jupyter-widgets/controls",
            "_model_module_version": "1.5.0",
            "_model_name": "HBoxModel",
            "_view_count": null,
            "_view_module": "@jupyter-widgets/controls",
            "_view_module_version": "1.5.0",
            "_view_name": "HBoxView",
            "box_style": "",
            "children": [
              "IPY_MODEL_7229d3eb286e4971a849d4b4c2d83499",
              "IPY_MODEL_280ef09ed6cd44feaf7757082f64384d",
              "IPY_MODEL_a884e7e3af1f43af8d341ec637b3957b"
            ],
            "layout": "IPY_MODEL_55a685bc173843b8942b39bc7bdcdb28"
          }
        },
        "7229d3eb286e4971a849d4b4c2d83499": {
          "model_module": "@jupyter-widgets/controls",
          "model_name": "HTMLModel",
          "model_module_version": "1.5.0",
          "state": {
            "_dom_classes": [],
            "_model_module": "@jupyter-widgets/controls",
            "_model_module_version": "1.5.0",
            "_model_name": "HTMLModel",
            "_view_count": null,
            "_view_module": "@jupyter-widgets/controls",
            "_view_module_version": "1.5.0",
            "_view_name": "HTMLView",
            "description": "",
            "description_tooltip": null,
            "layout": "IPY_MODEL_554f73be86ee40fb968890149d415343",
            "placeholder": "​",
            "style": "IPY_MODEL_a594436c586148e7aca9357a71ae7b0f",
            "value": "100%"
          }
        },
        "280ef09ed6cd44feaf7757082f64384d": {
          "model_module": "@jupyter-widgets/controls",
          "model_name": "FloatProgressModel",
          "model_module_version": "1.5.0",
          "state": {
            "_dom_classes": [],
            "_model_module": "@jupyter-widgets/controls",
            "_model_module_version": "1.5.0",
            "_model_name": "FloatProgressModel",
            "_view_count": null,
            "_view_module": "@jupyter-widgets/controls",
            "_view_module_version": "1.5.0",
            "_view_name": "ProgressView",
            "bar_style": "success",
            "description": "",
            "description_tooltip": null,
            "layout": "IPY_MODEL_9b6f7f91a1974c15a2d3dfa972757d50",
            "max": 170498071,
            "min": 0,
            "orientation": "horizontal",
            "style": "IPY_MODEL_5091725709014d0cb5dc6a445efceff2",
            "value": 170498071
          }
        },
        "a884e7e3af1f43af8d341ec637b3957b": {
          "model_module": "@jupyter-widgets/controls",
          "model_name": "HTMLModel",
          "model_module_version": "1.5.0",
          "state": {
            "_dom_classes": [],
            "_model_module": "@jupyter-widgets/controls",
            "_model_module_version": "1.5.0",
            "_model_name": "HTMLModel",
            "_view_count": null,
            "_view_module": "@jupyter-widgets/controls",
            "_view_module_version": "1.5.0",
            "_view_name": "HTMLView",
            "description": "",
            "description_tooltip": null,
            "layout": "IPY_MODEL_c6f8e01f5bd44a518170d3906fb1404c",
            "placeholder": "​",
            "style": "IPY_MODEL_a20b2d2657e64c22a953e49814de49b8",
            "value": " 170498071/170498071 [00:13&lt;00:00, 14412729.23it/s]"
          }
        },
        "55a685bc173843b8942b39bc7bdcdb28": {
          "model_module": "@jupyter-widgets/base",
          "model_name": "LayoutModel",
          "model_module_version": "1.2.0",
          "state": {
            "_model_module": "@jupyter-widgets/base",
            "_model_module_version": "1.2.0",
            "_model_name": "LayoutModel",
            "_view_count": null,
            "_view_module": "@jupyter-widgets/base",
            "_view_module_version": "1.2.0",
            "_view_name": "LayoutView",
            "align_content": null,
            "align_items": null,
            "align_self": null,
            "border": null,
            "bottom": null,
            "display": null,
            "flex": null,
            "flex_flow": null,
            "grid_area": null,
            "grid_auto_columns": null,
            "grid_auto_flow": null,
            "grid_auto_rows": null,
            "grid_column": null,
            "grid_gap": null,
            "grid_row": null,
            "grid_template_areas": null,
            "grid_template_columns": null,
            "grid_template_rows": null,
            "height": null,
            "justify_content": null,
            "justify_items": null,
            "left": null,
            "margin": null,
            "max_height": null,
            "max_width": null,
            "min_height": null,
            "min_width": null,
            "object_fit": null,
            "object_position": null,
            "order": null,
            "overflow": null,
            "overflow_x": null,
            "overflow_y": null,
            "padding": null,
            "right": null,
            "top": null,
            "visibility": null,
            "width": null
          }
        },
        "554f73be86ee40fb968890149d415343": {
          "model_module": "@jupyter-widgets/base",
          "model_name": "LayoutModel",
          "model_module_version": "1.2.0",
          "state": {
            "_model_module": "@jupyter-widgets/base",
            "_model_module_version": "1.2.0",
            "_model_name": "LayoutModel",
            "_view_count": null,
            "_view_module": "@jupyter-widgets/base",
            "_view_module_version": "1.2.0",
            "_view_name": "LayoutView",
            "align_content": null,
            "align_items": null,
            "align_self": null,
            "border": null,
            "bottom": null,
            "display": null,
            "flex": null,
            "flex_flow": null,
            "grid_area": null,
            "grid_auto_columns": null,
            "grid_auto_flow": null,
            "grid_auto_rows": null,
            "grid_column": null,
            "grid_gap": null,
            "grid_row": null,
            "grid_template_areas": null,
            "grid_template_columns": null,
            "grid_template_rows": null,
            "height": null,
            "justify_content": null,
            "justify_items": null,
            "left": null,
            "margin": null,
            "max_height": null,
            "max_width": null,
            "min_height": null,
            "min_width": null,
            "object_fit": null,
            "object_position": null,
            "order": null,
            "overflow": null,
            "overflow_x": null,
            "overflow_y": null,
            "padding": null,
            "right": null,
            "top": null,
            "visibility": null,
            "width": null
          }
        },
        "a594436c586148e7aca9357a71ae7b0f": {
          "model_module": "@jupyter-widgets/controls",
          "model_name": "DescriptionStyleModel",
          "model_module_version": "1.5.0",
          "state": {
            "_model_module": "@jupyter-widgets/controls",
            "_model_module_version": "1.5.0",
            "_model_name": "DescriptionStyleModel",
            "_view_count": null,
            "_view_module": "@jupyter-widgets/base",
            "_view_module_version": "1.2.0",
            "_view_name": "StyleView",
            "description_width": ""
          }
        },
        "9b6f7f91a1974c15a2d3dfa972757d50": {
          "model_module": "@jupyter-widgets/base",
          "model_name": "LayoutModel",
          "model_module_version": "1.2.0",
          "state": {
            "_model_module": "@jupyter-widgets/base",
            "_model_module_version": "1.2.0",
            "_model_name": "LayoutModel",
            "_view_count": null,
            "_view_module": "@jupyter-widgets/base",
            "_view_module_version": "1.2.0",
            "_view_name": "LayoutView",
            "align_content": null,
            "align_items": null,
            "align_self": null,
            "border": null,
            "bottom": null,
            "display": null,
            "flex": null,
            "flex_flow": null,
            "grid_area": null,
            "grid_auto_columns": null,
            "grid_auto_flow": null,
            "grid_auto_rows": null,
            "grid_column": null,
            "grid_gap": null,
            "grid_row": null,
            "grid_template_areas": null,
            "grid_template_columns": null,
            "grid_template_rows": null,
            "height": null,
            "justify_content": null,
            "justify_items": null,
            "left": null,
            "margin": null,
            "max_height": null,
            "max_width": null,
            "min_height": null,
            "min_width": null,
            "object_fit": null,
            "object_position": null,
            "order": null,
            "overflow": null,
            "overflow_x": null,
            "overflow_y": null,
            "padding": null,
            "right": null,
            "top": null,
            "visibility": null,
            "width": null
          }
        },
        "5091725709014d0cb5dc6a445efceff2": {
          "model_module": "@jupyter-widgets/controls",
          "model_name": "ProgressStyleModel",
          "model_module_version": "1.5.0",
          "state": {
            "_model_module": "@jupyter-widgets/controls",
            "_model_module_version": "1.5.0",
            "_model_name": "ProgressStyleModel",
            "_view_count": null,
            "_view_module": "@jupyter-widgets/base",
            "_view_module_version": "1.2.0",
            "_view_name": "StyleView",
            "bar_color": null,
            "description_width": ""
          }
        },
        "c6f8e01f5bd44a518170d3906fb1404c": {
          "model_module": "@jupyter-widgets/base",
          "model_name": "LayoutModel",
          "model_module_version": "1.2.0",
          "state": {
            "_model_module": "@jupyter-widgets/base",
            "_model_module_version": "1.2.0",
            "_model_name": "LayoutModel",
            "_view_count": null,
            "_view_module": "@jupyter-widgets/base",
            "_view_module_version": "1.2.0",
            "_view_name": "LayoutView",
            "align_content": null,
            "align_items": null,
            "align_self": null,
            "border": null,
            "bottom": null,
            "display": null,
            "flex": null,
            "flex_flow": null,
            "grid_area": null,
            "grid_auto_columns": null,
            "grid_auto_flow": null,
            "grid_auto_rows": null,
            "grid_column": null,
            "grid_gap": null,
            "grid_row": null,
            "grid_template_areas": null,
            "grid_template_columns": null,
            "grid_template_rows": null,
            "height": null,
            "justify_content": null,
            "justify_items": null,
            "left": null,
            "margin": null,
            "max_height": null,
            "max_width": null,
            "min_height": null,
            "min_width": null,
            "object_fit": null,
            "object_position": null,
            "order": null,
            "overflow": null,
            "overflow_x": null,
            "overflow_y": null,
            "padding": null,
            "right": null,
            "top": null,
            "visibility": null,
            "width": null
          }
        },
        "a20b2d2657e64c22a953e49814de49b8": {
          "model_module": "@jupyter-widgets/controls",
          "model_name": "DescriptionStyleModel",
          "model_module_version": "1.5.0",
          "state": {
            "_model_module": "@jupyter-widgets/controls",
            "_model_module_version": "1.5.0",
            "_model_name": "DescriptionStyleModel",
            "_view_count": null,
            "_view_module": "@jupyter-widgets/base",
            "_view_module_version": "1.2.0",
            "_view_name": "StyleView",
            "description_width": ""
          }
        }
      }
    }
  },
  "cells": [
    {
      "cell_type": "code",
      "execution_count": 1,
      "metadata": {
        "id": "-0ZExLER_k4X"
      },
      "outputs": [],
      "source": [
        "\n",
        "import torch\n",
        "import numpy as np\n",
        "import pandas as pd\n",
        "import torch.nn as nn\n",
        "import torch.optim as optim\n",
        "import os\n",
        "import matplotlib.pyplot as plt\n",
        "import torch.nn.functional as F\n",
        "%matplotlib inline\n",
        "import random\n",
        "import math"
      ]
    },
    {
      "cell_type": "code",
      "source": [
        "import torchvision\n",
        "import torchvision.transforms as transforms"
      ],
      "metadata": {
        "id": "M--V6EhV_tN4"
      },
      "execution_count": 2,
      "outputs": []
    },
    {
      "cell_type": "code",
      "source": [
        "device = torch.device('cuda' if torch.cuda.is_available() else 'cpu')\n",
        "print('Device available now:', device)"
      ],
      "metadata": {
        "colab": {
          "base_uri": "https://localhost:8080/"
        },
        "id": "oAzV8i_3_uko",
        "outputId": "19cf8478-44fa-45ae-9f3a-f1e0327f7e0c"
      },
      "execution_count": 3,
      "outputs": [
        {
          "output_type": "stream",
          "name": "stdout",
          "text": [
            "Device available now: cuda\n"
          ]
        }
      ]
    },
    {
      "cell_type": "code",
      "source": [
        "image_transforms = transforms.Compose(\n",
        "         [transforms.ToTensor(),\n",
        "         transforms.CenterCrop(28),\n",
        "         transforms.Normalize((0.5), (0.5))]\n",
        ")"
      ],
      "metadata": {
        "id": "3REdoYlF_v-n"
      },
      "execution_count": 4,
      "outputs": []
    },
    {
      "cell_type": "code",
      "source": [
        "batchsize = 256\n",
        "rowsize = 28\n",
        "colsize = 28\n",
        "inchannels = 3\n",
        "kernelsize = 5\n",
        "stride = 1\n",
        "padding = 0\n",
        "poolsize = 3\n",
        "fc_size1 = 384\n",
        "fc_size2 = 192\n",
        "no_classes = 10\n",
        "epochs = 30"
      ],
      "metadata": {
        "id": "hR6e9X3-_xUP"
      },
      "execution_count": 5,
      "outputs": []
    },
    {
      "cell_type": "code",
      "source": [
        "\n",
        "train_ioc = []\n",
        "test_ioc = 0\n",
        "train_nn = []\n",
        "noise = 40\n",
        "test_nn = 0"
      ],
      "metadata": {
        "id": "JRi6ZdzL_yrp"
      },
      "execution_count": 6,
      "outputs": []
    },
    {
      "cell_type": "code",
      "source": [
        "train = torchvision.datasets.CIFAR10(root='./', train=True, download=True, transform=image_transforms)\n",
        "test = torchvision.datasets.CIFAR10(root='./', train=False, transform=image_transforms)\n",
        "\n"
      ],
      "metadata": {
        "colab": {
          "base_uri": "https://localhost:8080/",
          "height": 84,
          "referenced_widgets": [
            "3305195fd4394a1c94bdb7c1e5ebb54f",
            "7229d3eb286e4971a849d4b4c2d83499",
            "280ef09ed6cd44feaf7757082f64384d",
            "a884e7e3af1f43af8d341ec637b3957b",
            "55a685bc173843b8942b39bc7bdcdb28",
            "554f73be86ee40fb968890149d415343",
            "a594436c586148e7aca9357a71ae7b0f",
            "9b6f7f91a1974c15a2d3dfa972757d50",
            "5091725709014d0cb5dc6a445efceff2",
            "c6f8e01f5bd44a518170d3906fb1404c",
            "a20b2d2657e64c22a953e49814de49b8"
          ]
        },
        "id": "rHkmogPR_0sh",
        "outputId": "33a9f2ac-8e5e-4e50-8754-aae7c6051d22"
      },
      "execution_count": 7,
      "outputs": [
        {
          "output_type": "stream",
          "name": "stdout",
          "text": [
            "Downloading https://www.cs.toronto.edu/~kriz/cifar-10-python.tar.gz to ./cifar-10-python.tar.gz\n"
          ]
        },
        {
          "output_type": "display_data",
          "data": {
            "text/plain": [
              "  0%|          | 0/170498071 [00:00<?, ?it/s]"
            ],
            "application/vnd.jupyter.widget-view+json": {
              "version_major": 2,
              "version_minor": 0,
              "model_id": "3305195fd4394a1c94bdb7c1e5ebb54f"
            }
          },
          "metadata": {}
        },
        {
          "output_type": "stream",
          "name": "stdout",
          "text": [
            "Extracting ./cifar-10-python.tar.gz to ./\n"
          ]
        }
      ]
    },
    {
      "cell_type": "code",
      "source": [
        "traindata = torch.utils.data.DataLoader(train,batch_size=batchsize, shuffle=True, num_workers=2,pin_memory=True)\n",
        "testdata = torch.utils.data.DataLoader(test,batch_size=batchsize, shuffle=False, num_workers=2,pin_memory=True)"
      ],
      "metadata": {
        "id": "rTGxBKQX_2LH"
      },
      "execution_count": 8,
      "outputs": []
    },
    {
      "cell_type": "code",
      "source": [
        "# for i,data in enumerate(traindata):\n",
        "#   #data[0] , data[1]\n",
        "#   for j in range(len(data)):\n",
        "#     data[1][j] = random.randint(0, 9)"
      ],
      "metadata": {
        "id": "f2mrno5r_3op"
      },
      "execution_count": 9,
      "outputs": []
    },
    {
      "cell_type": "code",
      "source": [
        "class IOC_CNN(nn.Module):\n",
        "  def __init__(self,inchannels,kernelsize,stride,padding,poolsize,fc_size1,fc_size2,no_classes):\n",
        "    super(IOC_CNN, self).__init__()\n",
        "    self.conv1 = nn.Conv2d(inchannels,24,kernelsize,stride,padding)\n",
        "    self.pool1 = nn.MaxPool2d(poolsize,2)\n",
        "    self.BatchNorm1 = nn.BatchNorm2d(24)\n",
        "    self.conv2 = nn.Conv2d(24,48,kernelsize,stride,padding)\n",
        "    self.pool2 = nn.MaxPool2d(poolsize,2)\n",
        "    self.BatchNorm2 = nn.BatchNorm2d(48)\n",
        "    self.fc1 = nn.Linear(432,fc_size1)\n",
        "    self.fc2 = nn.Linear(fc_size1,fc_size2)\n",
        "    self.fc3 = nn.Linear(fc_size2,no_classes)\n",
        "\n",
        "\n",
        "  def forward(self, x):\n",
        "    x = F.elu(self.conv1(x))\n",
        "    x = self.pool1(x)\n",
        "    x = self.BatchNorm1(x)\n",
        "    x = F.elu(self.conv2(x))\n",
        "    x = self.pool2(x)\n",
        "    x = self.BatchNorm2(x)\n",
        "    x = torch.flatten(x,1)\n",
        "    x = F.elu(self.fc1(x))\n",
        "    x = F.elu(self.fc2(x))\n",
        "    x = F.elu(self.fc3(x))\n",
        "    return x"
      ],
      "metadata": {
        "id": "7BA9_-BI_5Vn"
      },
      "execution_count": 10,
      "outputs": []
    },
    {
      "cell_type": "code",
      "source": [
        "class NN_CNN(nn.Module):\n",
        "  def __init__(self,inchannels,kernelsize,stride,padding,poolsize,fc_size1,fc_size2,no_classes):\n",
        "    super(NN_CNN, self).__init__()\n",
        "    self.conv1 = nn.Conv2d(inchannels,24,kernelsize,stride,padding)\n",
        "    self.pool1 = nn.MaxPool2d(poolsize,2)\n",
        "    self.BatchNorm1 = nn.BatchNorm2d(24)\n",
        "    self.conv2 = nn.Conv2d(24,48,kernelsize,stride,padding)\n",
        "    self.pool2 = nn.MaxPool2d(poolsize,2)\n",
        "    self.BatchNorm2 = nn.BatchNorm2d(48)\n",
        "    self.fc1 = nn.Linear(432,fc_size1)\n",
        "    self.fc2 = nn.Linear(fc_size1,fc_size2)\n",
        "    self.fc3 = nn.Linear(fc_size2,no_classes)\n",
        "\n",
        "\n",
        "  def forward(self, x):\n",
        "    x = F.relu(self.conv1(x))\n",
        "    x = self.pool1(x)\n",
        "    x = self.BatchNorm1(x)\n",
        "    x = F.relu(self.conv2(x))\n",
        "    x = self.pool2(x)\n",
        "    x = self.BatchNorm2(x)\n",
        "    x = torch.flatten(x,1)\n",
        "    x = F.relu(self.fc1(x))\n",
        "    x = F.relu(self.fc2(x))\n",
        "    x = F.relu(self.fc3(x))\n",
        "    return x"
      ],
      "metadata": {
        "id": "DzAyfynxC54N"
      },
      "execution_count": 11,
      "outputs": []
    },
    {
      "cell_type": "code",
      "source": [
        "ioc_model = IOC_CNN(inchannels,kernelsize,stride,padding,poolsize,fc_size1,fc_size2,no_classes).to(device)\n",
        "nn_model = NN_CNN(inchannels,kernelsize,stride,padding,poolsize,fc_size1,fc_size2,no_classes).to(device)\n",
        "# model = SimpleAlex(no_classes).to(device)"
      ],
      "metadata": {
        "id": "ZlZzuh1H_8AQ"
      },
      "execution_count": 12,
      "outputs": []
    },
    {
      "cell_type": "code",
      "source": [
        "ioc_optimizer = torch.optim.Adam(ioc_model.parameters(),lr= 0.0001)\n",
        "nn_optimizer = torch.optim.Adam(nn_model.parameters(),lr= 0.0001)\n",
        "criterion = nn.CrossEntropyLoss().to(device)"
      ],
      "metadata": {
        "id": "6xkpX5Qc_9VP"
      },
      "execution_count": 13,
      "outputs": []
    },
    {
      "cell_type": "code",
      "source": [
        "\n",
        "for i in range(epochs):\n",
        "  Loss = 0\n",
        "  num_correct=0\n",
        "  tot = 0\n",
        "  for i,data in enumerate(traindata):\n",
        "    # iterating through every batch\n",
        "    x_data = data[0].to(device)\n",
        "    labels = data[1].to(device)\n",
        "    ioc_optimizer.zero_grad()\n",
        "    outputs = ioc_model(x_data)\n",
        "    _, pred = torch.max(outputs.data, 1)\n",
        "    num_correct += (pred == labels).sum().item()\n",
        "    tot += labels.size(0)\n",
        "    loss = criterion(outputs, labels)\n",
        "    loss.backward()\n",
        "    ioc_optimizer.step()\n",
        "    Loss += loss\n",
        "    for w in ioc_model.parameters():\n",
        "      p = w\n",
        "      torch.where(w > 0, w, torch.exp(p))\n",
        "  train_ioc.append(num_correct/tot)    \n",
        "  print(\"Accuracy for exponentiation on negative weights : \",num_correct/tot)\n",
        "  print(\"Loss for exponentiation on negative weights : \",loss.item())\n",
        "  "
      ],
      "metadata": {
        "colab": {
          "base_uri": "https://localhost:8080/"
        },
        "id": "0EIM8d_i_-lY",
        "outputId": "d42fbfee-b631-4512-b555-cb8ab5dbe621"
      },
      "execution_count": 14,
      "outputs": [
        {
          "output_type": "stream",
          "name": "stdout",
          "text": [
            "Accuracy for exponentiation on negative weights :  0.40886\n",
            "Loss for exponentiation on negative weights :  1.3564835786819458\n",
            "Accuracy for exponentiation on negative weights :  0.53408\n",
            "Loss for exponentiation on negative weights :  1.252694845199585\n",
            "Accuracy for exponentiation on negative weights :  0.57426\n",
            "Loss for exponentiation on negative weights :  1.2707403898239136\n",
            "Accuracy for exponentiation on negative weights :  0.599\n",
            "Loss for exponentiation on negative weights :  1.0735055208206177\n",
            "Accuracy for exponentiation on negative weights :  0.61608\n",
            "Loss for exponentiation on negative weights :  0.9594575762748718\n",
            "Accuracy for exponentiation on negative weights :  0.63312\n",
            "Loss for exponentiation on negative weights :  1.091764211654663\n",
            "Accuracy for exponentiation on negative weights :  0.64528\n",
            "Loss for exponentiation on negative weights :  0.923671543598175\n",
            "Accuracy for exponentiation on negative weights :  0.65732\n",
            "Loss for exponentiation on negative weights :  1.152258276939392\n",
            "Accuracy for exponentiation on negative weights :  0.66772\n",
            "Loss for exponentiation on negative weights :  1.1757426261901855\n",
            "Accuracy for exponentiation on negative weights :  0.6801\n",
            "Loss for exponentiation on negative weights :  0.8199721574783325\n",
            "Accuracy for exponentiation on negative weights :  0.68636\n",
            "Loss for exponentiation on negative weights :  1.0749996900558472\n",
            "Accuracy for exponentiation on negative weights :  0.69574\n",
            "Loss for exponentiation on negative weights :  0.8119505643844604\n",
            "Accuracy for exponentiation on negative weights :  0.70314\n",
            "Loss for exponentiation on negative weights :  0.9320875406265259\n",
            "Accuracy for exponentiation on negative weights :  0.71002\n",
            "Loss for exponentiation on negative weights :  0.6929154396057129\n",
            "Accuracy for exponentiation on negative weights :  0.71774\n",
            "Loss for exponentiation on negative weights :  0.7007825374603271\n",
            "Accuracy for exponentiation on negative weights :  0.72456\n",
            "Loss for exponentiation on negative weights :  0.6968657374382019\n",
            "Accuracy for exponentiation on negative weights :  0.73108\n",
            "Loss for exponentiation on negative weights :  0.7858739495277405\n",
            "Accuracy for exponentiation on negative weights :  0.73488\n",
            "Loss for exponentiation on negative weights :  0.7616962194442749\n",
            "Accuracy for exponentiation on negative weights :  0.74038\n",
            "Loss for exponentiation on negative weights :  0.8070411682128906\n",
            "Accuracy for exponentiation on negative weights :  0.74804\n",
            "Loss for exponentiation on negative weights :  0.7060556411743164\n",
            "Accuracy for exponentiation on negative weights :  0.75426\n",
            "Loss for exponentiation on negative weights :  0.6960455775260925\n",
            "Accuracy for exponentiation on negative weights :  0.75806\n",
            "Loss for exponentiation on negative weights :  0.7939676642417908\n",
            "Accuracy for exponentiation on negative weights :  0.76432\n",
            "Loss for exponentiation on negative weights :  0.8924810290336609\n",
            "Accuracy for exponentiation on negative weights :  0.76986\n",
            "Loss for exponentiation on negative weights :  0.834438681602478\n",
            "Accuracy for exponentiation on negative weights :  0.77322\n",
            "Loss for exponentiation on negative weights :  0.9884037971496582\n",
            "Accuracy for exponentiation on negative weights :  0.77946\n",
            "Loss for exponentiation on negative weights :  0.6244982481002808\n",
            "Accuracy for exponentiation on negative weights :  0.78678\n",
            "Loss for exponentiation on negative weights :  0.652682363986969\n",
            "Accuracy for exponentiation on negative weights :  0.78838\n",
            "Loss for exponentiation on negative weights :  0.6300008893013\n",
            "Accuracy for exponentiation on negative weights :  0.79394\n",
            "Loss for exponentiation on negative weights :  0.631352961063385\n",
            "Accuracy for exponentiation on negative weights :  0.79846\n",
            "Loss for exponentiation on negative weights :  0.4918746054172516\n"
          ]
        }
      ]
    },
    {
      "cell_type": "code",
      "source": [
        "with torch.no_grad():\n",
        "    correct = 0\n",
        "    total = 0\n",
        "    for images, labels in testdata:\n",
        "        images = images.to(device)\n",
        "        labels = labels.to(device)\n",
        "        outputs = ioc_model(images)\n",
        "        _, predicted = torch.max(outputs.data, 1)\n",
        "        total += labels.size(0)\n",
        "        correct += (predicted == labels).sum().item()\n",
        "    test_ioc = correct/total\n",
        "    print(\"Test Accuracy for exponentiation of weights for IOC Architecture : \",100 * correct / total)\n",
        "\n"
      ],
      "metadata": {
        "colab": {
          "base_uri": "https://localhost:8080/"
        },
        "id": "RupkgNAmAAIY",
        "outputId": "611c53bd-b738-419c-8cc7-a664bd5e9f77"
      },
      "execution_count": 15,
      "outputs": [
        {
          "output_type": "stream",
          "name": "stdout",
          "text": [
            "Test Accuracy for exponentiation of weights for IOC Architecture :  67.83\n"
          ]
        }
      ]
    },
    {
      "cell_type": "code",
      "source": [
        "\n",
        "for i in range(epochs):\n",
        "  Loss = 0\n",
        "  num_correct=0\n",
        "  tot = 0\n",
        "  for i,data in enumerate(traindata):\n",
        "    # iterating through every batch\n",
        "    x_data = data[0].to(device)\n",
        "    labels = data[1].to(device)\n",
        "    nn_optimizer.zero_grad()\n",
        "    outputs = nn_model(x_data)\n",
        "    _, pred = torch.max(outputs.data, 1)\n",
        "    num_correct += (pred == labels).sum().item()\n",
        "    tot += labels.size(0)\n",
        "    loss = criterion(outputs, labels)\n",
        "    loss.backward()\n",
        "    nn_optimizer.step()\n",
        "    Loss += loss\n",
        "  train_nn.append(num_correct/tot)    \n",
        "  print(\"Accuracy for exponentiation on negative weights : \",num_correct/tot)\n",
        "  print(\"Loss for exponentiation on negative weights : \",loss.item())\n",
        "  "
      ],
      "metadata": {
        "colab": {
          "base_uri": "https://localhost:8080/"
        },
        "id": "4YpCyHqdACJw",
        "outputId": "9e7eacee-beb5-4892-a12c-2ce3b3b2269e"
      },
      "execution_count": 16,
      "outputs": [
        {
          "output_type": "stream",
          "name": "stdout",
          "text": [
            "Accuracy for exponentiation on negative weights :  0.35272\n",
            "Loss for exponentiation on negative weights :  1.3281663656234741\n",
            "Accuracy for exponentiation on negative weights :  0.52292\n",
            "Loss for exponentiation on negative weights :  1.408016562461853\n",
            "Accuracy for exponentiation on negative weights :  0.57898\n",
            "Loss for exponentiation on negative weights :  0.9345755577087402\n",
            "Accuracy for exponentiation on negative weights :  0.60984\n",
            "Loss for exponentiation on negative weights :  1.0051276683807373\n",
            "Accuracy for exponentiation on negative weights :  0.63312\n",
            "Loss for exponentiation on negative weights :  0.9098650813102722\n",
            "Accuracy for exponentiation on negative weights :  0.65458\n",
            "Loss for exponentiation on negative weights :  1.0401300191879272\n",
            "Accuracy for exponentiation on negative weights :  0.66984\n",
            "Loss for exponentiation on negative weights :  0.8447504043579102\n",
            "Accuracy for exponentiation on negative weights :  0.68624\n",
            "Loss for exponentiation on negative weights :  0.8085700869560242\n",
            "Accuracy for exponentiation on negative weights :  0.69958\n",
            "Loss for exponentiation on negative weights :  0.7641529440879822\n",
            "Accuracy for exponentiation on negative weights :  0.70884\n",
            "Loss for exponentiation on negative weights :  0.7966310977935791\n",
            "Accuracy for exponentiation on negative weights :  0.72156\n",
            "Loss for exponentiation on negative weights :  1.006227731704712\n",
            "Accuracy for exponentiation on negative weights :  0.7332\n",
            "Loss for exponentiation on negative weights :  1.012282133102417\n",
            "Accuracy for exponentiation on negative weights :  0.74078\n",
            "Loss for exponentiation on negative weights :  0.9052198529243469\n",
            "Accuracy for exponentiation on negative weights :  0.75132\n",
            "Loss for exponentiation on negative weights :  0.6190060377120972\n",
            "Accuracy for exponentiation on negative weights :  0.76098\n",
            "Loss for exponentiation on negative weights :  0.7959470748901367\n",
            "Accuracy for exponentiation on negative weights :  0.7689\n",
            "Loss for exponentiation on negative weights :  0.6684989333152771\n",
            "Accuracy for exponentiation on negative weights :  0.77766\n",
            "Loss for exponentiation on negative weights :  0.6535149812698364\n",
            "Accuracy for exponentiation on negative weights :  0.78716\n",
            "Loss for exponentiation on negative weights :  0.5161634683609009\n",
            "Accuracy for exponentiation on negative weights :  0.79654\n",
            "Loss for exponentiation on negative weights :  0.5851460099220276\n",
            "Accuracy for exponentiation on negative weights :  0.80452\n",
            "Loss for exponentiation on negative weights :  0.5030340552330017\n",
            "Accuracy for exponentiation on negative weights :  0.81006\n",
            "Loss for exponentiation on negative weights :  0.7129656076431274\n",
            "Accuracy for exponentiation on negative weights :  0.81914\n",
            "Loss for exponentiation on negative weights :  0.5486098527908325\n",
            "Accuracy for exponentiation on negative weights :  0.82602\n",
            "Loss for exponentiation on negative weights :  0.6440303325653076\n",
            "Accuracy for exponentiation on negative weights :  0.83404\n",
            "Loss for exponentiation on negative weights :  0.39402255415916443\n",
            "Accuracy for exponentiation on negative weights :  0.8395\n",
            "Loss for exponentiation on negative weights :  0.5106380581855774\n",
            "Accuracy for exponentiation on negative weights :  0.8474\n",
            "Loss for exponentiation on negative weights :  0.46788960695266724\n",
            "Accuracy for exponentiation on negative weights :  0.85532\n",
            "Loss for exponentiation on negative weights :  0.401233971118927\n",
            "Accuracy for exponentiation on negative weights :  0.86214\n",
            "Loss for exponentiation on negative weights :  0.498984158039093\n",
            "Accuracy for exponentiation on negative weights :  0.86838\n",
            "Loss for exponentiation on negative weights :  0.621633768081665\n",
            "Accuracy for exponentiation on negative weights :  0.87498\n",
            "Loss for exponentiation on negative weights :  0.33242177963256836\n"
          ]
        }
      ]
    },
    {
      "cell_type": "code",
      "source": [
        "with torch.no_grad():\n",
        "    correct = 0\n",
        "    total = 0\n",
        "    for images, labels in testdata:\n",
        "        images = images.to(device)\n",
        "        labels = labels.to(device)\n",
        "        outputs = nn_model(images)\n",
        "        _, predicted = torch.max(outputs.data, 1)\n",
        "        total += labels.size(0)\n",
        "        correct += (predicted == labels).sum().item()\n",
        "    test_nn = correct/total\n",
        "    print(\"Test Accuracy for exponentiation of weights with NN Architecture : \",100 * correct / total)\n",
        "\n"
      ],
      "metadata": {
        "colab": {
          "base_uri": "https://localhost:8080/"
        },
        "id": "OA1jflobADko",
        "outputId": "aa21893a-06dc-40d0-d9c7-8ee79bc2478b"
      },
      "execution_count": 17,
      "outputs": [
        {
          "output_type": "stream",
          "name": "stdout",
          "text": [
            "Test Accuracy for exponentiation of weights with NN Architecture :  68.17\n"
          ]
        }
      ]
    },
    {
      "cell_type": "code",
      "source": [
        "import matplotlib.pyplot as plt\n",
        "epoch_numbers = np.arange(0,epochs,1)\n",
        "plt.title(\"Training Accuracies\")\n",
        "plt.xlabel(\"Epochs\")\n",
        "plt.ylabel(\"Accuracies\")\n",
        "plt.plot(epoch_numbers,train_ioc,label='IOC Model')\n",
        "plt.plot(epoch_numbers,train_nn,label='NN Model')     \n",
        "plt.legend()\n",
        "plt.show()           "
      ],
      "metadata": {
        "colab": {
          "base_uri": "https://localhost:8080/",
          "height": 295
        },
        "id": "sTZDKIz1AFtA",
        "outputId": "c2e091b0-613c-4546-bdf3-e26052350868"
      },
      "execution_count": 18,
      "outputs": [
        {
          "output_type": "display_data",
          "data": {
            "text/plain": [
              "<Figure size 432x288 with 1 Axes>"
            ],
            "image/png": "[encoded data removed]"
          },
          "metadata": {
            "needs_background": "light"
          }
        }
      ]
    },
    {
      "cell_type": "code",
      "source": [
        "print(\"Generalization Gap for NN Model\",(train_nn[len(train_nn)-1]*100)-(test_nn*100))\n",
        "print(\"Generalization Gap for IOC Model\",(train_ioc[len(train_ioc)-1]*100)-(test_ioc*100))"
      ],
      "metadata": {
        "colab": {
          "base_uri": "https://localhost:8080/"
        },
        "id": "GBf56b8JAG9r",
        "outputId": "ab2f9530-ed48-4b4c-9d19-39bafff36431"
      },
      "execution_count": 19,
      "outputs": [
        {
          "output_type": "stream",
          "name": "stdout",
          "text": [
            "Generalization Gap for NN Model 19.328000000000003\n",
            "Generalization Gap for IOC Model 12.015999999999991\n"
          ]
        }
      ]
    },
    {
      "cell_type": "code",
      "source": [],
      "metadata": {
        "id": "2J8mLW58_yx6"
      },
      "execution_count": 19,
      "outputs": []
    }
  ]
}