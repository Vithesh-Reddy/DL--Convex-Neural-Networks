{
  "cells": [
    {
      "cell_type": "code",
      "execution_count": null,
      "metadata": {
        "id": "kakOZU4ElS2-"
      },
      "outputs": [],
      "source": [
        "\n",
        "import torch\n",
        "import numpy as np\n",
        "import pandas as pd\n",
        "import torch.nn as nn\n",
        "import torch.optim as optim\n",
        "import os\n",
        "import matplotlib.pyplot as plt\n",
        "import torch.nn.functional as F\n",
        "%matplotlib inline\n",
        "import random\n",
        "import math"
      ]
    },
    {
      "cell_type": "code",
      "execution_count": null,
      "metadata": {
        "id": "x6Opl6MFleUZ"
      },
      "outputs": [],
      "source": [
        "import torchvision\n",
        "import torchvision.transforms as transforms"
      ]
    },
    {
      "cell_type": "code",
      "execution_count": null,
      "metadata": {
        "colab": {
          "base_uri": "https://localhost:8080/"
        },
        "id": "WaSpjfAUlffo",
        "outputId": "6445f8c0-0cc3-4739-d5b9-016d4fc3684f"
      },
      "outputs": [
        {
          "name": "stdout",
          "output_type": "stream",
          "text": [
            "Device available now: cuda\n"
          ]
        }
      ],
      "source": [
        "device = torch.device('cuda' if torch.cuda.is_available() else 'cpu')\n",
        "print('Device available now:', device)"
      ]
    },
    {
      "cell_type": "code",
      "execution_count": null,
      "metadata": {
        "id": "1ZjacIpLlg0B"
      },
      "outputs": [],
      "source": [
        "image_transforms = transforms.Compose(\n",
        "         [transforms.ToTensor(),\n",
        "         transforms.CenterCrop(28),\n",
        "         transforms.Normalize((0.5), (0.5))]\n",
        ")"
      ]
    },
    {
      "cell_type": "code",
      "execution_count": null,
      "metadata": {
        "id": "vsHZ5EHjliRU"
      },
      "outputs": [],
      "source": [
        "batchsize = 32\n",
        "rowsize = 28\n",
        "colsize = 28\n",
        "inchannels = 3\n",
        "fc_size = 800\n",
        "no_classes = 10\n",
        "epochs = 30 \n"
      ]
    },
    {
      "cell_type": "code",
      "execution_count": null,
      "metadata": {
        "id": "e_0WinFGljlE"
      },
      "outputs": [],
      "source": [
        "\n",
        "train_ioc = []\n",
        "test_ioc = 0\n",
        "train_nn = []\n",
        "noise = 40\n",
        "test_nn = 0"
      ]
    },
    {
      "cell_type": "code",
      "execution_count": null,
      "metadata": {
        "colab": {
          "base_uri": "https://localhost:8080/",
          "height": 85,
          "referenced_widgets": [
            "7e5526984c6e449e817be469535a151a",
            "0bbdb47a2d9f4911810aa26b6102a59c",
            "e79d0ef6479241368144a4e0bd318148",
            "d59389a6414b47a6bddf997e4258a471",
            "393a3b61e2c74b4eb327ff509cb08940",
            "4c3b96667c0b4fb9a0d2fff3a9926b9d",
            "6e8c4ae7a74040daa6cca5053fa20be7",
            "00be8cc4c911462b84f9547042195109",
            "d8c9678257e24cb49bec9d14e2dd5e73",
            "9546eb6569be4705a16ac2df4981c562",
            "ab040b086f0445bbac51cffb7867a4e2"
          ]
        },
        "id": "xaMH9zFTllKd",
        "outputId": "1b61c4d8-0be0-4863-9ace-c9362374bfb3"
      },
      "outputs": [
        {
          "name": "stdout",
          "output_type": "stream",
          "text": [
            "Downloading https://www.cs.toronto.edu/~kriz/cifar-10-python.tar.gz to ./cifar-10-python.tar.gz\n"
          ]
        },
        {
          "data": {
            "application/vnd.jupyter.widget-view+json": {
              "model_id": "7e5526984c6e449e817be469535a151a",
              "version_major": 2,
              "version_minor": 0
            },
            "text/plain": [
              "  0%|          | 0/170498071 [00:00<?, ?it/s]"
            ]
          },
          "metadata": {},
          "output_type": "display_data"
        },
        {
          "name": "stdout",
          "output_type": "stream",
          "text": [
            "Extracting ./cifar-10-python.tar.gz to ./\n"
          ]
        }
      ],
      "source": [
        "train = torchvision.datasets.CIFAR10(root='./', train=True, download=True, transform=image_transforms)\n",
        "test = torchvision.datasets.CIFAR10(root='./', train=False, transform=image_transforms)\n",
        "\n"
      ]
    },
    {
      "cell_type": "code",
      "execution_count": null,
      "metadata": {
        "id": "Mt9gtwdklmi9"
      },
      "outputs": [],
      "source": [
        "traindata = torch.utils.data.DataLoader(train,batch_size=batchsize, shuffle=True, num_workers=2,pin_memory=True)\n",
        "testdata = torch.utils.data.DataLoader(test,batch_size=batchsize, shuffle=False, num_workers=2,pin_memory=True)"
      ]
    },
    {
      "cell_type": "code",
      "execution_count": null,
      "metadata": {
        "id": "RrhORtLQxiAf"
      },
      "outputs": [],
      "source": [
        "for i,data in enumerate(traindata):\n",
        "  #data[0] , data[1]\n",
        "  for j in range(len(data)):\n",
        "    data[1][j] = random.randint(0, 9)"
      ]
    },
    {
      "cell_type": "code",
      "execution_count": null,
      "metadata": {
        "id": "kuwkBMhXloP2"
      },
      "outputs": [],
      "source": [
        "class IOC_MLP(nn.Module):\n",
        "  def __init__(self,rowsize,colsize,fc_size,inchannels,no_classes):\n",
        "    super(IOC_MLP, self).__init__()\n",
        "    self.fc1 = nn.Linear(rowsize*colsize*inchannels,fc_size)\n",
        "    self.batchnorm1 = nn.BatchNorm1d(fc_size)\n",
        "    self.fc2 = nn.Linear(fc_size,fc_size)\n",
        "    self.batchnorm2 = nn.BatchNorm1d(fc_size)\n",
        "    self.fc3 = nn.Linear(fc_size,fc_size)\n",
        "    self.batchnorm3 = nn.BatchNorm1d(fc_size)\n",
        "    self.fc4 = nn.Linear(fc_size,no_classes)\n",
        "\n",
        "\n",
        "  def forward(self, x):\n",
        "    x = torch.flatten(x,1)\n",
        "    x = x.view(-1, rowsize*colsize*inchannels)\n",
        "    x = F.elu(self.fc1(x))\n",
        "    x = self.batchnorm1(x)\n",
        "    x = F.elu(self.fc2(x))\n",
        "    x = self.batchnorm2(x)\n",
        "    x = F.elu(self.fc3(x))\n",
        "    x = self.batchnorm3(x)\n",
        "    return x"
      ]
    },
    {
      "cell_type": "code",
      "execution_count": null,
      "metadata": {
        "id": "IDgMRIi9l96Y"
      },
      "outputs": [],
      "source": [
        "class NN(nn.Module):\n",
        "  def __init__(self,rowsize,colsize,fc_size,inchannels,no_classes):\n",
        "    super(NN, self).__init__()\n",
        "    self.fc1 = nn.Linear(rowsize*colsize*inchannels,fc_size)\n",
        "    self.batchnorm1 = nn.BatchNorm1d(fc_size)\n",
        "    self.fc2 = nn.Linear(fc_size,fc_size)\n",
        "    self.batchnorm2 = nn.BatchNorm1d(fc_size)\n",
        "    self.fc3 = nn.Linear(fc_size,fc_size)\n",
        "    self.batchnorm3 = nn.BatchNorm1d(fc_size)\n",
        "    self.fc4 = nn.Linear(fc_size,no_classes)\n",
        "\n",
        "\n",
        "  def forward(self, x):\n",
        "    x = torch.flatten(x,1)\n",
        "    x = x.view(-1, rowsize*colsize*inchannels)\n",
        "    x = F.relu(self.fc1(x))\n",
        "    x = self.batchnorm1(x)\n",
        "    x = F.relu(self.fc2(x))\n",
        "    x = self.batchnorm2(x)\n",
        "    x = F.relu(self.fc3(x))\n",
        "    x = self.batchnorm3(x)\n",
        "    return x"
      ]
    },
    {
      "cell_type": "code",
      "execution_count": null,
      "metadata": {
        "id": "e_GZljS_lqDd"
      },
      "outputs": [],
      "source": [
        "ioc_model = IOC_MLP(rowsize,colsize,fc_size,inchannels,no_classes).to(device)\n",
        "nn_model = NN(rowsize,colsize,fc_size,inchannels,no_classes).to(device)\n",
        "# model = SimpleAlex(no_classes).to(device)"
      ]
    },
    {
      "cell_type": "code",
      "execution_count": null,
      "metadata": {
        "id": "xZvx6fhalu5F"
      },
      "outputs": [],
      "source": [
        "ioc_optimizer = torch.optim.Adam(ioc_model.parameters(),lr= 0.0001)\n",
        "nn_optimizer = torch.optim.Adam(nn_model.parameters(),lr= 0.0001)\n",
        "criterion = nn.CrossEntropyLoss().to(device)"
      ]
    },
    {
      "cell_type": "code",
      "execution_count": null,
      "metadata": {
        "colab": {
          "base_uri": "https://localhost:8080/"
        },
        "id": "k2-Ap-RclwHI",
        "outputId": "9572047f-4279-45fe-bafc-5c1822329cab"
      },
      "outputs": [
        {
          "name": "stdout",
          "output_type": "stream",
          "text": [
            "Accuracy for exponentiation on negative weights :  0.34876\n",
            "Loss for exponentiation on negative weights :  5.00235652923584\n",
            "Accuracy for exponentiation on negative weights :  0.43028\n",
            "Loss for exponentiation on negative weights :  4.54031229019165\n",
            "Accuracy for exponentiation on negative weights :  0.46538\n",
            "Loss for exponentiation on negative weights :  4.221750259399414\n",
            "Accuracy for exponentiation on negative weights :  0.48804\n",
            "Loss for exponentiation on negative weights :  3.641859531402588\n",
            "Accuracy for exponentiation on negative weights :  0.51156\n",
            "Loss for exponentiation on negative weights :  2.4682092666625977\n",
            "Accuracy for exponentiation on negative weights :  0.53024\n",
            "Loss for exponentiation on negative weights :  2.3911893367767334\n",
            "Accuracy for exponentiation on negative weights :  0.54194\n",
            "Loss for exponentiation on negative weights :  1.7441226243972778\n",
            "Accuracy for exponentiation on negative weights :  0.5609\n",
            "Loss for exponentiation on negative weights :  2.8244752883911133\n",
            "Accuracy for exponentiation on negative weights :  0.57464\n",
            "Loss for exponentiation on negative weights :  2.596642017364502\n",
            "Accuracy for exponentiation on negative weights :  0.58834\n",
            "Loss for exponentiation on negative weights :  2.063544273376465\n",
            "Accuracy for exponentiation on negative weights :  0.59726\n",
            "Loss for exponentiation on negative weights :  1.4605557918548584\n",
            "Accuracy for exponentiation on negative weights :  0.61346\n",
            "Loss for exponentiation on negative weights :  1.823191523551941\n",
            "Accuracy for exponentiation on negative weights :  0.62224\n",
            "Loss for exponentiation on negative weights :  1.187779426574707\n",
            "Accuracy for exponentiation on negative weights :  0.63742\n",
            "Loss for exponentiation on negative weights :  1.131410002708435\n",
            "Accuracy for exponentiation on negative weights :  0.64852\n",
            "Loss for exponentiation on negative weights :  1.3957087993621826\n",
            "Accuracy for exponentiation on negative weights :  0.661\n",
            "Loss for exponentiation on negative weights :  0.9892902374267578\n",
            "Accuracy for exponentiation on negative weights :  0.67158\n",
            "Loss for exponentiation on negative weights :  1.1149953603744507\n",
            "Accuracy for exponentiation on negative weights :  0.68654\n",
            "Loss for exponentiation on negative weights :  1.4059981107711792\n",
            "Accuracy for exponentiation on negative weights :  0.69758\n",
            "Loss for exponentiation on negative weights :  0.8131999373435974\n",
            "Accuracy for exponentiation on negative weights :  0.70752\n",
            "Loss for exponentiation on negative weights :  0.7249253392219543\n",
            "Accuracy for exponentiation on negative weights :  0.7186\n",
            "Loss for exponentiation on negative weights :  1.3279823064804077\n",
            "Accuracy for exponentiation on negative weights :  0.72958\n",
            "Loss for exponentiation on negative weights :  0.9214703440666199\n",
            "Accuracy for exponentiation on negative weights :  0.74328\n",
            "Loss for exponentiation on negative weights :  1.2313165664672852\n",
            "Accuracy for exponentiation on negative weights :  0.74926\n",
            "Loss for exponentiation on negative weights :  0.9312630295753479\n",
            "Accuracy for exponentiation on negative weights :  0.76052\n",
            "Loss for exponentiation on negative weights :  0.8969226479530334\n",
            "Accuracy for exponentiation on negative weights :  0.76966\n",
            "Loss for exponentiation on negative weights :  0.9499074220657349\n",
            "Accuracy for exponentiation on negative weights :  0.77914\n",
            "Loss for exponentiation on negative weights :  0.9190508127212524\n",
            "Accuracy for exponentiation on negative weights :  0.78684\n",
            "Loss for exponentiation on negative weights :  0.6839721202850342\n",
            "Accuracy for exponentiation on negative weights :  0.795\n",
            "Loss for exponentiation on negative weights :  0.7905023097991943\n",
            "Accuracy for exponentiation on negative weights :  0.80112\n",
            "Loss for exponentiation on negative weights :  0.6018814444541931\n"
          ]
        }
      ],
      "source": [
        "\n",
        "for i in range(epochs):\n",
        "  Loss = 0\n",
        "  num_correct=0\n",
        "  tot = 0\n",
        "  for i,data in enumerate(traindata):\n",
        "    # iterating through every batch\n",
        "    x_data = data[0].to(device)\n",
        "    labels = data[1].to(device)\n",
        "    ioc_optimizer.zero_grad()\n",
        "    outputs = ioc_model(x_data)\n",
        "    _, pred = torch.max(outputs.data, 1)\n",
        "    num_correct += (pred == labels).sum().item()\n",
        "    tot += labels.size(0)\n",
        "    loss = criterion(outputs, labels)\n",
        "    loss.backward()\n",
        "    ioc_optimizer.step()\n",
        "    Loss += loss\n",
        "    for w in ioc_model.parameters():\n",
        "      p = w\n",
        "      torch.where(w > 0, w, torch.exp(p))\n",
        "  train_ioc.append(num_correct/tot)    \n",
        "  print(\"Accuracy for exponentiation on negative weights : \",num_correct/tot)\n",
        "  print(\"Loss for exponentiation on negative weights : \",loss.item())\n",
        "  "
      ]
    },
    {
      "cell_type": "code",
      "execution_count": null,
      "metadata": {
        "colab": {
          "base_uri": "https://localhost:8080/"
        },
        "id": "MmWHTFfyl2TO",
        "outputId": "52693245-1307-4849-ba5d-da54dad1b7ae"
      },
      "outputs": [
        {
          "name": "stdout",
          "output_type": "stream",
          "text": [
            "Test Accuracy for exponentiation of weights for IOC Architecture :  51.6\n"
          ]
        }
      ],
      "source": [
        "with torch.no_grad():\n",
        "    correct = 0\n",
        "    total = 0\n",
        "    for images, labels in testdata:\n",
        "        images = images.to(device)\n",
        "        labels = labels.to(device)\n",
        "        outputs = ioc_model(images)\n",
        "        _, predicted = torch.max(outputs.data, 1)\n",
        "        total += labels.size(0)\n",
        "        correct += (predicted == labels).sum().item()\n",
        "    test_ioc = correct/total\n",
        "    print(\"Test Accuracy for exponentiation of weights for IOC Architecture : \",100 * correct / total)\n",
        "\n"
      ]
    },
    {
      "cell_type": "code",
      "execution_count": null,
      "metadata": {
        "colab": {
          "base_uri": "https://localhost:8080/"
        },
        "id": "1kshSpCLobr9",
        "outputId": "95a05165-5e4f-4208-a8c4-e6f5dd7414f7"
      },
      "outputs": [
        {
          "name": "stdout",
          "output_type": "stream",
          "text": [
            "Accuracy for exponentiation on negative weights :  0.34564\n",
            "Loss for exponentiation on negative weights :  5.825231075286865\n",
            "Accuracy for exponentiation on negative weights :  0.46316\n",
            "Loss for exponentiation on negative weights :  4.026390552520752\n",
            "Accuracy for exponentiation on negative weights :  0.5057\n",
            "Loss for exponentiation on negative weights :  3.8875467777252197\n",
            "Accuracy for exponentiation on negative weights :  0.53708\n",
            "Loss for exponentiation on negative weights :  2.808628797531128\n",
            "Accuracy for exponentiation on negative weights :  0.56584\n",
            "Loss for exponentiation on negative weights :  3.5723302364349365\n",
            "Accuracy for exponentiation on negative weights :  0.58822\n",
            "Loss for exponentiation on negative weights :  2.4121105670928955\n",
            "Accuracy for exponentiation on negative weights :  0.61258\n",
            "Loss for exponentiation on negative weights :  2.206855297088623\n",
            "Accuracy for exponentiation on negative weights :  0.63592\n",
            "Loss for exponentiation on negative weights :  2.4440908432006836\n",
            "Accuracy for exponentiation on negative weights :  0.65398\n",
            "Loss for exponentiation on negative weights :  1.4992313385009766\n",
            "Accuracy for exponentiation on negative weights :  0.67616\n",
            "Loss for exponentiation on negative weights :  1.505721092224121\n",
            "Accuracy for exponentiation on negative weights :  0.69188\n",
            "Loss for exponentiation on negative weights :  1.5751893520355225\n",
            "Accuracy for exponentiation on negative weights :  0.71232\n",
            "Loss for exponentiation on negative weights :  0.9722054600715637\n",
            "Accuracy for exponentiation on negative weights :  0.72962\n",
            "Loss for exponentiation on negative weights :  1.6378986835479736\n",
            "Accuracy for exponentiation on negative weights :  0.74442\n",
            "Loss for exponentiation on negative weights :  0.9804431796073914\n",
            "Accuracy for exponentiation on negative weights :  0.75678\n",
            "Loss for exponentiation on negative weights :  1.4191112518310547\n",
            "Accuracy for exponentiation on negative weights :  0.7719\n",
            "Loss for exponentiation on negative weights :  0.7365032434463501\n",
            "Accuracy for exponentiation on negative weights :  0.78246\n",
            "Loss for exponentiation on negative weights :  1.0775634050369263\n",
            "Accuracy for exponentiation on negative weights :  0.79664\n",
            "Loss for exponentiation on negative weights :  0.8831215500831604\n",
            "Accuracy for exponentiation on negative weights :  0.80822\n",
            "Loss for exponentiation on negative weights :  1.0083266496658325\n",
            "Accuracy for exponentiation on negative weights :  0.81856\n",
            "Loss for exponentiation on negative weights :  0.6864319443702698\n",
            "Accuracy for exponentiation on negative weights :  0.82448\n",
            "Loss for exponentiation on negative weights :  1.386415719985962\n",
            "Accuracy for exponentiation on negative weights :  0.83444\n",
            "Loss for exponentiation on negative weights :  0.6284594535827637\n",
            "Accuracy for exponentiation on negative weights :  0.83888\n",
            "Loss for exponentiation on negative weights :  0.5797457695007324\n",
            "Accuracy for exponentiation on negative weights :  0.84934\n",
            "Loss for exponentiation on negative weights :  1.054322600364685\n",
            "Accuracy for exponentiation on negative weights :  0.85152\n",
            "Loss for exponentiation on negative weights :  1.2560657262802124\n",
            "Accuracy for exponentiation on negative weights :  0.8598\n",
            "Loss for exponentiation on negative weights :  0.7667832374572754\n",
            "Accuracy for exponentiation on negative weights :  0.86388\n",
            "Loss for exponentiation on negative weights :  0.5679404735565186\n",
            "Accuracy for exponentiation on negative weights :  0.86754\n",
            "Loss for exponentiation on negative weights :  0.39364373683929443\n",
            "Accuracy for exponentiation on negative weights :  0.87494\n",
            "Loss for exponentiation on negative weights :  0.2587021291255951\n",
            "Accuracy for exponentiation on negative weights :  0.87784\n",
            "Loss for exponentiation on negative weights :  0.6774764060974121\n"
          ]
        }
      ],
      "source": [
        "\n",
        "for i in range(epochs):\n",
        "  Loss = 0\n",
        "  num_correct=0\n",
        "  tot = 0\n",
        "  for i,data in enumerate(traindata):\n",
        "    # iterating through every batch\n",
        "    x_data = data[0].to(device)\n",
        "    labels = data[1].to(device)\n",
        "    nn_optimizer.zero_grad()\n",
        "    outputs = nn_model(x_data)\n",
        "    _, pred = torch.max(outputs.data, 1)\n",
        "    num_correct += (pred == labels).sum().item()\n",
        "    tot += labels.size(0)\n",
        "    loss = criterion(outputs, labels)\n",
        "    loss.backward()\n",
        "    nn_optimizer.step()\n",
        "    Loss += loss\n",
        "  train_nn.append(num_correct/tot)    \n",
        "  print(\"Accuracy for exponentiation on negative weights : \",num_correct/tot)\n",
        "  print(\"Loss for exponentiation on negative weights : \",loss.item())\n",
        "  "
      ]
    },
    {
      "cell_type": "code",
      "execution_count": null,
      "metadata": {
        "colab": {
          "base_uri": "https://localhost:8080/"
        },
        "id": "CPGO4btmocda",
        "outputId": "cea3042e-4d89-46a7-88ad-05bc9a681315"
      },
      "outputs": [
        {
          "name": "stdout",
          "output_type": "stream",
          "text": [
            "Test Accuracy for exponentiation of weights with NN Architecture :  50.77\n"
          ]
        }
      ],
      "source": [
        "with torch.no_grad():\n",
        "    correct = 0\n",
        "    total = 0\n",
        "    for images, labels in testdata:\n",
        "        images = images.to(device)\n",
        "        labels = labels.to(device)\n",
        "        outputs = nn_model(images)\n",
        "        _, predicted = torch.max(outputs.data, 1)\n",
        "        total += labels.size(0)\n",
        "        correct += (predicted == labels).sum().item()\n",
        "    test_nn = correct/total\n",
        "    print(\"Test Accuracy for exponentiation of weights with NN Architecture : \",100 * correct / total)\n",
        "\n"
      ]
    },
    {
      "cell_type": "code",
      "execution_count": null,
      "metadata": {
        "colab": {
          "base_uri": "https://localhost:8080/",
          "height": 295
        },
        "id": "rC8_eq1hpmZ1",
        "outputId": "852da9d1-8aec-4143-ec37-e341d4665d15"
      },
      "outputs": [
        {
          "data": {
            "image/png": "[encoded data removed]",
            "text/plain": [
              "<Figure size 432x288 with 1 Axes>"
            ]
          },
          "metadata": {
            "needs_background": "light"
          },
          "output_type": "display_data"
        }
      ],
      "source": [
        "import matplotlib.pyplot as plt\n",
        "epoch_numbers = np.arange(0,epochs,1)\n",
        "plt.title(\"Training Accuracies\")\n",
        "plt.xlabel(\"Epochs\")\n",
        "plt.ylabel(\"Accuracies\")\n",
        "plt.plot(epoch_numbers,train_ioc,label='IOC Model')\n",
        "plt.plot(epoch_numbers,train_nn,label='NN Model')     \n",
        "plt.legend()\n",
        "plt.show()           "
      ]
    },
    {
      "cell_type": "code",
      "execution_count": null,
      "metadata": {
        "colab": {
          "base_uri": "https://localhost:8080/"
        },
        "id": "KhpYZiNHpvY8",
        "outputId": "3cccfb71-ed4b-4286-b5ec-6c78073d55ba"
      },
      "outputs": [
        {
          "name": "stdout",
          "output_type": "stream",
          "text": [
            "Generalization Gap for NN Model 87.27629999999999\n",
            "Generalization Gap for IOC Model 79.596\n"
          ]
        }
      ],
      "source": [
        "print(\"Generalization Gap for NN Model\",(train_nn[len(train_nn)-1]*100)-test_nn)\n",
        "print(\"Generalization Gap for IOC Model\",(train_ioc[len(train_ioc)-1]*100)-test_ioc)"
      ]
    }
  ],
  "metadata": {
    "accelerator": "GPU",
    "colab": {
      "provenance": []
    },
    "gpuClass": "standard",
    "kernelspec": {
      "display_name": "Python 3.8.8 ('base')",
      "language": "python",
      "name": "python3"
    },
    "language_info": {
      "name": "python",
      "version": "3.8.8"
    },
    "vscode": {
      "interpreter": {
        "hash": "9b40efd79baebdf3b3de127110fa80adf524981d137c0cd472ae07fa2900d987"
      }
    },
    "widgets": {
      "application/vnd.jupyter.widget-state+json": {
        "00be8cc4c911462b84f9547042195109": {
          "model_module": "@jupyter-widgets/base",
          "model_module_version": "1.2.0",
          "model_name": "LayoutModel",
          "state": {
            "_model_module": "@jupyter-widgets/base",
            "_model_module_version": "1.2.0",
            "_model_name": "LayoutModel",
            "_view_count": null,
            "_view_module": "@jupyter-widgets/base",
            "_view_module_version": "1.2.0",
            "_view_name": "LayoutView",
            "align_content": null,
            "align_items": null,
            "align_self": null,
            "border": null,
            "bottom": null,
            "display": null,
            "flex": null,
            "flex_flow": null,
            "grid_area": null,
            "grid_auto_columns": null,
            "grid_auto_flow": null,
            "grid_auto_rows": null,
            "grid_column": null,
            "grid_gap": null,
            "grid_row": null,
            "grid_template_areas": null,
            "grid_template_columns": null,
            "grid_template_rows": null,
            "height": null,
            "justify_content": null,
            "justify_items": null,
            "left": null,
            "margin": null,
            "max_height": null,
            "max_width": null,
            "min_height": null,
            "min_width": null,
            "object_fit": null,
            "object_position": null,
            "order": null,
            "overflow": null,
            "overflow_x": null,
            "overflow_y": null,
            "padding": null,
            "right": null,
            "top": null,
            "visibility": null,
            "width": null
          }
        },
        "0bbdb47a2d9f4911810aa26b6102a59c": {
          "model_module": "@jupyter-widgets/controls",
          "model_module_version": "1.5.0",
          "model_name": "HTMLModel",
          "state": {
            "_dom_classes": [],
            "_model_module": "@jupyter-widgets/controls",
            "_model_module_version": "1.5.0",
            "_model_name": "HTMLModel",
            "_view_count": null,
            "_view_module": "@jupyter-widgets/controls",
            "_view_module_version": "1.5.0",
            "_view_name": "HTMLView",
            "description": "",
            "description_tooltip": null,
            "layout": "IPY_MODEL_4c3b96667c0b4fb9a0d2fff3a9926b9d",
            "placeholder": "​",
            "style": "IPY_MODEL_6e8c4ae7a74040daa6cca5053fa20be7",
            "value": "100%"
          }
        },
        "393a3b61e2c74b4eb327ff509cb08940": {
          "model_module": "@jupyter-widgets/base",
          "model_module_version": "1.2.0",
          "model_name": "LayoutModel",
          "state": {
            "_model_module": "@jupyter-widgets/base",
            "_model_module_version": "1.2.0",
            "_model_name": "LayoutModel",
            "_view_count": null,
            "_view_module": "@jupyter-widgets/base",
            "_view_module_version": "1.2.0",
            "_view_name": "LayoutView",
            "align_content": null,
            "align_items": null,
            "align_self": null,
            "border": null,
            "bottom": null,
            "display": null,
            "flex": null,
            "flex_flow": null,
            "grid_area": null,
            "grid_auto_columns": null,
            "grid_auto_flow": null,
            "grid_auto_rows": null,
            "grid_column": null,
            "grid_gap": null,
            "grid_row": null,
            "grid_template_areas": null,
            "grid_template_columns": null,
            "grid_template_rows": null,
            "height": null,
            "justify_content": null,
            "justify_items": null,
            "left": null,
            "margin": null,
            "max_height": null,
            "max_width": null,
            "min_height": null,
            "min_width": null,
            "object_fit": null,
            "object_position": null,
            "order": null,
            "overflow": null,
            "overflow_x": null,
            "overflow_y": null,
            "padding": null,
            "right": null,
            "top": null,
            "visibility": null,
            "width": null
          }
        },
        "4c3b96667c0b4fb9a0d2fff3a9926b9d": {
          "model_module": "@jupyter-widgets/base",
          "model_module_version": "1.2.0",
          "model_name": "LayoutModel",
          "state": {
            "_model_module": "@jupyter-widgets/base",
            "_model_module_version": "1.2.0",
            "_model_name": "LayoutModel",
            "_view_count": null,
            "_view_module": "@jupyter-widgets/base",
            "_view_module_version": "1.2.0",
            "_view_name": "LayoutView",
            "align_content": null,
            "align_items": null,
            "align_self": null,
            "border": null,
            "bottom": null,
            "display": null,
            "flex": null,
            "flex_flow": null,
            "grid_area": null,
            "grid_auto_columns": null,
            "grid_auto_flow": null,
            "grid_auto_rows": null,
            "grid_column": null,
            "grid_gap": null,
            "grid_row": null,
            "grid_template_areas": null,
            "grid_template_columns": null,
            "grid_template_rows": null,
            "height": null,
            "justify_content": null,
            "justify_items": null,
            "left": null,
            "margin": null,
            "max_height": null,
            "max_width": null,
            "min_height": null,
            "min_width": null,
            "object_fit": null,
            "object_position": null,
            "order": null,
            "overflow": null,
            "overflow_x": null,
            "overflow_y": null,
            "padding": null,
            "right": null,
            "top": null,
            "visibility": null,
            "width": null
          }
        },
        "6e8c4ae7a74040daa6cca5053fa20be7": {
          "model_module": "@jupyter-widgets/controls",
          "model_module_version": "1.5.0",
          "model_name": "DescriptionStyleModel",
          "state": {
            "_model_module": "@jupyter-widgets/controls",
            "_model_module_version": "1.5.0",
            "_model_name": "DescriptionStyleModel",
            "_view_count": null,
            "_view_module": "@jupyter-widgets/base",
            "_view_module_version": "1.2.0",
            "_view_name": "StyleView",
            "description_width": ""
          }
        },
        "7e5526984c6e449e817be469535a151a": {
          "model_module": "@jupyter-widgets/controls",
          "model_module_version": "1.5.0",
          "model_name": "HBoxModel",
          "state": {
            "_dom_classes": [],
            "_model_module": "@jupyter-widgets/controls",
            "_model_module_version": "1.5.0",
            "_model_name": "HBoxModel",
            "_view_count": null,
            "_view_module": "@jupyter-widgets/controls",
            "_view_module_version": "1.5.0",
            "_view_name": "HBoxView",
            "box_style": "",
            "children": [
              "IPY_MODEL_0bbdb47a2d9f4911810aa26b6102a59c",
              "IPY_MODEL_e79d0ef6479241368144a4e0bd318148",
              "IPY_MODEL_d59389a6414b47a6bddf997e4258a471"
            ],
            "layout": "IPY_MODEL_393a3b61e2c74b4eb327ff509cb08940"
          }
        },
        "9546eb6569be4705a16ac2df4981c562": {
          "model_module": "@jupyter-widgets/base",
          "model_module_version": "1.2.0",
          "model_name": "LayoutModel",
          "state": {
            "_model_module": "@jupyter-widgets/base",
            "_model_module_version": "1.2.0",
            "_model_name": "LayoutModel",
            "_view_count": null,
            "_view_module": "@jupyter-widgets/base",
            "_view_module_version": "1.2.0",
            "_view_name": "LayoutView",
            "align_content": null,
            "align_items": null,
            "align_self": null,
            "border": null,
            "bottom": null,
            "display": null,
            "flex": null,
            "flex_flow": null,
            "grid_area": null,
            "grid_auto_columns": null,
            "grid_auto_flow": null,
            "grid_auto_rows": null,
            "grid_column": null,
            "grid_gap": null,
            "grid_row": null,
            "grid_template_areas": null,
            "grid_template_columns": null,
            "grid_template_rows": null,
            "height": null,
            "justify_content": null,
            "justify_items": null,
            "left": null,
            "margin": null,
            "max_height": null,
            "max_width": null,
            "min_height": null,
            "min_width": null,
            "object_fit": null,
            "object_position": null,
            "order": null,
            "overflow": null,
            "overflow_x": null,
            "overflow_y": null,
            "padding": null,
            "right": null,
            "top": null,
            "visibility": null,
            "width": null
          }
        },
        "ab040b086f0445bbac51cffb7867a4e2": {
          "model_module": "@jupyter-widgets/controls",
          "model_module_version": "1.5.0",
          "model_name": "DescriptionStyleModel",
          "state": {
            "_model_module": "@jupyter-widgets/controls",
            "_model_module_version": "1.5.0",
            "_model_name": "DescriptionStyleModel",
            "_view_count": null,
            "_view_module": "@jupyter-widgets/base",
            "_view_module_version": "1.2.0",
            "_view_name": "StyleView",
            "description_width": ""
          }
        },
        "d59389a6414b47a6bddf997e4258a471": {
          "model_module": "@jupyter-widgets/controls",
          "model_module_version": "1.5.0",
          "model_name": "HTMLModel",
          "state": {
            "_dom_classes": [],
            "_model_module": "@jupyter-widgets/controls",
            "_model_module_version": "1.5.0",
            "_model_name": "HTMLModel",
            "_view_count": null,
            "_view_module": "@jupyter-widgets/controls",
            "_view_module_version": "1.5.0",
            "_view_name": "HTMLView",
            "description": "",
            "description_tooltip": null,
            "layout": "IPY_MODEL_9546eb6569be4705a16ac2df4981c562",
            "placeholder": "​",
            "style": "IPY_MODEL_ab040b086f0445bbac51cffb7867a4e2",
            "value": " 170498071/170498071 [00:13&lt;00:00, 14607634.58it/s]"
          }
        },
        "d8c9678257e24cb49bec9d14e2dd5e73": {
          "model_module": "@jupyter-widgets/controls",
          "model_module_version": "1.5.0",
          "model_name": "ProgressStyleModel",
          "state": {
            "_model_module": "@jupyter-widgets/controls",
            "_model_module_version": "1.5.0",
            "_model_name": "ProgressStyleModel",
            "_view_count": null,
            "_view_module": "@jupyter-widgets/base",
            "_view_module_version": "1.2.0",
            "_view_name": "StyleView",
            "bar_color": null,
            "description_width": ""
          }
        },
        "e79d0ef6479241368144a4e0bd318148": {
          "model_module": "@jupyter-widgets/controls",
          "model_module_version": "1.5.0",
          "model_name": "FloatProgressModel",
          "state": {
            "_dom_classes": [],
            "_model_module": "@jupyter-widgets/controls",
            "_model_module_version": "1.5.0",
            "_model_name": "FloatProgressModel",
            "_view_count": null,
            "_view_module": "@jupyter-widgets/controls",
            "_view_module_version": "1.5.0",
            "_view_name": "ProgressView",
            "bar_style": "success",
            "description": "",
            "description_tooltip": null,
            "layout": "IPY_MODEL_00be8cc4c911462b84f9547042195109",
            "max": 170498071,
            "min": 0,
            "orientation": "horizontal",
            "style": "IPY_MODEL_d8c9678257e24cb49bec9d14e2dd5e73",
            "value": 170498071
          }
        }
      }
    }
  },
  "nbformat": 4,
  "nbformat_minor": 0
}
