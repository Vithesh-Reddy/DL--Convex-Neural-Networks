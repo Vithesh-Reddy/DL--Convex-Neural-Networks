{
  "nbformat": 4,
  "nbformat_minor": 0,
  "metadata": {
    "colab": {
      "provenance": []
    },
    "kernelspec": {
      "name": "python3",
      "display_name": "Python 3"
    },
    "language_info": {
      "name": "python"
    },
    "accelerator": "GPU",
    "gpuClass": "standard"
  },
  "cells": [
    {
      "cell_type": "code",
      "execution_count": null,
      "metadata": {
        "id": "YtjnUzlGRdfp"
      },
      "outputs": [],
      "source": [
        "\n",
        "import torch\n",
        "import numpy as np\n",
        "import pandas as pd\n",
        "import torch.nn as nn\n",
        "import torch.optim as optim\n",
        "import os\n",
        "import matplotlib.pyplot as plt\n",
        "import torch.nn.functional as F\n",
        "%matplotlib inline\n",
        "import random\n",
        "import math"
      ]
    },
    {
      "cell_type": "code",
      "source": [
        "import torchvision\n",
        "import torchvision.transforms as transforms"
      ],
      "metadata": {
        "id": "3AccJoKBRiq1"
      },
      "execution_count": null,
      "outputs": []
    },
    {
      "cell_type": "code",
      "source": [
        "device = torch.device('cuda' if torch.cuda.is_available() else 'cpu')\n",
        "print('Device available now:', device)"
      ],
      "metadata": {
        "colab": {
          "base_uri": "https://localhost:8080/"
        },
        "id": "bRt9-mkGRkXO",
        "outputId": "d73ea747-8694-4994-9d0a-df1c29d7e5bb"
      },
      "execution_count": null,
      "outputs": [
        {
          "output_type": "stream",
          "name": "stdout",
          "text": [
            "Device available now: cuda\n"
          ]
        }
      ]
    },
    {
      "cell_type": "code",
      "source": [
        "image_transforms = transforms.Compose(\n",
        "         [transforms.ToTensor(),\n",
        "         transforms.CenterCrop(28),\n",
        "         transforms.Normalize((0.5), (0.5))]\n",
        ")"
      ],
      "metadata": {
        "id": "0w7_uqOgSpGk"
      },
      "execution_count": null,
      "outputs": []
    },
    {
      "cell_type": "code",
      "source": [
        "batchsize = 32\n",
        "rowsize = 28\n",
        "colsize = 28\n",
        "inchannels = 3\n",
        "fc_size = 800\n",
        "no_classes = 10\n",
        "epochs = 30"
      ],
      "metadata": {
        "id": "_0K5KcUNRke7"
      },
      "execution_count": null,
      "outputs": []
    },
    {
      "cell_type": "code",
      "source": [
        "\n",
        "train_ioc = []\n",
        "test_ioc = 0\n",
        "train_nn = []\n",
        "noise = 40\n",
        "test_nn = 0"
      ],
      "metadata": {
        "id": "cSsG283YStej"
      },
      "execution_count": null,
      "outputs": []
    },
    {
      "cell_type": "code",
      "source": [
        "class ciFAIR10(torchvision.datasets.CIFAR10):\n",
        "    base_folder = 'ciFAIR-10'\n",
        "    url = 'https://github.com/cvjena/cifair/releases/download/v1.0/ciFAIR-10.zip'\n",
        "    filename = 'ciFAIR-10.zip'\n",
        "    tgz_md5 = 'ca08fd390f0839693d3fc45c4e49585f'\n",
        "    test_list = [\n",
        "        ['test_batch', '01290e6b622a1977a000eff13650aca2'],\n",
        "    ]"
      ],
      "metadata": {
        "id": "qtcQAmTwTqNb"
      },
      "execution_count": null,
      "outputs": []
    },
    {
      "cell_type": "code",
      "source": [
        "train = ciFAIR10(root='./', train=True, download=True, transform=image_transforms)\n",
        "test =  ciFAIR10(root='./', train=False, transform=image_transforms)"
      ],
      "metadata": {
        "colab": {
          "base_uri": "https://localhost:8080/"
        },
        "id": "i8vxBtB3Uiyq",
        "outputId": "92c257a4-f1ca-43bd-dee2-6773f8a3bab6"
      },
      "execution_count": null,
      "outputs": [
        {
          "output_type": "stream",
          "name": "stdout",
          "text": [
            "Files already downloaded and verified\n"
          ]
        }
      ]
    },
    {
      "cell_type": "code",
      "source": [
        "traindata = torch.utils.data.DataLoader(train,batch_size=batchsize, shuffle=True, num_workers=2,pin_memory=True)\n",
        "testdata = torch.utils.data.DataLoader(test,batch_size=batchsize, shuffle=False, num_workers=2,pin_memory=True)"
      ],
      "metadata": {
        "id": "-fRJ4ksGVEKs"
      },
      "execution_count": null,
      "outputs": []
    },
    {
      "cell_type": "code",
      "source": [
        "class IOC_MLP(nn.Module):\n",
        "  def __init__(self,rowsize,colsize,fc_size,inchannels,no_classes):\n",
        "    super(IOC_MLP, self).__init__()\n",
        "    self.fc1 = nn.Linear(rowsize*colsize*inchannels,fc_size)\n",
        "    self.batchnorm1 = nn.BatchNorm1d(fc_size)\n",
        "    self.fc2 = nn.Linear(fc_size,fc_size)\n",
        "    self.batchnorm2 = nn.BatchNorm1d(fc_size)\n",
        "    self.fc3 = nn.Linear(fc_size,fc_size)\n",
        "    self.batchnorm3 = nn.BatchNorm1d(fc_size)\n",
        "    self.fc4 = nn.Linear(fc_size,no_classes)\n",
        "\n",
        "\n",
        "  def forward(self, x):\n",
        "    x = torch.flatten(x,1)\n",
        "    x = x.view(-1, rowsize*colsize*inchannels)\n",
        "    x = F.elu(self.fc1(x))\n",
        "    x = self.batchnorm1(x)\n",
        "    x = F.elu(self.fc2(x))\n",
        "    x = self.batchnorm2(x)\n",
        "    x = F.elu(self.fc3(x))\n",
        "    x = self.batchnorm3(x)\n",
        "    return x"
      ],
      "metadata": {
        "id": "SvIBqUwzVHjM"
      },
      "execution_count": null,
      "outputs": []
    },
    {
      "cell_type": "code",
      "source": [
        "class NN(nn.Module):\n",
        "  def __init__(self,rowsize,colsize,fc_size,inchannels,no_classes):\n",
        "    super(NN, self).__init__()\n",
        "    self.fc1 = nn.Linear(rowsize*colsize*inchannels,fc_size)\n",
        "    self.batchnorm1 = nn.BatchNorm1d(fc_size)\n",
        "    self.fc2 = nn.Linear(fc_size,fc_size)\n",
        "    self.batchnorm2 = nn.BatchNorm1d(fc_size)\n",
        "    self.fc3 = nn.Linear(fc_size,fc_size)\n",
        "    self.batchnorm3 = nn.BatchNorm1d(fc_size)\n",
        "    self.fc4 = nn.Linear(fc_size,no_classes)\n",
        "\n",
        "\n",
        "  def forward(self, x):\n",
        "    x = torch.flatten(x,1)\n",
        "    x = x.view(-1, rowsize*colsize*inchannels)\n",
        "    x = F.relu(self.fc1(x))\n",
        "    x = self.batchnorm1(x)\n",
        "    x = F.relu(self.fc2(x))\n",
        "    x = self.batchnorm2(x)\n",
        "    x = F.relu(self.fc3(x))\n",
        "    x = self.batchnorm3(x)\n",
        "    return x"
      ],
      "metadata": {
        "id": "3iuEvLiPVKBs"
      },
      "execution_count": null,
      "outputs": []
    },
    {
      "cell_type": "code",
      "source": [
        "ioc_model = IOC_MLP(rowsize,colsize,fc_size,inchannels,no_classes).to(device)\n",
        "nn_model = NN(rowsize,colsize,fc_size,inchannels,no_classes).to(device)\n",
        "# model = SimpleAlex(no_classes).to(device)"
      ],
      "metadata": {
        "id": "CjYOTkMzVLsJ"
      },
      "execution_count": null,
      "outputs": []
    },
    {
      "cell_type": "code",
      "source": [
        "ioc_optimizer = torch.optim.Adam(ioc_model.parameters(),lr= 0.0001)\n",
        "nn_optimizer = torch.optim.Adam(nn_model.parameters(),lr= 0.0001)\n",
        "criterion = nn.CrossEntropyLoss().to(device)"
      ],
      "metadata": {
        "id": "JngGAVbbVNmu"
      },
      "execution_count": null,
      "outputs": []
    },
    {
      "cell_type": "code",
      "source": [
        "\n",
        "for i in range(epochs):\n",
        "  Loss = 0\n",
        "  num_correct=0\n",
        "  tot = 0\n",
        "  for i,data in enumerate(traindata):\n",
        "    # iterating through every batch\n",
        "    x_data = data[0].to(device)\n",
        "    labels = data[1].to(device)\n",
        "    ioc_optimizer.zero_grad()\n",
        "    outputs = ioc_model(x_data)\n",
        "    _, pred = torch.max(outputs.data, 1)\n",
        "    num_correct += (pred == labels).sum().item()\n",
        "    tot += labels.size(0)\n",
        "    loss = criterion(outputs, labels)\n",
        "    loss.backward()\n",
        "    ioc_optimizer.step()\n",
        "    Loss += loss\n",
        "    for w in ioc_model.parameters():\n",
        "      p = w\n",
        "      torch.where(w > 0, w, torch.exp(p))\n",
        "  train_ioc.append(num_correct/tot)    \n",
        "  print(\"Accuracy for exponentiation on negative weights : \",num_correct/tot)\n",
        "  print(\"Loss for exponentiation on negative weights : \",loss.item())\n",
        "  "
      ],
      "metadata": {
        "colab": {
          "base_uri": "https://localhost:8080/"
        },
        "id": "01IZXOBAVQJ_",
        "outputId": "d218feca-7b8c-417b-a461-3b1c76c22a20"
      },
      "execution_count": null,
      "outputs": [
        {
          "output_type": "stream",
          "name": "stdout",
          "text": [
            "Accuracy for exponentiation on negative weights :  0.34752\n",
            "Loss for exponentiation on negative weights :  4.950436115264893\n",
            "Accuracy for exponentiation on negative weights :  0.43078\n",
            "Loss for exponentiation on negative weights :  4.339751720428467\n",
            "Accuracy for exponentiation on negative weights :  0.46466\n",
            "Loss for exponentiation on negative weights :  4.320328235626221\n",
            "Accuracy for exponentiation on negative weights :  0.48566\n",
            "Loss for exponentiation on negative weights :  3.621182680130005\n",
            "Accuracy for exponentiation on negative weights :  0.50884\n",
            "Loss for exponentiation on negative weights :  3.5815460681915283\n",
            "Accuracy for exponentiation on negative weights :  0.52936\n",
            "Loss for exponentiation on negative weights :  2.304992914199829\n",
            "Accuracy for exponentiation on negative weights :  0.54684\n",
            "Loss for exponentiation on negative weights :  2.5003459453582764\n",
            "Accuracy for exponentiation on negative weights :  0.56072\n",
            "Loss for exponentiation on negative weights :  2.0822558403015137\n",
            "Accuracy for exponentiation on negative weights :  0.57394\n",
            "Loss for exponentiation on negative weights :  2.009878635406494\n",
            "Accuracy for exponentiation on negative weights :  0.58404\n",
            "Loss for exponentiation on negative weights :  1.166707992553711\n",
            "Accuracy for exponentiation on negative weights :  0.59798\n",
            "Loss for exponentiation on negative weights :  1.4556738138198853\n",
            "Accuracy for exponentiation on negative weights :  0.61136\n",
            "Loss for exponentiation on negative weights :  1.4673446416854858\n",
            "Accuracy for exponentiation on negative weights :  0.62448\n",
            "Loss for exponentiation on negative weights :  1.8742623329162598\n",
            "Accuracy for exponentiation on negative weights :  0.6386\n",
            "Loss for exponentiation on negative weights :  1.6934939622879028\n",
            "Accuracy for exponentiation on negative weights :  0.64964\n",
            "Loss for exponentiation on negative weights :  2.2875523567199707\n",
            "Accuracy for exponentiation on negative weights :  0.66288\n",
            "Loss for exponentiation on negative weights :  1.0764062404632568\n",
            "Accuracy for exponentiation on negative weights :  0.67316\n",
            "Loss for exponentiation on negative weights :  1.4706568717956543\n",
            "Accuracy for exponentiation on negative weights :  0.68594\n",
            "Loss for exponentiation on negative weights :  1.0931552648544312\n",
            "Accuracy for exponentiation on negative weights :  0.69614\n",
            "Loss for exponentiation on negative weights :  1.6798769235610962\n",
            "Accuracy for exponentiation on negative weights :  0.70932\n",
            "Loss for exponentiation on negative weights :  1.25957453250885\n",
            "Accuracy for exponentiation on negative weights :  0.71874\n",
            "Loss for exponentiation on negative weights :  1.3197846412658691\n",
            "Accuracy for exponentiation on negative weights :  0.72934\n",
            "Loss for exponentiation on negative weights :  0.8887017965316772\n",
            "Accuracy for exponentiation on negative weights :  0.73998\n",
            "Loss for exponentiation on negative weights :  0.8633760213851929\n",
            "Accuracy for exponentiation on negative weights :  0.75126\n",
            "Loss for exponentiation on negative weights :  1.6989761590957642\n",
            "Accuracy for exponentiation on negative weights :  0.75786\n",
            "Loss for exponentiation on negative weights :  0.7003877758979797\n",
            "Accuracy for exponentiation on negative weights :  0.77336\n",
            "Loss for exponentiation on negative weights :  1.2285329103469849\n",
            "Accuracy for exponentiation on negative weights :  0.7781\n",
            "Loss for exponentiation on negative weights :  0.8683227896690369\n",
            "Accuracy for exponentiation on negative weights :  0.78758\n",
            "Loss for exponentiation on negative weights :  1.634383201599121\n",
            "Accuracy for exponentiation on negative weights :  0.79422\n",
            "Loss for exponentiation on negative weights :  0.5727651715278625\n",
            "Accuracy for exponentiation on negative weights :  0.80154\n",
            "Loss for exponentiation on negative weights :  0.4895402789115906\n"
          ]
        }
      ]
    },
    {
      "cell_type": "code",
      "source": [
        "with torch.no_grad():\n",
        "    correct = 0\n",
        "    total = 0\n",
        "    for images, labels in testdata:\n",
        "        images = images.to(device)\n",
        "        labels = labels.to(device)\n",
        "        outputs = ioc_model(images)\n",
        "        _, predicted = torch.max(outputs.data, 1)\n",
        "        total += labels.size(0)\n",
        "        correct += (predicted == labels).sum().item()\n",
        "    test_ioc = correct/total\n",
        "    print(\"Test Accuracy for exponentiation of weights for IOC Architecture : \",100 * correct / total)\n",
        "\n"
      ],
      "metadata": {
        "colab": {
          "base_uri": "https://localhost:8080/"
        },
        "id": "FdsmK-_pVSp-",
        "outputId": "1c7f1aeb-d0f0-4e2e-8daa-54ccb489515d"
      },
      "execution_count": null,
      "outputs": [
        {
          "output_type": "stream",
          "name": "stdout",
          "text": [
            "Test Accuracy for exponentiation of weights for IOC Architecture :  50.22\n"
          ]
        }
      ]
    },
    {
      "cell_type": "code",
      "source": [
        "\n",
        "for i in range(epochs):\n",
        "  Loss = 0\n",
        "  num_correct=0\n",
        "  tot = 0\n",
        "  for i,data in enumerate(traindata):\n",
        "    # iterating through every batch\n",
        "    x_data = data[0].to(device)\n",
        "    labels = data[1].to(device)\n",
        "    nn_optimizer.zero_grad()\n",
        "    outputs = nn_model(x_data)\n",
        "    _, pred = torch.max(outputs.data, 1)\n",
        "    num_correct += (pred == labels).sum().item()\n",
        "    tot += labels.size(0)\n",
        "    loss = criterion(outputs, labels)\n",
        "    loss.backward()\n",
        "    nn_optimizer.step()\n",
        "    Loss += loss\n",
        "  train_nn.append(num_correct/tot)    \n",
        "  print(\"Accuracy for exponentiation on negative weights : \",num_correct/tot)\n",
        "  print(\"Loss for exponentiation on negative weights : \",loss.item())\n",
        "  "
      ],
      "metadata": {
        "colab": {
          "base_uri": "https://localhost:8080/"
        },
        "id": "rpum0gk_VWPI",
        "outputId": "e6b7a741-3560-4695-ee85-ac68183999d1"
      },
      "execution_count": null,
      "outputs": [
        {
          "output_type": "stream",
          "name": "stdout",
          "text": [
            "Accuracy for exponentiation on negative weights :  0.36844\n",
            "Loss for exponentiation on negative weights :  2.510282039642334\n",
            "Accuracy for exponentiation on negative weights :  0.44292\n",
            "Loss for exponentiation on negative weights :  2.4704837799072266\n",
            "Accuracy for exponentiation on negative weights :  0.47718\n",
            "Loss for exponentiation on negative weights :  2.3494632244110107\n",
            "Accuracy for exponentiation on negative weights :  0.50662\n",
            "Loss for exponentiation on negative weights :  2.842975616455078\n",
            "Accuracy for exponentiation on negative weights :  0.52768\n",
            "Loss for exponentiation on negative weights :  1.8719474077224731\n",
            "Accuracy for exponentiation on negative weights :  0.55222\n",
            "Loss for exponentiation on negative weights :  2.534543514251709\n",
            "Accuracy for exponentiation on negative weights :  0.5698\n",
            "Loss for exponentiation on negative weights :  1.3578927516937256\n",
            "Accuracy for exponentiation on negative weights :  0.591\n",
            "Loss for exponentiation on negative weights :  0.4950754642486572\n",
            "Accuracy for exponentiation on negative weights :  0.60838\n",
            "Loss for exponentiation on negative weights :  1.6732006072998047\n",
            "Accuracy for exponentiation on negative weights :  0.62848\n",
            "Loss for exponentiation on negative weights :  0.2677520513534546\n",
            "Accuracy for exponentiation on negative weights :  0.64512\n",
            "Loss for exponentiation on negative weights :  1.7467529773712158\n",
            "Accuracy for exponentiation on negative weights :  0.6677\n",
            "Loss for exponentiation on negative weights :  1.2376508712768555\n",
            "Accuracy for exponentiation on negative weights :  0.6894\n",
            "Loss for exponentiation on negative weights :  0.7982339859008789\n",
            "Accuracy for exponentiation on negative weights :  0.76654\n",
            "Loss for exponentiation on negative weights :  0.9723244905471802\n",
            "Accuracy for exponentiation on negative weights :  0.79154\n",
            "Loss for exponentiation on negative weights :  0.38287150859832764\n",
            "Accuracy for exponentiation on negative weights :  0.81314\n",
            "Loss for exponentiation on negative weights :  0.3199136257171631\n",
            "Accuracy for exponentiation on negative weights :  0.83028\n",
            "Loss for exponentiation on negative weights :  0.8379772305488586\n",
            "Accuracy for exponentiation on negative weights :  0.8482\n",
            "Loss for exponentiation on negative weights :  0.7848214507102966\n",
            "Accuracy for exponentiation on negative weights :  0.86128\n",
            "Loss for exponentiation on negative weights :  0.7620173692703247\n",
            "Accuracy for exponentiation on negative weights :  0.88046\n",
            "Loss for exponentiation on negative weights :  0.34090256690979004\n",
            "Accuracy for exponentiation on negative weights :  0.88974\n",
            "Loss for exponentiation on negative weights :  0.36357972025871277\n",
            "Accuracy for exponentiation on negative weights :  0.90502\n",
            "Loss for exponentiation on negative weights :  0.8044587969779968\n",
            "Accuracy for exponentiation on negative weights :  0.91272\n",
            "Loss for exponentiation on negative weights :  0.16246436536312103\n",
            "Accuracy for exponentiation on negative weights :  0.92184\n",
            "Loss for exponentiation on negative weights :  0.27808380126953125\n",
            "Accuracy for exponentiation on negative weights :  0.93244\n",
            "Loss for exponentiation on negative weights :  0.17318975925445557\n",
            "Accuracy for exponentiation on negative weights :  0.93902\n",
            "Loss for exponentiation on negative weights :  0.11571238934993744\n",
            "Accuracy for exponentiation on negative weights :  0.94082\n",
            "Loss for exponentiation on negative weights :  0.09558890014886856\n",
            "Accuracy for exponentiation on negative weights :  0.94932\n",
            "Loss for exponentiation on negative weights :  0.13301581144332886\n",
            "Accuracy for exponentiation on negative weights :  0.95392\n",
            "Loss for exponentiation on negative weights :  0.07049776613712311\n",
            "Accuracy for exponentiation on negative weights :  0.9564\n",
            "Loss for exponentiation on negative weights :  0.075157530605793\n"
          ]
        }
      ]
    },
    {
      "cell_type": "code",
      "source": [
        "with torch.no_grad():\n",
        "    correct = 0\n",
        "    total = 0\n",
        "    for images, labels in testdata:\n",
        "        images = images.to(device)\n",
        "        labels = labels.to(device)\n",
        "        outputs = nn_model(images)\n",
        "        _, predicted = torch.max(outputs.data, 1)\n",
        "        total += labels.size(0)\n",
        "        correct += (predicted == labels).sum().item()\n",
        "    test_nn = correct/total\n",
        "    print(\"Test Accuracy for exponentiation of weights with NN Architecture : \",100 * correct / total)\n",
        "\n"
      ],
      "metadata": {
        "colab": {
          "base_uri": "https://localhost:8080/"
        },
        "id": "GNfwurNsVfMf",
        "outputId": "3b42eea8-5a83-4850-8370-e1336b5b40dc"
      },
      "execution_count": null,
      "outputs": [
        {
          "output_type": "stream",
          "name": "stdout",
          "text": [
            "Test Accuracy for exponentiation of weights with NN Architecture :  53.04\n"
          ]
        }
      ]
    },
    {
      "cell_type": "code",
      "source": [
        "import matplotlib.pyplot as plt\n",
        "epoch_numbers = np.arange(0,epochs,1)\n",
        "plt.title(\"Training Accuracies\")\n",
        "plt.xlabel(\"Epochs\")\n",
        "plt.ylabel(\"Accuracies\")\n",
        "plt.plot(epoch_numbers,train_ioc,label='IOC Model')\n",
        "plt.plot(epoch_numbers,train_nn,label='NN Model')     \n",
        "plt.legend()\n",
        "plt.show()           "
      ],
      "metadata": {
        "colab": {
          "base_uri": "https://localhost:8080/",
          "height": 295
        },
        "id": "jdoF3SFPVg6H",
        "outputId": "5f00da09-c2d8-4b03-e9c3-6ce00edf5016"
      },
      "execution_count": null,
      "outputs": [
        {
          "output_type": "display_data",
          "data": {
            "text/plain": [
              "<Figure size 432x288 with 1 Axes>"
            ],
            "image/png": "[encoded data removed]"
          },
          "metadata": {
            "needs_background": "light"
          }
        }
      ]
    },
    {
      "cell_type": "code",
      "source": [
        "print(\"Generalization Gap for NN Model\",(train_nn[len(train_nn)-1]*100)-(test_nn*100))\n",
        "print(\"Generalization Gap for IOC Model\",(train_ioc[len(train_ioc)-1]*100)-(test_ioc*100))"
      ],
      "metadata": {
        "colab": {
          "base_uri": "https://localhost:8080/"
        },
        "id": "iGEh7MwsVi9I",
        "outputId": "602781d0-3b9d-4555-be2a-015d7955158d"
      },
      "execution_count": null,
      "outputs": [
        {
          "output_type": "stream",
          "name": "stdout",
          "text": [
            "Generalization Gap for NN Model 42.6\n",
            "Generalization Gap for IOC Model 29.933999999999997\n"
          ]
        }
      ]
    }
  ]
}