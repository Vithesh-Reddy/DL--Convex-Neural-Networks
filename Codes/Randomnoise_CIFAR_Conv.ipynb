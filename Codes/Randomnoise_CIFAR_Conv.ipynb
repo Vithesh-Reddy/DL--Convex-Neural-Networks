{
  "cells": [
    {
      "cell_type": "code",
      "execution_count": null,
      "metadata": {
        "id": "-0ZExLER_k4X"
      },
      "outputs": [],
      "source": [
        "\n",
        "import torch\n",
        "import numpy as np\n",
        "import pandas as pd\n",
        "import torch.nn as nn\n",
        "import torch.optim as optim\n",
        "import os\n",
        "import matplotlib.pyplot as plt\n",
        "import torch.nn.functional as F\n",
        "%matplotlib inline\n",
        "import random\n",
        "import math"
      ]
    },
    {
      "cell_type": "code",
      "execution_count": null,
      "metadata": {
        "id": "M--V6EhV_tN4"
      },
      "outputs": [],
      "source": [
        "import torchvision\n",
        "import torchvision.transforms as transforms"
      ]
    },
    {
      "cell_type": "code",
      "execution_count": null,
      "metadata": {
        "colab": {
          "base_uri": "https://localhost:8080/"
        },
        "id": "oAzV8i_3_uko",
        "outputId": "fe4d9982-8078-484b-8b70-8fe6b26b72ea"
      },
      "outputs": [
        {
          "name": "stdout",
          "output_type": "stream",
          "text": [
            "Device available now: cuda\n"
          ]
        }
      ],
      "source": [
        "device = torch.device('cuda' if torch.cuda.is_available() else 'cpu')\n",
        "print('Device available now:', device)"
      ]
    },
    {
      "cell_type": "code",
      "execution_count": null,
      "metadata": {
        "id": "3REdoYlF_v-n"
      },
      "outputs": [],
      "source": [
        "image_transforms = transforms.Compose(\n",
        "         [transforms.ToTensor(),\n",
        "         transforms.CenterCrop(28),\n",
        "         transforms.Normalize((0.5), (0.5))]\n",
        ")"
      ]
    },
    {
      "cell_type": "code",
      "execution_count": null,
      "metadata": {
        "id": "hR6e9X3-_xUP"
      },
      "outputs": [],
      "source": [
        "batchsize = 256\n",
        "rowsize = 28\n",
        "colsize = 28\n",
        "inchannels = 3\n",
        "kernelsize = 5\n",
        "stride = 1\n",
        "padding = 0\n",
        "poolsize = 3\n",
        "fc_size1 = 384\n",
        "fc_size2 = 192\n",
        "no_classes = 10\n",
        "epochs = 30"
      ]
    },
    {
      "cell_type": "code",
      "execution_count": null,
      "metadata": {
        "id": "JRi6ZdzL_yrp"
      },
      "outputs": [],
      "source": [
        "\n",
        "train_ioc = []\n",
        "test_ioc = 0\n",
        "train_nn = []\n",
        "noise = 40\n",
        "test_nn = 0"
      ]
    },
    {
      "cell_type": "code",
      "execution_count": null,
      "metadata": {
        "colab": {
          "base_uri": "https://localhost:8080/",
          "height": 85,
          "referenced_widgets": [
            "9f123b442c6846be8764e91e4735b14d",
            "07b6a7e013fb4e99b7ce8bb50d845d96",
            "3ef75b116569457a85f012198ce6e4f8",
            "273aa6d0091148d4a411ed73b0d1974b",
            "96f29e170794453285077833329a27be",
            "f4234380cc8e417fb8e4bfd734f55f87",
            "d1b3d3655ca147fdb0dcee17ab8c933b",
            "be7aacf08ffc409dbc0e9a4964c2f40e",
            "87766502845a4ac4bc6af806424a0f1e",
            "0436ca056b9745af8d770a13434e4b32",
            "ed6c8a6a02254ad6a297d42e77b5f39a"
          ]
        },
        "id": "rHkmogPR_0sh",
        "outputId": "1f13c7ac-0ddc-4e6c-bff0-734d24feaa76"
      },
      "outputs": [
        {
          "name": "stdout",
          "output_type": "stream",
          "text": [
            "Downloading https://www.cs.toronto.edu/~kriz/cifar-10-python.tar.gz to ./cifar-10-python.tar.gz\n"
          ]
        },
        {
          "data": {
            "application/vnd.jupyter.widget-view+json": {
              "model_id": "9f123b442c6846be8764e91e4735b14d",
              "version_major": 2,
              "version_minor": 0
            },
            "text/plain": [
              "  0%|          | 0/170498071 [00:00<?, ?it/s]"
            ]
          },
          "metadata": {},
          "output_type": "display_data"
        },
        {
          "name": "stdout",
          "output_type": "stream",
          "text": [
            "Extracting ./cifar-10-python.tar.gz to ./\n"
          ]
        }
      ],
      "source": [
        "train = torchvision.datasets.CIFAR10(root='./', train=True, download=True, transform=image_transforms)\n",
        "test = torchvision.datasets.CIFAR10(root='./', train=False, transform=image_transforms)\n",
        "\n"
      ]
    },
    {
      "cell_type": "code",
      "execution_count": null,
      "metadata": {
        "id": "rTGxBKQX_2LH"
      },
      "outputs": [],
      "source": [
        "traindata = torch.utils.data.DataLoader(train,batch_size=batchsize, shuffle=True, num_workers=2,pin_memory=True)\n",
        "testdata = torch.utils.data.DataLoader(test,batch_size=batchsize, shuffle=False, num_workers=2,pin_memory=True)"
      ]
    },
    {
      "cell_type": "code",
      "execution_count": null,
      "metadata": {
        "id": "f2mrno5r_3op"
      },
      "outputs": [],
      "source": [
        "for i,data in enumerate(traindata):\n",
        "  #data[0] , data[1]\n",
        "  for j in range(len(data)):\n",
        "    data[1][j] = random.randint(0, 9)"
      ]
    },
    {
      "cell_type": "code",
      "execution_count": null,
      "metadata": {
        "id": "7BA9_-BI_5Vn"
      },
      "outputs": [],
      "source": [
        "class IOC_CNN(nn.Module):\n",
        "  def __init__(self,inchannels,kernelsize,stride,padding,poolsize,fc_size1,fc_size2,no_classes):\n",
        "    super(IOC_CNN, self).__init__()\n",
        "    self.conv1 = nn.Conv2d(inchannels,24,kernelsize,stride,padding)\n",
        "    self.pool1 = nn.MaxPool2d(poolsize,2)\n",
        "    self.BatchNorm1 = nn.BatchNorm2d(24)\n",
        "    self.conv2 = nn.Conv2d(24,48,kernelsize,stride,padding)\n",
        "    self.pool2 = nn.MaxPool2d(poolsize,2)\n",
        "    self.BatchNorm2 = nn.BatchNorm2d(48)\n",
        "    self.fc1 = nn.Linear(432,fc_size1)\n",
        "    self.fc2 = nn.Linear(fc_size1,fc_size2)\n",
        "    self.fc3 = nn.Linear(fc_size2,no_classes)\n",
        "\n",
        "\n",
        "  def forward(self, x):\n",
        "    x = F.elu(self.conv1(x))\n",
        "    x = self.pool1(x)\n",
        "    x = self.BatchNorm1(x)\n",
        "    x = F.elu(self.conv2(x))\n",
        "    x = self.pool2(x)\n",
        "    x = self.BatchNorm2(x)\n",
        "    x = torch.flatten(x,1)\n",
        "    x = F.elu(self.fc1(x))\n",
        "    x = F.elu(self.fc2(x))\n",
        "    x = F.elu(self.fc3(x))\n",
        "    return x"
      ]
    },
    {
      "cell_type": "code",
      "execution_count": null,
      "metadata": {
        "id": "DzAyfynxC54N"
      },
      "outputs": [],
      "source": [
        "class NN_CNN(nn.Module):\n",
        "  def __init__(self,inchannels,kernelsize,stride,padding,poolsize,fc_size1,fc_size2,no_classes):\n",
        "    super(NN_CNN, self).__init__()\n",
        "    self.conv1 = nn.Conv2d(inchannels,24,kernelsize,stride,padding)\n",
        "    self.pool1 = nn.MaxPool2d(poolsize,2)\n",
        "    self.BatchNorm1 = nn.BatchNorm2d(24)\n",
        "    self.conv2 = nn.Conv2d(24,48,kernelsize,stride,padding)\n",
        "    self.pool2 = nn.MaxPool2d(poolsize,2)\n",
        "    self.BatchNorm2 = nn.BatchNorm2d(48)\n",
        "    self.fc1 = nn.Linear(432,fc_size1)\n",
        "    self.fc2 = nn.Linear(fc_size1,fc_size2)\n",
        "    self.fc3 = nn.Linear(fc_size2,no_classes)\n",
        "\n",
        "\n",
        "  def forward(self, x):\n",
        "    x = F.relu(self.conv1(x))\n",
        "    x = self.pool1(x)\n",
        "    x = self.BatchNorm1(x)\n",
        "    x = F.relu(self.conv2(x))\n",
        "    x = self.pool2(x)\n",
        "    x = self.BatchNorm2(x)\n",
        "    x = torch.flatten(x,1)\n",
        "    x = F.relu(self.fc1(x))\n",
        "    x = F.relu(self.fc2(x))\n",
        "    x = F.relu(self.fc3(x))\n",
        "    return x"
      ]
    },
    {
      "cell_type": "code",
      "execution_count": null,
      "metadata": {
        "id": "ZlZzuh1H_8AQ"
      },
      "outputs": [],
      "source": [
        "ioc_model = IOC_CNN(inchannels,kernelsize,stride,padding,poolsize,fc_size1,fc_size2,no_classes).to(device)\n",
        "nn_model = NN_CNN(inchannels,kernelsize,stride,padding,poolsize,fc_size1,fc_size2,no_classes).to(device)\n",
        "# model = SimpleAlex(no_classes).to(device)"
      ]
    },
    {
      "cell_type": "code",
      "execution_count": null,
      "metadata": {
        "id": "6xkpX5Qc_9VP"
      },
      "outputs": [],
      "source": [
        "ioc_optimizer = torch.optim.Adam(ioc_model.parameters(),lr= 0.0001)\n",
        "nn_optimizer = torch.optim.Adam(nn_model.parameters(),lr= 0.0001)\n",
        "criterion = nn.CrossEntropyLoss().to(device)"
      ]
    },
    {
      "cell_type": "code",
      "execution_count": null,
      "metadata": {
        "colab": {
          "base_uri": "https://localhost:8080/"
        },
        "id": "0EIM8d_i_-lY",
        "outputId": "6b9359da-81d0-41b5-c8c5-142763d3499a"
      },
      "outputs": [
        {
          "name": "stdout",
          "output_type": "stream",
          "text": [
            "Accuracy for exponentiation on negative weights :  0.41476\n",
            "Loss for exponentiation on negative weights :  1.2716751098632812\n",
            "Accuracy for exponentiation on negative weights :  0.53944\n",
            "Loss for exponentiation on negative weights :  1.2937085628509521\n",
            "Accuracy for exponentiation on negative weights :  0.57904\n",
            "Loss for exponentiation on negative weights :  1.1946817636489868\n",
            "Accuracy for exponentiation on negative weights :  0.603\n",
            "Loss for exponentiation on negative weights :  1.109101414680481\n",
            "Accuracy for exponentiation on negative weights :  0.62102\n",
            "Loss for exponentiation on negative weights :  1.2188135385513306\n",
            "Accuracy for exponentiation on negative weights :  0.63618\n",
            "Loss for exponentiation on negative weights :  1.0446932315826416\n",
            "Accuracy for exponentiation on negative weights :  0.65032\n",
            "Loss for exponentiation on negative weights :  0.9329245686531067\n",
            "Accuracy for exponentiation on negative weights :  0.66302\n",
            "Loss for exponentiation on negative weights :  0.793621838092804\n",
            "Accuracy for exponentiation on negative weights :  0.67302\n",
            "Loss for exponentiation on negative weights :  1.1704108715057373\n",
            "Accuracy for exponentiation on negative weights :  0.68022\n",
            "Loss for exponentiation on negative weights :  0.9077075123786926\n",
            "Accuracy for exponentiation on negative weights :  0.68856\n",
            "Loss for exponentiation on negative weights :  1.0968557596206665\n",
            "Accuracy for exponentiation on negative weights :  0.69856\n",
            "Loss for exponentiation on negative weights :  1.0143954753875732\n",
            "Accuracy for exponentiation on negative weights :  0.7066\n",
            "Loss for exponentiation on negative weights :  1.0863310098648071\n",
            "Accuracy for exponentiation on negative weights :  0.7129\n",
            "Loss for exponentiation on negative weights :  1.0061084032058716\n",
            "Accuracy for exponentiation on negative weights :  0.72012\n",
            "Loss for exponentiation on negative weights :  0.6410752534866333\n",
            "Accuracy for exponentiation on negative weights :  0.72658\n",
            "Loss for exponentiation on negative weights :  0.689856231212616\n",
            "Accuracy for exponentiation on negative weights :  0.73262\n",
            "Loss for exponentiation on negative weights :  0.7193260788917542\n",
            "Accuracy for exponentiation on negative weights :  0.74\n",
            "Loss for exponentiation on negative weights :  0.8792204856872559\n",
            "Accuracy for exponentiation on negative weights :  0.745\n",
            "Loss for exponentiation on negative weights :  0.9305475354194641\n",
            "Accuracy for exponentiation on negative weights :  0.74902\n",
            "Loss for exponentiation on negative weights :  0.5186524391174316\n",
            "Accuracy for exponentiation on negative weights :  0.75634\n",
            "Loss for exponentiation on negative weights :  0.9219012260437012\n",
            "Accuracy for exponentiation on negative weights :  0.76114\n",
            "Loss for exponentiation on negative weights :  0.7281981706619263\n",
            "Accuracy for exponentiation on negative weights :  0.76766\n",
            "Loss for exponentiation on negative weights :  0.860135555267334\n",
            "Accuracy for exponentiation on negative weights :  0.77016\n",
            "Loss for exponentiation on negative weights :  0.7653210759162903\n",
            "Accuracy for exponentiation on negative weights :  0.77486\n",
            "Loss for exponentiation on negative weights :  0.6166170835494995\n",
            "Accuracy for exponentiation on negative weights :  0.781\n",
            "Loss for exponentiation on negative weights :  0.597562313079834\n",
            "Accuracy for exponentiation on negative weights :  0.78532\n",
            "Loss for exponentiation on negative weights :  0.5981066823005676\n",
            "Accuracy for exponentiation on negative weights :  0.7901\n",
            "Loss for exponentiation on negative weights :  0.5100761651992798\n",
            "Accuracy for exponentiation on negative weights :  0.79394\n",
            "Loss for exponentiation on negative weights :  0.6032673120498657\n",
            "Accuracy for exponentiation on negative weights :  0.79974\n",
            "Loss for exponentiation on negative weights :  0.5303836464881897\n"
          ]
        }
      ],
      "source": [
        "\n",
        "for i in range(epochs):\n",
        "  Loss = 0\n",
        "  num_correct=0\n",
        "  tot = 0\n",
        "  for i,data in enumerate(traindata):\n",
        "    # iterating through every batch\n",
        "    x_data = data[0].to(device)\n",
        "    labels = data[1].to(device)\n",
        "    ioc_optimizer.zero_grad()\n",
        "    outputs = ioc_model(x_data)\n",
        "    _, pred = torch.max(outputs.data, 1)\n",
        "    num_correct += (pred == labels).sum().item()\n",
        "    tot += labels.size(0)\n",
        "    loss = criterion(outputs, labels)\n",
        "    loss.backward()\n",
        "    ioc_optimizer.step()\n",
        "    Loss += loss\n",
        "    for w in ioc_model.parameters():\n",
        "      p = w\n",
        "      torch.where(w > 0, w, torch.exp(p))\n",
        "  train_ioc.append(num_correct/tot)    \n",
        "  print(\"Accuracy for exponentiation on negative weights : \",num_correct/tot)\n",
        "  print(\"Loss for exponentiation on negative weights : \",loss.item())\n",
        "  "
      ]
    },
    {
      "cell_type": "code",
      "execution_count": null,
      "metadata": {
        "colab": {
          "base_uri": "https://localhost:8080/"
        },
        "id": "RupkgNAmAAIY",
        "outputId": "b18fee65-d1fd-4600-fa2d-92b47718ac1f"
      },
      "outputs": [
        {
          "name": "stdout",
          "output_type": "stream",
          "text": [
            "Test Accuracy for exponentiation of weights for IOC Architecture :  67.21\n"
          ]
        }
      ],
      "source": [
        "with torch.no_grad():\n",
        "    correct = 0\n",
        "    total = 0\n",
        "    for images, labels in testdata:\n",
        "        images = images.to(device)\n",
        "        labels = labels.to(device)\n",
        "        outputs = ioc_model(images)\n",
        "        _, predicted = torch.max(outputs.data, 1)\n",
        "        total += labels.size(0)\n",
        "        correct += (predicted == labels).sum().item()\n",
        "    test_ioc = correct/total\n",
        "    print(\"Test Accuracy for exponentiation of weights for IOC Architecture : \",100 * correct / total)\n",
        "\n"
      ]
    },
    {
      "cell_type": "code",
      "execution_count": null,
      "metadata": {
        "colab": {
          "base_uri": "https://localhost:8080/"
        },
        "id": "4YpCyHqdACJw",
        "outputId": "08712495-af7a-4bb9-8641-f8ea6ff3064f"
      },
      "outputs": [
        {
          "name": "stdout",
          "output_type": "stream",
          "text": [
            "Accuracy for exponentiation on negative weights :  0.36592\n",
            "Loss for exponentiation on negative weights :  1.3662883043289185\n",
            "Accuracy for exponentiation on negative weights :  0.53334\n",
            "Loss for exponentiation on negative weights :  1.2326545715332031\n",
            "Accuracy for exponentiation on negative weights :  0.58198\n",
            "Loss for exponentiation on negative weights :  0.9819024205207825\n",
            "Accuracy for exponentiation on negative weights :  0.61098\n",
            "Loss for exponentiation on negative weights :  1.0140310525894165\n",
            "Accuracy for exponentiation on negative weights :  0.6338\n",
            "Loss for exponentiation on negative weights :  0.893841564655304\n",
            "Accuracy for exponentiation on negative weights :  0.6546\n",
            "Loss for exponentiation on negative weights :  0.9602478742599487\n",
            "Accuracy for exponentiation on negative weights :  0.6671\n",
            "Loss for exponentiation on negative weights :  0.9253517985343933\n",
            "Accuracy for exponentiation on negative weights :  0.68488\n",
            "Loss for exponentiation on negative weights :  0.994282603263855\n",
            "Accuracy for exponentiation on negative weights :  0.6954\n",
            "Loss for exponentiation on negative weights :  0.8664618730545044\n",
            "Accuracy for exponentiation on negative weights :  0.70704\n",
            "Loss for exponentiation on negative weights :  0.8031255602836609\n",
            "Accuracy for exponentiation on negative weights :  0.71852\n",
            "Loss for exponentiation on negative weights :  0.9190980792045593\n",
            "Accuracy for exponentiation on negative weights :  0.7292\n",
            "Loss for exponentiation on negative weights :  0.5865527391433716\n",
            "Accuracy for exponentiation on negative weights :  0.73892\n",
            "Loss for exponentiation on negative weights :  0.9266298413276672\n",
            "Accuracy for exponentiation on negative weights :  0.74742\n",
            "Loss for exponentiation on negative weights :  0.7118030786514282\n",
            "Accuracy for exponentiation on negative weights :  0.75528\n",
            "Loss for exponentiation on negative weights :  0.85809725522995\n",
            "Accuracy for exponentiation on negative weights :  0.76654\n",
            "Loss for exponentiation on negative weights :  0.7338655591011047\n",
            "Accuracy for exponentiation on negative weights :  0.7742\n",
            "Loss for exponentiation on negative weights :  0.49144864082336426\n",
            "Accuracy for exponentiation on negative weights :  0.78276\n",
            "Loss for exponentiation on negative weights :  0.7578098177909851\n",
            "Accuracy for exponentiation on negative weights :  0.7912\n",
            "Loss for exponentiation on negative weights :  0.5296108722686768\n",
            "Accuracy for exponentiation on negative weights :  0.79654\n",
            "Loss for exponentiation on negative weights :  0.6379295587539673\n",
            "Accuracy for exponentiation on negative weights :  0.8065\n",
            "Loss for exponentiation on negative weights :  0.5646542310714722\n",
            "Accuracy for exponentiation on negative weights :  0.8117\n",
            "Loss for exponentiation on negative weights :  0.5074731111526489\n",
            "Accuracy for exponentiation on negative weights :  0.81988\n",
            "Loss for exponentiation on negative weights :  0.5302554368972778\n",
            "Accuracy for exponentiation on negative weights :  0.82736\n",
            "Loss for exponentiation on negative weights :  0.5454330444335938\n",
            "Accuracy for exponentiation on negative weights :  0.8341\n",
            "Loss for exponentiation on negative weights :  0.5283833146095276\n",
            "Accuracy for exponentiation on negative weights :  0.84252\n",
            "Loss for exponentiation on negative weights :  0.5143617987632751\n",
            "Accuracy for exponentiation on negative weights :  0.84774\n",
            "Loss for exponentiation on negative weights :  0.5595091581344604\n",
            "Accuracy for exponentiation on negative weights :  0.85412\n",
            "Loss for exponentiation on negative weights :  0.6634936928749084\n",
            "Accuracy for exponentiation on negative weights :  0.86128\n",
            "Loss for exponentiation on negative weights :  0.5253275036811829\n",
            "Accuracy for exponentiation on negative weights :  0.86664\n",
            "Loss for exponentiation on negative weights :  0.3489834666252136\n"
          ]
        }
      ],
      "source": [
        "\n",
        "for i in range(epochs):\n",
        "  Loss = 0\n",
        "  num_correct=0\n",
        "  tot = 0\n",
        "  for i,data in enumerate(traindata):\n",
        "    # iterating through every batch\n",
        "    x_data = data[0].to(device)\n",
        "    labels = data[1].to(device)\n",
        "    nn_optimizer.zero_grad()\n",
        "    outputs = nn_model(x_data)\n",
        "    _, pred = torch.max(outputs.data, 1)\n",
        "    num_correct += (pred == labels).sum().item()\n",
        "    tot += labels.size(0)\n",
        "    loss = criterion(outputs, labels)\n",
        "    loss.backward()\n",
        "    nn_optimizer.step()\n",
        "    Loss += loss\n",
        "  train_nn.append(num_correct/tot)    \n",
        "  print(\"Accuracy for exponentiation on negative weights : \",num_correct/tot)\n",
        "  print(\"Loss for exponentiation on negative weights : \",loss.item())\n",
        "  "
      ]
    },
    {
      "cell_type": "code",
      "execution_count": null,
      "metadata": {
        "colab": {
          "base_uri": "https://localhost:8080/"
        },
        "id": "OA1jflobADko",
        "outputId": "95cb0d53-a930-4103-8ca3-6500ce96a6bc"
      },
      "outputs": [
        {
          "name": "stdout",
          "output_type": "stream",
          "text": [
            "Test Accuracy for exponentiation of weights with NN Architecture :  68.23\n"
          ]
        }
      ],
      "source": [
        "with torch.no_grad():\n",
        "    correct = 0\n",
        "    total = 0\n",
        "    for images, labels in testdata:\n",
        "        images = images.to(device)\n",
        "        labels = labels.to(device)\n",
        "        outputs = nn_model(images)\n",
        "        _, predicted = torch.max(outputs.data, 1)\n",
        "        total += labels.size(0)\n",
        "        correct += (predicted == labels).sum().item()\n",
        "    test_nn = correct/total\n",
        "    print(\"Test Accuracy for exponentiation of weights with NN Architecture : \",100 * correct / total)\n",
        "\n"
      ]
    },
    {
      "cell_type": "code",
      "execution_count": null,
      "metadata": {
        "colab": {
          "base_uri": "https://localhost:8080/",
          "height": 295
        },
        "id": "sTZDKIz1AFtA",
        "outputId": "c3775758-4f47-4390-e63e-19949abac260"
      },
      "outputs": [
        {
          "data": {
            "image/png": "[encoded data removed]",
            "text/plain": [
              "<Figure size 432x288 with 1 Axes>"
            ]
          },
          "metadata": {
            "needs_background": "light"
          },
          "output_type": "display_data"
        }
      ],
      "source": [
        "import matplotlib.pyplot as plt\n",
        "epoch_numbers = np.arange(0,epochs,1)\n",
        "plt.title(\"Training Accuracies\")\n",
        "plt.xlabel(\"Epochs\")\n",
        "plt.ylabel(\"Accuracies\")\n",
        "plt.plot(epoch_numbers,train_ioc,label='IOC Model')\n",
        "plt.plot(epoch_numbers,train_nn,label='NN Model')     \n",
        "plt.legend()\n",
        "plt.show()           "
      ]
    },
    {
      "cell_type": "code",
      "execution_count": null,
      "metadata": {
        "colab": {
          "base_uri": "https://localhost:8080/"
        },
        "id": "GBf56b8JAG9r",
        "outputId": "121e2e51-5f83-4a23-8825-e749ffecf7fa"
      },
      "outputs": [
        {
          "name": "stdout",
          "output_type": "stream",
          "text": [
            "Generalization Gap for NN Model 18.433999999999997\n",
            "Generalization Gap for IOC Model 12.763999999999996\n"
          ]
        }
      ],
      "source": [
        "print(\"Generalization Gap for NN Model\",(train_nn[len(train_nn)-1]*100)-(test_nn*100))\n",
        "print(\"Generalization Gap for IOC Model\",(train_ioc[len(train_ioc)-1]*100)-(test_ioc*100))"
      ]
    },
    {
      "cell_type": "code",
      "execution_count": null,
      "metadata": {
        "id": "2J8mLW58_yx6"
      },
      "outputs": [],
      "source": []
    }
  ],
  "metadata": {
    "accelerator": "GPU",
    "colab": {
      "provenance": []
    },
    "gpuClass": "standard",
    "kernelspec": {
      "display_name": "Python 3.8.8 ('base')",
      "language": "python",
      "name": "python3"
    },
    "language_info": {
      "name": "python",
      "version": "3.8.8"
    },
    "vscode": {
      "interpreter": {
        "hash": "9b40efd79baebdf3b3de127110fa80adf524981d137c0cd472ae07fa2900d987"
      }
    },
    "widgets": {
      "application/vnd.jupyter.widget-state+json": {
        "0436ca056b9745af8d770a13434e4b32": {
          "model_module": "@jupyter-widgets/base",
          "model_module_version": "1.2.0",
          "model_name": "LayoutModel",
          "state": {
            "_model_module": "@jupyter-widgets/base",
            "_model_module_version": "1.2.0",
            "_model_name": "LayoutModel",
            "_view_count": null,
            "_view_module": "@jupyter-widgets/base",
            "_view_module_version": "1.2.0",
            "_view_name": "LayoutView",
            "align_content": null,
            "align_items": null,
            "align_self": null,
            "border": null,
            "bottom": null,
            "display": null,
            "flex": null,
            "flex_flow": null,
            "grid_area": null,
            "grid_auto_columns": null,
            "grid_auto_flow": null,
            "grid_auto_rows": null,
            "grid_column": null,
            "grid_gap": null,
            "grid_row": null,
            "grid_template_areas": null,
            "grid_template_columns": null,
            "grid_template_rows": null,
            "height": null,
            "justify_content": null,
            "justify_items": null,
            "left": null,
            "margin": null,
            "max_height": null,
            "max_width": null,
            "min_height": null,
            "min_width": null,
            "object_fit": null,
            "object_position": null,
            "order": null,
            "overflow": null,
            "overflow_x": null,
            "overflow_y": null,
            "padding": null,
            "right": null,
            "top": null,
            "visibility": null,
            "width": null
          }
        },
        "07b6a7e013fb4e99b7ce8bb50d845d96": {
          "model_module": "@jupyter-widgets/controls",
          "model_module_version": "1.5.0",
          "model_name": "HTMLModel",
          "state": {
            "_dom_classes": [],
            "_model_module": "@jupyter-widgets/controls",
            "_model_module_version": "1.5.0",
            "_model_name": "HTMLModel",
            "_view_count": null,
            "_view_module": "@jupyter-widgets/controls",
            "_view_module_version": "1.5.0",
            "_view_name": "HTMLView",
            "description": "",
            "description_tooltip": null,
            "layout": "IPY_MODEL_f4234380cc8e417fb8e4bfd734f55f87",
            "placeholder": "​",
            "style": "IPY_MODEL_d1b3d3655ca147fdb0dcee17ab8c933b",
            "value": "100%"
          }
        },
        "273aa6d0091148d4a411ed73b0d1974b": {
          "model_module": "@jupyter-widgets/controls",
          "model_module_version": "1.5.0",
          "model_name": "HTMLModel",
          "state": {
            "_dom_classes": [],
            "_model_module": "@jupyter-widgets/controls",
            "_model_module_version": "1.5.0",
            "_model_name": "HTMLModel",
            "_view_count": null,
            "_view_module": "@jupyter-widgets/controls",
            "_view_module_version": "1.5.0",
            "_view_name": "HTMLView",
            "description": "",
            "description_tooltip": null,
            "layout": "IPY_MODEL_0436ca056b9745af8d770a13434e4b32",
            "placeholder": "​",
            "style": "IPY_MODEL_ed6c8a6a02254ad6a297d42e77b5f39a",
            "value": " 170498071/170498071 [00:13&lt;00:00, 13574209.53it/s]"
          }
        },
        "3ef75b116569457a85f012198ce6e4f8": {
          "model_module": "@jupyter-widgets/controls",
          "model_module_version": "1.5.0",
          "model_name": "FloatProgressModel",
          "state": {
            "_dom_classes": [],
            "_model_module": "@jupyter-widgets/controls",
            "_model_module_version": "1.5.0",
            "_model_name": "FloatProgressModel",
            "_view_count": null,
            "_view_module": "@jupyter-widgets/controls",
            "_view_module_version": "1.5.0",
            "_view_name": "ProgressView",
            "bar_style": "success",
            "description": "",
            "description_tooltip": null,
            "layout": "IPY_MODEL_be7aacf08ffc409dbc0e9a4964c2f40e",
            "max": 170498071,
            "min": 0,
            "orientation": "horizontal",
            "style": "IPY_MODEL_87766502845a4ac4bc6af806424a0f1e",
            "value": 170498071
          }
        },
        "87766502845a4ac4bc6af806424a0f1e": {
          "model_module": "@jupyter-widgets/controls",
          "model_module_version": "1.5.0",
          "model_name": "ProgressStyleModel",
          "state": {
            "_model_module": "@jupyter-widgets/controls",
            "_model_module_version": "1.5.0",
            "_model_name": "ProgressStyleModel",
            "_view_count": null,
            "_view_module": "@jupyter-widgets/base",
            "_view_module_version": "1.2.0",
            "_view_name": "StyleView",
            "bar_color": null,
            "description_width": ""
          }
        },
        "96f29e170794453285077833329a27be": {
          "model_module": "@jupyter-widgets/base",
          "model_module_version": "1.2.0",
          "model_name": "LayoutModel",
          "state": {
            "_model_module": "@jupyter-widgets/base",
            "_model_module_version": "1.2.0",
            "_model_name": "LayoutModel",
            "_view_count": null,
            "_view_module": "@jupyter-widgets/base",
            "_view_module_version": "1.2.0",
            "_view_name": "LayoutView",
            "align_content": null,
            "align_items": null,
            "align_self": null,
            "border": null,
            "bottom": null,
            "display": null,
            "flex": null,
            "flex_flow": null,
            "grid_area": null,
            "grid_auto_columns": null,
            "grid_auto_flow": null,
            "grid_auto_rows": null,
            "grid_column": null,
            "grid_gap": null,
            "grid_row": null,
            "grid_template_areas": null,
            "grid_template_columns": null,
            "grid_template_rows": null,
            "height": null,
            "justify_content": null,
            "justify_items": null,
            "left": null,
            "margin": null,
            "max_height": null,
            "max_width": null,
            "min_height": null,
            "min_width": null,
            "object_fit": null,
            "object_position": null,
            "order": null,
            "overflow": null,
            "overflow_x": null,
            "overflow_y": null,
            "padding": null,
            "right": null,
            "top": null,
            "visibility": null,
            "width": null
          }
        },
        "9f123b442c6846be8764e91e4735b14d": {
          "model_module": "@jupyter-widgets/controls",
          "model_module_version": "1.5.0",
          "model_name": "HBoxModel",
          "state": {
            "_dom_classes": [],
            "_model_module": "@jupyter-widgets/controls",
            "_model_module_version": "1.5.0",
            "_model_name": "HBoxModel",
            "_view_count": null,
            "_view_module": "@jupyter-widgets/controls",
            "_view_module_version": "1.5.0",
            "_view_name": "HBoxView",
            "box_style": "",
            "children": [
              "IPY_MODEL_07b6a7e013fb4e99b7ce8bb50d845d96",
              "IPY_MODEL_3ef75b116569457a85f012198ce6e4f8",
              "IPY_MODEL_273aa6d0091148d4a411ed73b0d1974b"
            ],
            "layout": "IPY_MODEL_96f29e170794453285077833329a27be"
          }
        },
        "be7aacf08ffc409dbc0e9a4964c2f40e": {
          "model_module": "@jupyter-widgets/base",
          "model_module_version": "1.2.0",
          "model_name": "LayoutModel",
          "state": {
            "_model_module": "@jupyter-widgets/base",
            "_model_module_version": "1.2.0",
            "_model_name": "LayoutModel",
            "_view_count": null,
            "_view_module": "@jupyter-widgets/base",
            "_view_module_version": "1.2.0",
            "_view_name": "LayoutView",
            "align_content": null,
            "align_items": null,
            "align_self": null,
            "border": null,
            "bottom": null,
            "display": null,
            "flex": null,
            "flex_flow": null,
            "grid_area": null,
            "grid_auto_columns": null,
            "grid_auto_flow": null,
            "grid_auto_rows": null,
            "grid_column": null,
            "grid_gap": null,
            "grid_row": null,
            "grid_template_areas": null,
            "grid_template_columns": null,
            "grid_template_rows": null,
            "height": null,
            "justify_content": null,
            "justify_items": null,
            "left": null,
            "margin": null,
            "max_height": null,
            "max_width": null,
            "min_height": null,
            "min_width": null,
            "object_fit": null,
            "object_position": null,
            "order": null,
            "overflow": null,
            "overflow_x": null,
            "overflow_y": null,
            "padding": null,
            "right": null,
            "top": null,
            "visibility": null,
            "width": null
          }
        },
        "d1b3d3655ca147fdb0dcee17ab8c933b": {
          "model_module": "@jupyter-widgets/controls",
          "model_module_version": "1.5.0",
          "model_name": "DescriptionStyleModel",
          "state": {
            "_model_module": "@jupyter-widgets/controls",
            "_model_module_version": "1.5.0",
            "_model_name": "DescriptionStyleModel",
            "_view_count": null,
            "_view_module": "@jupyter-widgets/base",
            "_view_module_version": "1.2.0",
            "_view_name": "StyleView",
            "description_width": ""
          }
        },
        "ed6c8a6a02254ad6a297d42e77b5f39a": {
          "model_module": "@jupyter-widgets/controls",
          "model_module_version": "1.5.0",
          "model_name": "DescriptionStyleModel",
          "state": {
            "_model_module": "@jupyter-widgets/controls",
            "_model_module_version": "1.5.0",
            "_model_name": "DescriptionStyleModel",
            "_view_count": null,
            "_view_module": "@jupyter-widgets/base",
            "_view_module_version": "1.2.0",
            "_view_name": "StyleView",
            "description_width": ""
          }
        },
        "f4234380cc8e417fb8e4bfd734f55f87": {
          "model_module": "@jupyter-widgets/base",
          "model_module_version": "1.2.0",
          "model_name": "LayoutModel",
          "state": {
            "_model_module": "@jupyter-widgets/base",
            "_model_module_version": "1.2.0",
            "_model_name": "LayoutModel",
            "_view_count": null,
            "_view_module": "@jupyter-widgets/base",
            "_view_module_version": "1.2.0",
            "_view_name": "LayoutView",
            "align_content": null,
            "align_items": null,
            "align_self": null,
            "border": null,
            "bottom": null,
            "display": null,
            "flex": null,
            "flex_flow": null,
            "grid_area": null,
            "grid_auto_columns": null,
            "grid_auto_flow": null,
            "grid_auto_rows": null,
            "grid_column": null,
            "grid_gap": null,
            "grid_row": null,
            "grid_template_areas": null,
            "grid_template_columns": null,
            "grid_template_rows": null,
            "height": null,
            "justify_content": null,
            "justify_items": null,
            "left": null,
            "margin": null,
            "max_height": null,
            "max_width": null,
            "min_height": null,
            "min_width": null,
            "object_fit": null,
            "object_position": null,
            "order": null,
            "overflow": null,
            "overflow_x": null,
            "overflow_y": null,
            "padding": null,
            "right": null,
            "top": null,
            "visibility": null,
            "width": null
          }
        }
      }
    }
  },
  "nbformat": 4,
  "nbformat_minor": 0
}
