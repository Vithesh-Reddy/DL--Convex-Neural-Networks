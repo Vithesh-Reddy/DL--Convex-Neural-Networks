{
  "nbformat": 4,
  "nbformat_minor": 0,
  "metadata": {
    "colab": {
      "provenance": []
    },
    "kernelspec": {
      "name": "python3",
      "display_name": "Python 3"
    },
    "language_info": {
      "name": "python"
    },
    "accelerator": "GPU",
    "gpuClass": "standard"
  },
  "cells": [
    {
      "cell_type": "code",
      "execution_count": 1,
      "metadata": {
        "id": "OaPbkZbKX6pj"
      },
      "outputs": [],
      "source": [
        "\n",
        "import torch\n",
        "import numpy as np\n",
        "import pandas as pd\n",
        "import torch.nn as nn\n",
        "import torch.optim as optim\n",
        "import os\n",
        "import matplotlib.pyplot as plt\n",
        "import torch.nn.functional as F\n",
        "%matplotlib inline\n",
        "import random\n",
        "import math\n",
        "from sklearn.model_selection import train_test_split"
      ]
    },
    {
      "cell_type": "code",
      "source": [
        "import torchvision\n",
        "import torchvision.transforms as transforms"
      ],
      "metadata": {
        "id": "jkl8RfxBYJX2"
      },
      "execution_count": 2,
      "outputs": []
    },
    {
      "cell_type": "code",
      "source": [
        "device = torch.device('cuda' if torch.cuda.is_available() else 'cpu')\n",
        "print('Device available now:', device)"
      ],
      "metadata": {
        "colab": {
          "base_uri": "https://localhost:8080/"
        },
        "id": "tTPLjHZwYJ48",
        "outputId": "1cba678b-6324-4ef0-b480-7bfd2221a6b2"
      },
      "execution_count": 3,
      "outputs": [
        {
          "output_type": "stream",
          "name": "stdout",
          "text": [
            "Device available now: cuda\n"
          ]
        }
      ]
    },
    {
      "cell_type": "code",
      "source": [
        "image_transforms = transforms.Compose(\n",
        "         [transforms.ToTensor(),\n",
        "         transforms.CenterCrop(28),\n",
        "         transforms.Normalize((0.5), (0.5))]\n",
        ")"
      ],
      "metadata": {
        "id": "O7Gv0zrVYLAk"
      },
      "execution_count": 4,
      "outputs": []
    },
    {
      "cell_type": "code",
      "source": [
        "batchsize = 32\n",
        "rowsize = 28\n",
        "colsize = 28\n",
        "inchannels = 3\n",
        "fc_size = 128\n",
        "no_classes = 2\n",
        "epochs = 100"
      ],
      "metadata": {
        "id": "df1nJfcTYNEE"
      },
      "execution_count": 5,
      "outputs": []
    },
    {
      "cell_type": "code",
      "source": [
        "download_url = (\"https://archive.ics.uci.edu/ml/machine-learning-databases/spambase/spambase.data\")\n",
        "cols = np.arange(0,58,1)\n",
        "df = pd.read_csv(download_url,names=cols)\n",
        "pd.set_option(\"display.max.rows\", None)\n",
        "data = pd.DataFrame(df).to_numpy()\n",
        "num = len(data)\n",
        "feat = len(data[0])-1"
      ],
      "metadata": {
        "id": "G2LBaGxDeLWB"
      },
      "execution_count": 6,
      "outputs": []
    },
    {
      "cell_type": "code",
      "source": [
        "X = data[:,0:feat]\n",
        "label = data[:,-1]\n",
        "Xcopy = X\n",
        "labelcopy = label\n",
        "print(label)\n",
        "for i in range(int(len(label))):\n",
        "  label[i] = random.choice([0,1])\n",
        "\n",
        "X_train, X_test, y_train, y_test = train_test_split(X, label, test_size=0.2, random_state=42) \n",
        "X_train = torch.Tensor(X_train)\n",
        "X_test = torch.Tensor(X_test)\n",
        "y_train = torch.Tensor(y_train)\n",
        "y_test = torch.Tensor(y_test)"
      ],
      "metadata": {
        "colab": {
          "base_uri": "https://localhost:8080/"
        },
        "id": "zaJVEQfiisz4",
        "outputId": "660909f3-f81f-4615-ff6d-1179e21a53f2"
      },
      "execution_count": 7,
      "outputs": [
        {
          "output_type": "stream",
          "name": "stdout",
          "text": [
            "[1. 1. 1. ... 0. 0. 0.]\n"
          ]
        }
      ]
    },
    {
      "cell_type": "code",
      "source": [
        "print(len(X_train))"
      ],
      "metadata": {
        "colab": {
          "base_uri": "https://localhost:8080/"
        },
        "id": "8rXTqUQMi1FH",
        "outputId": "3b347352-b3c5-4858-bdd0-94a51232befa"
      },
      "execution_count": 8,
      "outputs": [
        {
          "output_type": "stream",
          "name": "stdout",
          "text": [
            "3680\n"
          ]
        }
      ]
    },
    {
      "cell_type": "code",
      "source": [
        "class IOC_MLP(nn.Module):\n",
        "  def __init__(self,rowsize,colsize,fc_size,inchannels,no_classes):\n",
        "    super(IOC_MLP, self).__init__()\n",
        "    self.fc1 = nn.Linear(feat,fc_size)\n",
        "    self.batchnorm1 = nn.BatchNorm1d(fc_size)\n",
        "    self.fc2 = nn.Linear(fc_size,fc_size)\n",
        "    self.batchnorm2 = nn.BatchNorm1d(fc_size)\n",
        "    self.fc3 = nn.Linear(fc_size,fc_size)\n",
        "    self.batchnorm3 = nn.BatchNorm1d(fc_size)\n",
        "    self.fc4 = nn.Linear(fc_size,no_classes)\n",
        "\n",
        "\n",
        "  def forward(self, x):\n",
        "    x = torch.flatten(x)\n",
        "    x = x.view(-1,feat)\n",
        "    x = F.elu(self.fc1(x))\n",
        "    x = self.batchnorm1(x)\n",
        "    x = F.elu(self.fc2(x))\n",
        "    x = self.batchnorm2(x)\n",
        "    x = F.elu(self.fc3(x))\n",
        "    x = self.batchnorm3(x)\n",
        "    x = self.fc4(x)\n",
        "    return x"
      ],
      "metadata": {
        "id": "b0AX6rXqf15B"
      },
      "execution_count": 9,
      "outputs": []
    },
    {
      "cell_type": "code",
      "source": [
        "class NN(nn.Module):\n",
        "  def __init__(self,rowsize,colsize,fc_size,inchannels,no_classes):\n",
        "    super(NN, self).__init__()\n",
        "    self.fc1 = nn.Linear(feat,fc_size)\n",
        "    self.batchnorm1 = nn.BatchNorm1d(fc_size)\n",
        "    self.fc2 = nn.Linear(fc_size,fc_size)\n",
        "    self.batchnorm2 = nn.BatchNorm1d(fc_size)\n",
        "    self.fc3 = nn.Linear(fc_size,fc_size)\n",
        "    self.batchnorm3 = nn.BatchNorm1d(fc_size)\n",
        "    self.fc4 = nn.Linear(fc_size,no_classes)\n",
        "\n",
        "\n",
        "  def forward(self, x):\n",
        "    x = torch.flatten(x)\n",
        "    x = x.view(-1,feat)\n",
        "    x = F.relu(self.fc1(x))\n",
        "    x = self.batchnorm1(x)\n",
        "    x = F.relu(self.fc2(x))\n",
        "    x = self.batchnorm2(x)\n",
        "    x = F.relu(self.fc3(x))\n",
        "    x = self.batchnorm3(x)\n",
        "    x = self.fc4(x)\n",
        "    return x"
      ],
      "metadata": {
        "id": "Pbjd_tuNRzuJ"
      },
      "execution_count": 10,
      "outputs": []
    },
    {
      "cell_type": "code",
      "source": [
        "ioc_model = IOC_MLP(rowsize,colsize,fc_size,inchannels,no_classes).to(device)\n",
        "nn_model = NN(rowsize,colsize,fc_size,inchannels,no_classes).to(device)\n",
        "# model = SimpleAlex(no_classes).to(device)"
      ],
      "metadata": {
        "id": "f8LvMOUfhI_D"
      },
      "execution_count": 11,
      "outputs": []
    },
    {
      "cell_type": "code",
      "source": [
        "ioc_optimizer = torch.optim.Adam(ioc_model.parameters(),lr= 0.0001)\n",
        "criterion = nn.CrossEntropyLoss().to(device)\n",
        "nn_optimizer = torch.optim.Adam(nn_model.parameters(),lr= 0.0001)"
      ],
      "metadata": {
        "id": "8Ggb8UTJgrKx"
      },
      "execution_count": 12,
      "outputs": []
    },
    {
      "cell_type": "code",
      "source": [
        "a = torch.zeros(2)\n",
        "b = torch.zeros(2)\n",
        "a[0]=1\n",
        "b[1]=1\n",
        "m = {0:a,1:b}"
      ],
      "metadata": {
        "id": "xbcBTAoSoUaW"
      },
      "execution_count": 13,
      "outputs": []
    },
    {
      "cell_type": "code",
      "source": [
        "train_ioc = []\n",
        "train_nn = []\n",
        "test_ioc = 0\n",
        "test_ioc = 0"
      ],
      "metadata": {
        "id": "dL605XjDQ-y2"
      },
      "execution_count": 14,
      "outputs": []
    },
    {
      "cell_type": "code",
      "source": [
        "# def training(model,traindata,testdata)\n",
        "# print(\"Choose the weight Variation number, (1 for clipping negative weight to zero , 2 for taking absolute of weights , 3 for exponentiation of weights\")\n",
        "# a = input()\n",
        "for i in range(epochs):\n",
        "  Loss = 0\n",
        "  num_correct=0\n",
        "  tot = 0\n",
        "  count=0\n",
        "  for d in range(int(len(X_train)/batchsize)):\n",
        "    # iterating through every batch\n",
        "    ls = np.arange(count,count+batchsize,1)\n",
        "    ls = torch.from_numpy(ls)\n",
        "    x_data = X_train[ls].to(device)\n",
        "    labels = y_train[ls].to(device)\n",
        "    ioc_optimizer.zero_grad()\n",
        "    outputs = ioc_model(x_data).to(device)\n",
        "    _, pred = torch.max(outputs.data, 1)\n",
        "    num_correct += (pred == labels).sum().item()\n",
        "    tot += labels.size(0)\n",
        "    onehot_labels = torch.zeros((batchsize,2))\n",
        "    for i in range(batchsize):\n",
        "      onehot_labels[i] = m[int(labels[i])]                                         \n",
        "    onehot_labels = onehot_labels.to(device)\n",
        "    loss = criterion(outputs, onehot_labels)\n",
        "    loss.backward()\n",
        "    ioc_optimizer.step()\n",
        "    Loss += loss\n",
        "    count+=batchsize\n",
        "    for w in ioc_model.parameters():\n",
        "      p = w\n",
        "      torch.where(w > 0, w, torch.exp(p))\n",
        "  train_ioc.append(num_correct/tot)\n",
        "  print(\"Train Accuracy for exponentiation of negative weights: \",num_correct/tot)\n",
        "  print(\"Loss: \",loss.item())"
      ],
      "metadata": {
        "colab": {
          "base_uri": "https://localhost:8080/"
        },
        "id": "-E25oWHigv52",
        "outputId": "cf506586-a07c-4ef7-c3a1-094d8b6e1445"
      },
      "execution_count": 15,
      "outputs": [
        {
          "output_type": "stream",
          "name": "stdout",
          "text": [
            "Train Accuracy for exponentiation of negative weights:  0.5122282608695652\n",
            "Loss:  0.7243381142616272\n",
            "Train Accuracy for exponentiation of negative weights:  0.5230978260869565\n",
            "Loss:  0.7082328796386719\n",
            "Train Accuracy for exponentiation of negative weights:  0.5388586956521739\n",
            "Loss:  0.694148600101471\n",
            "Train Accuracy for exponentiation of negative weights:  0.5521739130434783\n",
            "Loss:  0.681691586971283\n",
            "Train Accuracy for exponentiation of negative weights:  0.5584239130434783\n",
            "Loss:  0.67063307762146\n",
            "Train Accuracy for exponentiation of negative weights:  0.5652173913043478\n",
            "Loss:  0.6621412038803101\n",
            "Train Accuracy for exponentiation of negative weights:  0.5698369565217392\n",
            "Loss:  0.6544000506401062\n",
            "Train Accuracy for exponentiation of negative weights:  0.5728260869565217\n",
            "Loss:  0.6470270156860352\n",
            "Train Accuracy for exponentiation of negative weights:  0.5790760869565217\n",
            "Loss:  0.6397922039031982\n",
            "Train Accuracy for exponentiation of negative weights:  0.5826086956521739\n",
            "Loss:  0.6332944631576538\n",
            "Train Accuracy for exponentiation of negative weights:  0.5858695652173913\n",
            "Loss:  0.6280633807182312\n",
            "Train Accuracy for exponentiation of negative weights:  0.592391304347826\n",
            "Loss:  0.6235544681549072\n",
            "Train Accuracy for exponentiation of negative weights:  0.5948369565217392\n",
            "Loss:  0.6195272207260132\n",
            "Train Accuracy for exponentiation of negative weights:  0.5970108695652174\n",
            "Loss:  0.6153783202171326\n",
            "Train Accuracy for exponentiation of negative weights:  0.6\n",
            "Loss:  0.6125379800796509\n",
            "Train Accuracy for exponentiation of negative weights:  0.6035326086956522\n",
            "Loss:  0.6096551418304443\n",
            "Train Accuracy for exponentiation of negative weights:  0.6078804347826087\n",
            "Loss:  0.6064612865447998\n",
            "Train Accuracy for exponentiation of negative weights:  0.6141304347826086\n",
            "Loss:  0.6030522584915161\n",
            "Train Accuracy for exponentiation of negative weights:  0.6198369565217391\n",
            "Loss:  0.5985491275787354\n",
            "Train Accuracy for exponentiation of negative weights:  0.6255434782608695\n",
            "Loss:  0.5948994159698486\n",
            "Train Accuracy for exponentiation of negative weights:  0.6285326086956522\n",
            "Loss:  0.5909894704818726\n",
            "Train Accuracy for exponentiation of negative weights:  0.6326086956521739\n",
            "Loss:  0.5866310596466064\n",
            "Train Accuracy for exponentiation of negative weights:  0.6421195652173913\n",
            "Loss:  0.5825849175453186\n",
            "Train Accuracy for exponentiation of negative weights:  0.6467391304347826\n",
            "Loss:  0.5782541036605835\n",
            "Train Accuracy for exponentiation of negative weights:  0.653804347826087\n",
            "Loss:  0.573915958404541\n",
            "Train Accuracy for exponentiation of negative weights:  0.6608695652173913\n",
            "Loss:  0.5700604319572449\n",
            "Train Accuracy for exponentiation of negative weights:  0.6625\n",
            "Loss:  0.5654146671295166\n",
            "Train Accuracy for exponentiation of negative weights:  0.6679347826086957\n",
            "Loss:  0.5616769194602966\n",
            "Train Accuracy for exponentiation of negative weights:  0.6698369565217391\n",
            "Loss:  0.5576193332672119\n",
            "Train Accuracy for exponentiation of negative weights:  0.6779891304347826\n",
            "Loss:  0.5529664754867554\n",
            "Train Accuracy for exponentiation of negative weights:  0.6790760869565218\n",
            "Loss:  0.5493258833885193\n",
            "Train Accuracy for exponentiation of negative weights:  0.6842391304347826\n",
            "Loss:  0.545384407043457\n",
            "Train Accuracy for exponentiation of negative weights:  0.688858695652174\n",
            "Loss:  0.5425149202346802\n",
            "Train Accuracy for exponentiation of negative weights:  0.69375\n",
            "Loss:  0.5392314195632935\n",
            "Train Accuracy for exponentiation of negative weights:  0.6975543478260869\n",
            "Loss:  0.5361783504486084\n",
            "Train Accuracy for exponentiation of negative weights:  0.6997282608695652\n",
            "Loss:  0.5328966975212097\n",
            "Train Accuracy for exponentiation of negative weights:  0.7035326086956522\n",
            "Loss:  0.5296931266784668\n",
            "Train Accuracy for exponentiation of negative weights:  0.7067934782608696\n",
            "Loss:  0.5268349051475525\n",
            "Train Accuracy for exponentiation of negative weights:  0.7119565217391305\n",
            "Loss:  0.5235124230384827\n",
            "Train Accuracy for exponentiation of negative weights:  0.7133152173913043\n",
            "Loss:  0.5209407806396484\n",
            "Train Accuracy for exponentiation of negative weights:  0.720108695652174\n",
            "Loss:  0.5174461603164673\n",
            "Train Accuracy for exponentiation of negative weights:  0.7233695652173913\n",
            "Loss:  0.5139085054397583\n",
            "Train Accuracy for exponentiation of negative weights:  0.7269021739130435\n",
            "Loss:  0.5100877285003662\n",
            "Train Accuracy for exponentiation of negative weights:  0.7307065217391304\n",
            "Loss:  0.5078218579292297\n",
            "Train Accuracy for exponentiation of negative weights:  0.7377717391304348\n",
            "Loss:  0.5032736659049988\n",
            "Train Accuracy for exponentiation of negative weights:  0.7423913043478261\n",
            "Loss:  0.5025181770324707\n",
            "Train Accuracy for exponentiation of negative weights:  0.7429347826086956\n",
            "Loss:  0.4983935058116913\n",
            "Train Accuracy for exponentiation of negative weights:  0.747554347826087\n",
            "Loss:  0.495449960231781\n",
            "Train Accuracy for exponentiation of negative weights:  0.7510869565217392\n",
            "Loss:  0.49161431193351746\n",
            "Train Accuracy for exponentiation of negative weights:  0.7535326086956522\n",
            "Loss:  0.49009883403778076\n",
            "Train Accuracy for exponentiation of negative weights:  0.7567934782608695\n",
            "Loss:  0.4853370189666748\n",
            "Train Accuracy for exponentiation of negative weights:  0.7592391304347826\n",
            "Loss:  0.4839942455291748\n",
            "Train Accuracy for exponentiation of negative weights:  0.7605978260869565\n",
            "Loss:  0.47970137000083923\n",
            "Train Accuracy for exponentiation of negative weights:  0.7660326086956522\n",
            "Loss:  0.4755084216594696\n",
            "Train Accuracy for exponentiation of negative weights:  0.7695652173913043\n",
            "Loss:  0.47139498591423035\n",
            "Train Accuracy for exponentiation of negative weights:  0.7706521739130435\n",
            "Loss:  0.4669685363769531\n",
            "Train Accuracy for exponentiation of negative weights:  0.7736413043478261\n",
            "Loss:  0.4625515341758728\n",
            "Train Accuracy for exponentiation of negative weights:  0.7752717391304348\n",
            "Loss:  0.46004027128219604\n",
            "Train Accuracy for exponentiation of negative weights:  0.7771739130434783\n",
            "Loss:  0.4569244384765625\n",
            "Train Accuracy for exponentiation of negative weights:  0.7823369565217392\n",
            "Loss:  0.45643216371536255\n",
            "Train Accuracy for exponentiation of negative weights:  0.7847826086956522\n",
            "Loss:  0.4538409113883972\n",
            "Train Accuracy for exponentiation of negative weights:  0.7858695652173913\n",
            "Loss:  0.45674094557762146\n",
            "Train Accuracy for exponentiation of negative weights:  0.7855978260869565\n",
            "Loss:  0.45370692014694214\n",
            "Train Accuracy for exponentiation of negative weights:  0.7921195652173914\n",
            "Loss:  0.4569067060947418\n",
            "Train Accuracy for exponentiation of negative weights:  0.7923913043478261\n",
            "Loss:  0.45501893758773804\n",
            "Train Accuracy for exponentiation of negative weights:  0.7948369565217391\n",
            "Loss:  0.46469253301620483\n",
            "Train Accuracy for exponentiation of negative weights:  0.7951086956521739\n",
            "Loss:  0.4524078369140625\n",
            "Train Accuracy for exponentiation of negative weights:  0.7972826086956522\n",
            "Loss:  0.4676740765571594\n",
            "Train Accuracy for exponentiation of negative weights:  0.79375\n",
            "Loss:  0.4487767815589905\n",
            "Train Accuracy for exponentiation of negative weights:  0.7888586956521739\n",
            "Loss:  0.4642176628112793\n",
            "Train Accuracy for exponentiation of negative weights:  0.7804347826086957\n",
            "Loss:  0.44263532757759094\n",
            "Train Accuracy for exponentiation of negative weights:  0.7505434782608695\n",
            "Loss:  0.6115584373474121\n",
            "Train Accuracy for exponentiation of negative weights:  0.7464673913043478\n",
            "Loss:  0.5343396067619324\n",
            "Train Accuracy for exponentiation of negative weights:  0.752445652173913\n",
            "Loss:  0.44077011942863464\n",
            "Train Accuracy for exponentiation of negative weights:  0.7673913043478261\n",
            "Loss:  0.4316646456718445\n",
            "Train Accuracy for exponentiation of negative weights:  0.7730978260869565\n",
            "Loss:  0.43934038281440735\n",
            "Train Accuracy for exponentiation of negative weights:  0.782608695652174\n",
            "Loss:  0.4433898329734802\n",
            "Train Accuracy for exponentiation of negative weights:  0.7845108695652174\n",
            "Loss:  0.4455159604549408\n",
            "Train Accuracy for exponentiation of negative weights:  0.7875\n",
            "Loss:  0.44716718792915344\n",
            "Train Accuracy for exponentiation of negative weights:  0.7948369565217391\n",
            "Loss:  0.44323673844337463\n",
            "Train Accuracy for exponentiation of negative weights:  0.8002717391304348\n",
            "Loss:  0.435978502035141\n",
            "Train Accuracy for exponentiation of negative weights:  0.8029891304347826\n",
            "Loss:  0.4283680319786072\n",
            "Train Accuracy for exponentiation of negative weights:  0.8065217391304348\n",
            "Loss:  0.42189672589302063\n",
            "Train Accuracy for exponentiation of negative weights:  0.8097826086956522\n",
            "Loss:  0.41534316539764404\n",
            "Train Accuracy for exponentiation of negative weights:  0.8135869565217392\n",
            "Loss:  0.4094340205192566\n",
            "Train Accuracy for exponentiation of negative weights:  0.8160326086956522\n",
            "Loss:  0.40381062030792236\n",
            "Train Accuracy for exponentiation of negative weights:  0.8214673913043479\n",
            "Loss:  0.3992989957332611\n",
            "Train Accuracy for exponentiation of negative weights:  0.8271739130434783\n",
            "Loss:  0.3941802978515625\n",
            "Train Accuracy for exponentiation of negative weights:  0.8296195652173913\n",
            "Loss:  0.3895445466041565\n",
            "Train Accuracy for exponentiation of negative weights:  0.8336956521739131\n",
            "Loss:  0.3840552568435669\n",
            "Train Accuracy for exponentiation of negative weights:  0.8364130434782608\n",
            "Loss:  0.3794914186000824\n",
            "Train Accuracy for exponentiation of negative weights:  0.8388586956521739\n",
            "Loss:  0.37516719102859497\n",
            "Train Accuracy for exponentiation of negative weights:  0.8421195652173913\n",
            "Loss:  0.36969566345214844\n",
            "Train Accuracy for exponentiation of negative weights:  0.841304347826087\n",
            "Loss:  0.3683915436267853\n",
            "Train Accuracy for exponentiation of negative weights:  0.8288043478260869\n",
            "Loss:  0.44719210267066956\n",
            "Train Accuracy for exponentiation of negative weights:  0.8078804347826087\n",
            "Loss:  0.37266385555267334\n",
            "Train Accuracy for exponentiation of negative weights:  0.8141304347826087\n",
            "Loss:  0.4574429392814636\n",
            "Train Accuracy for exponentiation of negative weights:  0.825\n",
            "Loss:  0.4330819845199585\n",
            "Train Accuracy for exponentiation of negative weights:  0.8309782608695652\n",
            "Loss:  0.39312905073165894\n",
            "Train Accuracy for exponentiation of negative weights:  0.83125\n",
            "Loss:  0.3636575937271118\n"
          ]
        }
      ]
    },
    {
      "cell_type": "code",
      "source": [
        "with torch.no_grad():\n",
        "    correct = 0\n",
        "    total = 0\n",
        "    count=0\n",
        "    for d in range(int(len(X_test)/batchsize)):\n",
        "        ls = np.arange(count,count+batchsize,1)\n",
        "        ls = torch.from_numpy(ls)\n",
        "        x_data = X_test[ls].to(device)\n",
        "        labels = y_test[ls].to(device)\n",
        "        outputs = ioc_model(x_data)\n",
        "        _, predicted = torch.max(outputs.data, 1)\n",
        "        total += labels.size(0)\n",
        "        correct += (predicted == labels).sum().item()\n",
        "        count+=batchsize\n",
        "    test_ioc = 100*correct/total\n",
        "    print(\"Test Accuracy on exponentiation of negative weights For IOC Model : \",100 * correct / total)\n",
        "\n"
      ],
      "metadata": {
        "colab": {
          "base_uri": "https://localhost:8080/"
        },
        "id": "2zmgt6nz1G-G",
        "outputId": "61a6dfbe-30ac-4fb6-fbb1-c908d302fd4e"
      },
      "execution_count": 16,
      "outputs": [
        {
          "output_type": "stream",
          "name": "stdout",
          "text": [
            "Test Accuracy on exponentiation of negative weights For IOC Model :  50.669642857142854\n"
          ]
        }
      ]
    },
    {
      "cell_type": "code",
      "source": [
        "# def training(model,traindata,testdata)\n",
        "# print(\"Choose the weight Variation number, (1 for clipping negative weight to zero , 2 for taking absolute of weights , 3 for exponentiation of weights\")\n",
        "# a = input()\n",
        "for i in range(epochs):\n",
        "  Loss = 0\n",
        "  num_correct=0\n",
        "  tot = 0\n",
        "  count=0\n",
        "  for d in range(int(len(X_train)/batchsize)):\n",
        "    # iterating through every batch\n",
        "    ls = np.arange(count,count+batchsize,1)\n",
        "    ls = torch.from_numpy(ls)\n",
        "    x_data = X_train[ls].to(device)\n",
        "    labels = y_train[ls].to(device)\n",
        "    nn_optimizer.zero_grad()\n",
        "    outputs = nn_model(x_data).to(device)\n",
        "    _, pred = torch.max(outputs.data, 1)\n",
        "    num_correct += (pred == labels).sum().item()\n",
        "    tot += labels.size(0)\n",
        "    onehot_labels = torch.zeros((batchsize,2))\n",
        "    for i in range(batchsize):\n",
        "      onehot_labels[i] = m[int(labels[i])]                                         \n",
        "    onehot_labels = onehot_labels.to(device)\n",
        "    loss = criterion(outputs, onehot_labels)\n",
        "    loss.backward()\n",
        "    nn_optimizer.step()\n",
        "    Loss += loss\n",
        "    count+=batchsize\n",
        "  train_nn.append(num_correct/tot)\n",
        "  \n",
        "  print(\"Train Accuracy for NN: \",num_correct/tot)\n",
        "  print(\"Loss: \",loss.item())"
      ],
      "metadata": {
        "colab": {
          "base_uri": "https://localhost:8080/"
        },
        "id": "xdAiAfwhTR_J",
        "outputId": "a46c05b7-8ad7-4f74-998f-96da0a0f38da"
      },
      "execution_count": 17,
      "outputs": [
        {
          "output_type": "stream",
          "name": "stdout",
          "text": [
            "Train Accuracy for NN:  0.5046195652173913\n",
            "Loss:  0.7459298372268677\n",
            "Train Accuracy for NN:  0.5364130434782609\n",
            "Loss:  0.6989479064941406\n",
            "Train Accuracy for NN:  0.5733695652173914\n",
            "Loss:  0.6748161315917969\n",
            "Train Accuracy for NN:  0.5904891304347826\n",
            "Loss:  0.6611651182174683\n",
            "Train Accuracy for NN:  0.6073369565217391\n",
            "Loss:  0.6537641286849976\n",
            "Train Accuracy for NN:  0.6176630434782608\n",
            "Loss:  0.6469166874885559\n",
            "Train Accuracy for NN:  0.6301630434782609\n",
            "Loss:  0.62863689661026\n",
            "Train Accuracy for NN:  0.6467391304347826\n",
            "Loss:  0.6141177415847778\n",
            "Train Accuracy for NN:  0.6616847826086957\n",
            "Loss:  0.6161836385726929\n",
            "Train Accuracy for NN:  0.6660326086956522\n",
            "Loss:  0.612356424331665\n",
            "Train Accuracy for NN:  0.6817934782608696\n",
            "Loss:  0.5982841849327087\n",
            "Train Accuracy for NN:  0.6902173913043478\n",
            "Loss:  0.5855699777603149\n",
            "Train Accuracy for NN:  0.7002717391304348\n",
            "Loss:  0.5854202508926392\n",
            "Train Accuracy for NN:  0.70625\n",
            "Loss:  0.5653283596038818\n",
            "Train Accuracy for NN:  0.7146739130434783\n",
            "Loss:  0.5623708963394165\n",
            "Train Accuracy for NN:  0.7228260869565217\n",
            "Loss:  0.5416733622550964\n",
            "Train Accuracy for NN:  0.73125\n",
            "Loss:  0.5444546341896057\n",
            "Train Accuracy for NN:  0.7388586956521739\n",
            "Loss:  0.5661740303039551\n",
            "Train Accuracy for NN:  0.747554347826087\n",
            "Loss:  0.5383331775665283\n",
            "Train Accuracy for NN:  0.7453804347826087\n",
            "Loss:  0.5259212851524353\n",
            "Train Accuracy for NN:  0.7529891304347827\n",
            "Loss:  0.5139995813369751\n",
            "Train Accuracy for NN:  0.7638586956521739\n",
            "Loss:  0.5259110927581787\n",
            "Train Accuracy for NN:  0.772554347826087\n",
            "Loss:  0.49843209981918335\n",
            "Train Accuracy for NN:  0.7828804347826087\n",
            "Loss:  0.5021896362304688\n",
            "Train Accuracy for NN:  0.7875\n",
            "Loss:  0.4750833511352539\n",
            "Train Accuracy for NN:  0.7948369565217391\n",
            "Loss:  0.4873881936073303\n",
            "Train Accuracy for NN:  0.7970108695652174\n",
            "Loss:  0.48453277349472046\n",
            "Train Accuracy for NN:  0.8008152173913043\n",
            "Loss:  0.4671945869922638\n",
            "Train Accuracy for NN:  0.814945652173913\n",
            "Loss:  0.4458739161491394\n",
            "Train Accuracy for NN:  0.8144021739130435\n",
            "Loss:  0.44933146238327026\n",
            "Train Accuracy for NN:  0.8263586956521739\n",
            "Loss:  0.4226189851760864\n",
            "Train Accuracy for NN:  0.8266304347826087\n",
            "Loss:  0.42426180839538574\n",
            "Train Accuracy for NN:  0.8380434782608696\n",
            "Loss:  0.42423126101493835\n",
            "Train Accuracy for NN:  0.8375\n",
            "Loss:  0.405409574508667\n",
            "Train Accuracy for NN:  0.8410326086956522\n",
            "Loss:  0.3975622057914734\n",
            "Train Accuracy for NN:  0.8502717391304347\n",
            "Loss:  0.35358408093452454\n",
            "Train Accuracy for NN:  0.8470108695652174\n",
            "Loss:  0.3688989579677582\n",
            "Train Accuracy for NN:  0.8535326086956522\n",
            "Loss:  0.42428699135780334\n",
            "Train Accuracy for NN:  0.8521739130434782\n",
            "Loss:  0.37374982237815857\n",
            "Train Accuracy for NN:  0.8519021739130435\n",
            "Loss:  0.3580302894115448\n",
            "Train Accuracy for NN:  0.8497282608695652\n",
            "Loss:  0.31697869300842285\n",
            "Train Accuracy for NN:  0.8671195652173913\n",
            "Loss:  0.33841216564178467\n",
            "Train Accuracy for NN:  0.8717391304347826\n",
            "Loss:  0.37545502185821533\n",
            "Train Accuracy for NN:  0.876358695652174\n",
            "Loss:  0.3316793143749237\n",
            "Train Accuracy for NN:  0.8807065217391304\n",
            "Loss:  0.2867124080657959\n",
            "Train Accuracy for NN:  0.8777173913043478\n",
            "Loss:  0.2955969274044037\n",
            "Train Accuracy for NN:  0.8845108695652174\n",
            "Loss:  0.2551743984222412\n",
            "Train Accuracy for NN:  0.8777173913043478\n",
            "Loss:  0.3612504005432129\n",
            "Train Accuracy for NN:  0.8823369565217392\n",
            "Loss:  0.28620007634162903\n",
            "Train Accuracy for NN:  0.8896739130434783\n",
            "Loss:  0.2423723042011261\n",
            "Train Accuracy for NN:  0.8790760869565217\n",
            "Loss:  0.24362322688102722\n",
            "Train Accuracy for NN:  0.8932065217391304\n",
            "Loss:  0.23872463405132294\n",
            "Train Accuracy for NN:  0.9016304347826087\n",
            "Loss:  0.2502988874912262\n",
            "Train Accuracy for NN:  0.8972826086956521\n",
            "Loss:  0.25864124298095703\n",
            "Train Accuracy for NN:  0.8899456521739131\n",
            "Loss:  0.22586211562156677\n",
            "Train Accuracy for NN:  0.8888586956521739\n",
            "Loss:  0.23267757892608643\n",
            "Train Accuracy for NN:  0.8720108695652173\n",
            "Loss:  0.29458582401275635\n",
            "Train Accuracy for NN:  0.8744565217391305\n",
            "Loss:  0.25680863857269287\n",
            "Train Accuracy for NN:  0.8769021739130435\n",
            "Loss:  0.2468901425600052\n",
            "Train Accuracy for NN:  0.8853260869565217\n",
            "Loss:  0.38846802711486816\n",
            "Train Accuracy for NN:  0.8858695652173914\n",
            "Loss:  0.2919135093688965\n",
            "Train Accuracy for NN:  0.9029891304347826\n",
            "Loss:  0.32974958419799805\n",
            "Train Accuracy for NN:  0.9122282608695652\n",
            "Loss:  0.37963148951530457\n",
            "Train Accuracy for NN:  0.9220108695652174\n",
            "Loss:  0.30138152837753296\n",
            "Train Accuracy for NN:  0.9296195652173913\n",
            "Loss:  0.22596459090709686\n",
            "Train Accuracy for NN:  0.935054347826087\n",
            "Loss:  0.22216416895389557\n",
            "Train Accuracy for NN:  0.9334239130434783\n",
            "Loss:  0.19655409455299377\n",
            "Train Accuracy for NN:  0.941304347826087\n",
            "Loss:  0.2000783383846283\n",
            "Train Accuracy for NN:  0.9377717391304348\n",
            "Loss:  0.1851004958152771\n",
            "Train Accuracy for NN:  0.9358695652173913\n",
            "Loss:  0.1696511059999466\n",
            "Train Accuracy for NN:  0.9480978260869565\n",
            "Loss:  0.1573682725429535\n",
            "Train Accuracy for NN:  0.9394021739130435\n",
            "Loss:  0.21271881461143494\n",
            "Train Accuracy for NN:  0.9315217391304348\n",
            "Loss:  0.1997825652360916\n",
            "Train Accuracy for NN:  0.9377717391304348\n",
            "Loss:  0.156685471534729\n",
            "Train Accuracy for NN:  0.939945652173913\n",
            "Loss:  0.17432716488838196\n",
            "Train Accuracy for NN:  0.9445652173913044\n",
            "Loss:  0.1547718346118927\n",
            "Train Accuracy for NN:  0.9391304347826087\n",
            "Loss:  0.1960565447807312\n",
            "Train Accuracy for NN:  0.9394021739130435\n",
            "Loss:  0.15500915050506592\n",
            "Train Accuracy for NN:  0.9426630434782609\n",
            "Loss:  0.14780163764953613\n",
            "Train Accuracy for NN:  0.939945652173913\n",
            "Loss:  0.13855639100074768\n",
            "Train Accuracy for NN:  0.939945652173913\n",
            "Loss:  0.12426462769508362\n",
            "Train Accuracy for NN:  0.9470108695652174\n",
            "Loss:  0.12591257691383362\n",
            "Train Accuracy for NN:  0.9334239130434783\n",
            "Loss:  0.18094393610954285\n",
            "Train Accuracy for NN:  0.9383152173913043\n",
            "Loss:  0.13848315179347992\n",
            "Train Accuracy for NN:  0.9345108695652173\n",
            "Loss:  0.15056651830673218\n",
            "Train Accuracy for NN:  0.9260869565217391\n",
            "Loss:  0.13305479288101196\n",
            "Train Accuracy for NN:  0.9323369565217391\n",
            "Loss:  0.13794884085655212\n",
            "Train Accuracy for NN:  0.9334239130434783\n",
            "Loss:  0.1853700876235962\n",
            "Train Accuracy for NN:  0.9271739130434783\n",
            "Loss:  0.14441047608852386\n",
            "Train Accuracy for NN:  0.9255434782608696\n",
            "Loss:  0.1698533147573471\n",
            "Train Accuracy for NN:  0.9323369565217391\n",
            "Loss:  0.13306233286857605\n",
            "Train Accuracy for NN:  0.9391304347826087\n",
            "Loss:  0.12245220690965652\n",
            "Train Accuracy for NN:  0.9380434782608695\n",
            "Loss:  0.14173024892807007\n",
            "Train Accuracy for NN:  0.9464673913043479\n",
            "Loss:  0.11307702213525772\n",
            "Train Accuracy for NN:  0.9513586956521739\n",
            "Loss:  0.10883095860481262\n",
            "Train Accuracy for NN:  0.964945652173913\n",
            "Loss:  0.10182775557041168\n",
            "Train Accuracy for NN:  0.9722826086956522\n",
            "Loss:  0.0868878960609436\n",
            "Train Accuracy for NN:  0.9788043478260869\n",
            "Loss:  0.07776821404695511\n",
            "Train Accuracy for NN:  0.9793478260869565\n",
            "Loss:  0.07837013155221939\n",
            "Train Accuracy for NN:  0.9834239130434783\n",
            "Loss:  0.07293779402971268\n"
          ]
        }
      ]
    },
    {
      "cell_type": "code",
      "source": [
        "with torch.no_grad():\n",
        "    correct = 0\n",
        "    total = 0\n",
        "    count=0\n",
        "    for d in range(int(len(X_test)/batchsize)):\n",
        "        ls = np.arange(count,count+batchsize,1)\n",
        "        ls = torch.from_numpy(ls)\n",
        "        x_data = X_test[ls].to(device)\n",
        "        labels = y_test[ls].to(device)\n",
        "        outputs = nn_model(x_data)\n",
        "        _, predicted = torch.max(outputs.data, 1)\n",
        "        total += labels.size(0)\n",
        "        correct += (predicted == labels).sum().item()\n",
        "        count+=batchsize\n",
        "    test_nn = 100*correct/total\n",
        "    print(\"Test Accuracy For NN Model : \",100 * correct / total)\n",
        "\n"
      ],
      "metadata": {
        "colab": {
          "base_uri": "https://localhost:8080/"
        },
        "id": "PJtD0Lb6Tc4j",
        "outputId": "cc0ae2af-7631-412d-e2cb-94b7557aafd3"
      },
      "execution_count": 18,
      "outputs": [
        {
          "output_type": "stream",
          "name": "stdout",
          "text": [
            "Test Accuracy For NN Model :  52.00892857142857\n"
          ]
        }
      ]
    },
    {
      "cell_type": "code",
      "source": [
        "import matplotlib.pyplot as plt\n",
        "epoch_numbers = np.arange(0,epochs,1)\n",
        "plt.title(\"Training Accuracies\")\n",
        "plt.xlabel(\"Epochs\")\n",
        "plt.ylabel(\"Accuracies\")\n",
        "plt.plot(epoch_numbers,train_ioc,label='IOC Model')\n",
        "plt.plot(epoch_numbers,train_nn,label='NN Model')     \n",
        "plt.legend()\n",
        "plt.show()           "
      ],
      "metadata": {
        "colab": {
          "base_uri": "https://localhost:8080/",
          "height": 295
        },
        "id": "-nA6QgfIXgn9",
        "outputId": "941eef01-e3b4-48ef-c2b3-c05dddad0e54"
      },
      "execution_count": 19,
      "outputs": [
        {
          "output_type": "display_data",
          "data": {
            "text/plain": [
              "<Figure size 432x288 with 1 Axes>"
            ],
            "image/png": "[encoded data removed]"
          },
          "metadata": {
            "needs_background": "light"
          }
        }
      ]
    },
    {
      "cell_type": "code",
      "source": [
        "print(\"Generalization Gap for NN Model\",(train_nn[len(train_nn)-1]*100)-test_nn)\n",
        "print(\"Generalization Gap for IOC Model\",(train_ioc[len(train_ioc)-1]*100)-test_ioc)"
      ],
      "metadata": {
        "colab": {
          "base_uri": "https://localhost:8080/"
        },
        "id": "hDV1RJfGa6sa",
        "outputId": "d3883a64-119a-4e64-c6cf-c4e10db18c37"
      },
      "execution_count": 20,
      "outputs": [
        {
          "output_type": "stream",
          "name": "stdout",
          "text": [
            "Generalization Gap for NN Model 46.33346273291926\n",
            "Generalization Gap for IOC Model 32.455357142857146\n"
          ]
        }
      ]
    }
  ]
}