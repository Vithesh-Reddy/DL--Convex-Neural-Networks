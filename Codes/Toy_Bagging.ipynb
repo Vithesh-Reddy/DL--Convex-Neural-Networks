{
  "nbformat": 4,
  "nbformat_minor": 0,
  "metadata": {
    "colab": {
      "provenance": []
    },
    "kernelspec": {
      "name": "python3",
      "display_name": "Python 3"
    },
    "language_info": {
      "name": "python"
    },
    "accelerator": "GPU",
    "gpuClass": "standard"
  },
  "cells": [
    {
      "cell_type": "code",
      "execution_count": null,
      "metadata": {
        "id": "OaPbkZbKX6pj"
      },
      "outputs": [],
      "source": [
        "import torch\n",
        "import numpy as np\n",
        "import pandas as pd\n",
        "import torch.nn as nn\n",
        "import torch.optim as optim\n",
        "import os\n",
        "import matplotlib.pyplot as plt\n",
        "import torch.nn.functional as F\n",
        "%matplotlib inline\n",
        "import random\n",
        "import math\n",
        "from sklearn.model_selection import train_test_split\n",
        "from sklearn.tree import DecisionTreeClassifier\n",
        "from sklearn.ensemble import AdaBoostClassifier"
      ]
    },
    {
      "cell_type": "code",
      "source": [
        "import torchvision\n",
        "import torchvision.transforms as transforms"
      ],
      "metadata": {
        "id": "jkl8RfxBYJX2"
      },
      "execution_count": null,
      "outputs": []
    },
    {
      "cell_type": "code",
      "source": [
        "device = torch.device('cuda' if torch.cuda.is_available() else 'cpu')\n",
        "print('Device available now:', device)"
      ],
      "metadata": {
        "colab": {
          "base_uri": "https://localhost:8080/"
        },
        "id": "tTPLjHZwYJ48",
        "outputId": "6112efc0-792e-4823-d9fa-f4cad4ceca68"
      },
      "execution_count": null,
      "outputs": [
        {
          "output_type": "stream",
          "name": "stdout",
          "text": [
            "Device available now: cuda\n"
          ]
        }
      ]
    },
    {
      "cell_type": "code",
      "source": [
        "image_transforms = transforms.Compose(\n",
        "         [transforms.ToTensor(),\n",
        "         transforms.CenterCrop(28),\n",
        "         transforms.Normalize((0.5), (0.5))]\n",
        ")"
      ],
      "metadata": {
        "id": "O7Gv0zrVYLAk"
      },
      "execution_count": null,
      "outputs": []
    },
    {
      "cell_type": "code",
      "source": [
        "batchsize = 32\n",
        "rowsize = 28\n",
        "colsize = 28\n",
        "inchannels = 3\n",
        "fc_size = 128\n",
        "no_classes = 2\n",
        "epochs = 100"
      ],
      "metadata": {
        "id": "df1nJfcTYNEE"
      },
      "execution_count": null,
      "outputs": []
    },
    {
      "cell_type": "code",
      "source": [
        "download_url = (\"https://archive.ics.uci.edu/ml/machine-learning-databases/spambase/spambase.data\")\n",
        "cols = np.arange(0,58,1)\n",
        "df = pd.read_csv(download_url,names=cols)\n",
        "pd.set_option(\"display.max.rows\", None)\n",
        "data = pd.DataFrame(df).to_numpy()\n",
        "num = len(data)\n",
        "feat = len(data[0])-1"
      ],
      "metadata": {
        "id": "G2LBaGxDeLWB"
      },
      "execution_count": null,
      "outputs": []
    },
    {
      "cell_type": "code",
      "source": [
        "X = data[:,0:feat]\n",
        "label = data[:,-1]\n",
        "Xcopy = X\n",
        "labelcopy = label\n",
        "# print(label)\n",
        "for i in range(int(len(label))):\n",
        "  label[i] = random.choice([0,1])\n",
        "\n",
        "X_train, X_test, y_train, y_test = train_test_split(X, label, test_size=0.2, random_state=42) \n",
        "X_train = torch.Tensor(X_train)\n",
        "X_test = torch.Tensor(X_test)\n",
        "y_train = torch.Tensor(y_train)\n",
        "y_test = torch.Tensor(y_test)"
      ],
      "metadata": {
        "id": "zaJVEQfiisz4"
      },
      "execution_count": null,
      "outputs": []
    },
    {
      "cell_type": "code",
      "source": [
        "print(y_train.shape)"
      ],
      "metadata": {
        "colab": {
          "base_uri": "https://localhost:8080/"
        },
        "id": "8rXTqUQMi1FH",
        "outputId": "3541053f-3c37-4854-a54b-cbd738fe5ed1"
      },
      "execution_count": null,
      "outputs": [
        {
          "output_type": "stream",
          "name": "stdout",
          "text": [
            "torch.Size([3680])\n"
          ]
        }
      ]
    },
    {
      "cell_type": "code",
      "source": [
        "class IOC_MLP(nn.Module):\n",
        "  def __init__(self,rowsize,colsize,fc_size,inchannels,no_classes):\n",
        "    super(IOC_MLP, self).__init__()\n",
        "    self.fc1 = nn.Linear(feat,fc_size)\n",
        "    self.batchnorm1 = nn.BatchNorm1d(fc_size)\n",
        "    self.fc2 = nn.Linear(fc_size,fc_size)\n",
        "    self.batchnorm2 = nn.BatchNorm1d(fc_size)\n",
        "    self.fc3 = nn.Linear(fc_size,fc_size)\n",
        "    self.batchnorm3 = nn.BatchNorm1d(fc_size)\n",
        "    self.fc4 = nn.Linear(fc_size,no_classes)\n",
        "\n",
        "\n",
        "  def forward(self, x):\n",
        "    x = torch.flatten(x)\n",
        "    x = x.view(-1,feat)\n",
        "    x = F.elu(self.fc1(x))\n",
        "    x = self.batchnorm1(x)\n",
        "    x = F.elu(self.fc2(x))\n",
        "    x = self.batchnorm2(x)\n",
        "    x = F.elu(self.fc3(x))\n",
        "    x = self.batchnorm3(x)\n",
        "    x = self.fc4(x)\n",
        "    return x"
      ],
      "metadata": {
        "id": "b0AX6rXqf15B"
      },
      "execution_count": null,
      "outputs": []
    },
    {
      "cell_type": "code",
      "source": [
        "class NN(nn.Module):\n",
        "  def __init__(self,rowsize,colsize,fc_size,inchannels,no_classes):\n",
        "    super(NN, self).__init__()\n",
        "    self.fc1 = nn.Linear(feat,fc_size)\n",
        "    self.batchnorm1 = nn.BatchNorm1d(fc_size)\n",
        "    self.fc2 = nn.Linear(fc_size,fc_size)\n",
        "    self.batchnorm2 = nn.BatchNorm1d(fc_size)\n",
        "    self.fc3 = nn.Linear(fc_size,fc_size)\n",
        "    self.batchnorm3 = nn.BatchNorm1d(fc_size)\n",
        "    self.fc4 = nn.Linear(fc_size,no_classes)\n",
        "\n",
        "\n",
        "  def forward(self, x):\n",
        "    x = torch.flatten(x)\n",
        "    x = x.view(-1,feat)\n",
        "    x = F.relu(self.fc1(x))\n",
        "    x = self.batchnorm1(x)\n",
        "    x = F.relu(self.fc2(x))\n",
        "    x = self.batchnorm2(x)\n",
        "    x = F.relu(self.fc3(x))\n",
        "    x = self.batchnorm3(x)\n",
        "    x = self.fc4(x)\n",
        "    return x"
      ],
      "metadata": {
        "id": "vac3MOmlXk4T"
      },
      "execution_count": null,
      "outputs": []
    },
    {
      "cell_type": "code",
      "source": [
        "ioc_model = IOC_MLP(rowsize,colsize,fc_size,inchannels,no_classes).to(device)\n",
        "nn_model = NN(rowsize,colsize,fc_size,inchannels,no_classes).to(device)\n"
      ],
      "metadata": {
        "id": "f8LvMOUfhI_D"
      },
      "execution_count": null,
      "outputs": []
    },
    {
      "cell_type": "code",
      "source": [
        "# ioc_optimizer = torch.optim.Adam(ioc_model.parameters(),lr= 0.0001)\n",
        "# criterion = nn.CrossEntropyLoss().to(device)\n",
        "# nn_optimizer = torch.optim.Adam(nn_model.parameters(),lr= 0.0001)"
      ],
      "metadata": {
        "id": "8Ggb8UTJgrKx"
      },
      "execution_count": null,
      "outputs": []
    },
    {
      "cell_type": "code",
      "source": [
        "a = torch.zeros(2)\n",
        "b = torch.zeros(2)\n",
        "a[0]=1\n",
        "b[1]=1\n",
        "m = {0:a,1:b}"
      ],
      "metadata": {
        "id": "xbcBTAoSoUaW"
      },
      "execution_count": null,
      "outputs": []
    },
    {
      "cell_type": "code",
      "source": [
        "# train_ioc = []\n",
        "# # train_nn = []\n",
        "# test_ioc = 0\n",
        "# test_nn = 0"
      ],
      "metadata": {
        "id": "dL605XjDQ-y2"
      },
      "execution_count": null,
      "outputs": []
    },
    {
      "cell_type": "code",
      "source": [
        "# # def training(model,traindata,testdata)\n",
        "# # print(\"Choose the weight Variation number, (1 for clipping negative weight to zero , 2 for taking absolute of weights , 3 for exponentiation of weights\")\n",
        "# # a = input()\n",
        "# for i in range(epochs):\n",
        "#   Loss = 0\n",
        "#   num_correct=0\n",
        "#   tot = 0\n",
        "#   count=0\n",
        "#   for d in range(int(len(X_train)/batchsize)):\n",
        "#     # iterating through every batch\n",
        "#     ls = np.arange(count,count+batchsize,1)\n",
        "#     ls = torch.from_numpy(ls)\n",
        "#     x_data = X_train[ls].to(device)\n",
        "#     labels = y_train[ls].to(device)\n",
        "#     ioc_optimizer.zero_grad()\n",
        "#     outputs = ioc_model(x_data).to(device)\n",
        "#     _, pred = torch.max(outputs.data, 1)\n",
        "#     num_correct += (pred == labels).sum().item()\n",
        "#     tot += labels.size(0)\n",
        "#     onehot_labels = torch.zeros((batchsize,2))\n",
        "#     for i in range(batchsize):\n",
        "#       onehot_labels[i] = m[int(labels[i])]                                         \n",
        "#     onehot_labels = onehot_labels.to(device)\n",
        "#     loss = criterion(outputs, onehot_labels)\n",
        "#     loss.backward()\n",
        "#     ioc_optimizer.step()\n",
        "#     Loss += loss\n",
        "#     count+=batchsize\n",
        "#     for w in ioc_model.parameters():\n",
        "#       p = w\n",
        "#       torch.where(w > 0, w, torch.exp(p))\n",
        "#   train_ioc.append(num_correct/tot)\n",
        "#   print(\"Train Accuracy for IOC: \",num_correct/tot)\n",
        "#   print(\"Loss: \",loss.item())"
      ],
      "metadata": {
        "id": "-E25oWHigv52"
      },
      "execution_count": null,
      "outputs": []
    },
    {
      "cell_type": "code",
      "source": [
        "# with torch.no_grad():\n",
        "#     correct = 0\n",
        "#     total = 0\n",
        "#     count=0\n",
        "#     for d in range(int(len(X_test)/batchsize)):\n",
        "#         ls = np.arange(count,count+batchsize,1)\n",
        "#         ls = torch.from_numpy(ls)\n",
        "#         x_data = X_test[ls].to(device)\n",
        "#         labels = y_test[ls].to(device)\n",
        "#         outputs = ioc_model(x_data)\n",
        "#         _, predicted = torch.max(outputs.data, 1)\n",
        "#         total += labels.size(0)\n",
        "#         correct += (predicted == labels).sum().item()\n",
        "#         count+=batchsize\n",
        "#     test_ioc = 100*correct/total\n",
        "#     print(\"Test Accuracy on absolute weights For IOC Model : \",100 * correct / total)\n",
        "\n"
      ],
      "metadata": {
        "colab": {
          "base_uri": "https://localhost:8080/"
        },
        "id": "2zmgt6nz1G-G",
        "outputId": "6c1745db-e372-4b51-8cae-611bd9b51206"
      },
      "execution_count": null,
      "outputs": [
        {
          "output_type": "stream",
          "name": "stdout",
          "text": [
            "Test Accuracy on absolute weights For IOC Model :  48.88392857142857\n"
          ]
        }
      ]
    },
    {
      "cell_type": "code",
      "source": [
        "# # print(\"Generalization Gap for NN Model\",(train_nn[len(train_nn)-1]*100)-test_nn)\n",
        "# print(\"Generalization Gap for IOC Model\",(train_ioc[len(train_ioc)-1]*100)-test_ioc)"
      ],
      "metadata": {
        "colab": {
          "base_uri": "https://localhost:8080/"
        },
        "id": "hDV1RJfGa6sa",
        "outputId": "46586a7b-779c-4b79-cbce-6b3d6f1aacaf"
      },
      "execution_count": null,
      "outputs": [
        {
          "output_type": "stream",
          "name": "stdout",
          "text": [
            "Generalization Gap for NN Model 51.76145186335404\n",
            "Generalization Gap for IOC Model 32.828027950310556\n"
          ]
        }
      ]
    },
    {
      "cell_type": "markdown",
      "source": [
        "# Bagging\n"
      ],
      "metadata": {
        "id": "_Kok4tXFzX_Y"
      }
    },
    {
      "cell_type": "code",
      "source": [
        "a = torch.zeros(2)\n",
        "b = torch.zeros(2)\n",
        "a[0]=1\n",
        "b[1]=1\n",
        "m = {0:a,1:b}"
      ],
      "metadata": {
        "id": "3HUtOWOQzV-i"
      },
      "execution_count": null,
      "outputs": []
    },
    {
      "cell_type": "code",
      "source": [
        "def train_IOC(model,ioc_optimizer,criterion):\n",
        "  for i in range(epochs):\n",
        "    Loss = 0\n",
        "    num_correct=0\n",
        "    tot = 0\n",
        "    count=0\n",
        "    for d in range(int(len(X_train)/batchsize)):\n",
        "      # iterating through every batch\n",
        "      ls = np.arange(count,count+batchsize,1)\n",
        "      ls = torch.from_numpy(ls)\n",
        "      x_data = X_train[ls].to(device)\n",
        "      labels = y_train[ls].to(device)\n",
        "      ioc_optimizer.zero_grad()\n",
        "      outputs = model(x_data).to(device)\n",
        "      _, pred = torch.max(outputs.data, 1)\n",
        "      num_correct += (pred == labels).sum().item()\n",
        "      tot += labels.size(0)\n",
        "      onehot_labels = torch.zeros((batchsize,2))\n",
        "      for i in range(batchsize):\n",
        "        onehot_labels[i] = m[int(labels[i])]                                         \n",
        "      onehot_labels = onehot_labels.to(device)\n",
        "      loss = criterion(outputs, onehot_labels)\n",
        "      loss.backward()\n",
        "      ioc_optimizer.step()\n",
        "      Loss += loss\n",
        "      count+=batchsize\n",
        "      for w in model.parameters():\n",
        "        p = w\n",
        "        torch.where(w > 0, w, torch.exp(p))\n",
        "    \n",
        "    train_ioc.append(num_correct/tot)"
      ],
      "metadata": {
        "id": "qZYYBegVxXs0"
      },
      "execution_count": null,
      "outputs": []
    },
    {
      "cell_type": "code",
      "source": [
        "def train_NN(model,nn_optimizer,criterion):\n",
        "  for i in range(epochs):\n",
        "    Loss = 0\n",
        "    num_correct=0\n",
        "    tot = 0\n",
        "    count=0\n",
        "    for d in range(int(len(X_train)/batchsize)):\n",
        "      # iterating through every batch\n",
        "      ls = np.arange(count,count+batchsize,1)\n",
        "      ls = torch.from_numpy(ls)\n",
        "      x_data = X_train[ls].to(device)\n",
        "      labels = y_train[ls].to(device)\n",
        "      nn_optimizer.zero_grad()\n",
        "      outputs = model(x_data).to(device)\n",
        "      _, pred = torch.max(outputs.data, 1)\n",
        "      num_correct += (pred == labels).sum().item()\n",
        "      tot += labels.size(0)\n",
        "      onehot_labels = torch.zeros((batchsize,2))\n",
        "      for i in range(batchsize):\n",
        "        onehot_labels[i] = m[int(labels[i])]                                         \n",
        "      onehot_labels = onehot_labels.to(device)\n",
        "      loss = criterion(outputs, onehot_labels)\n",
        "      loss.backward()\n",
        "      nn_optimizer.step()\n",
        "      Loss += loss\n",
        "      count+=batchsize\n",
        "      for w in model.parameters():\n",
        "        p = w\n",
        "        torch.where(w > 0, w, torch.exp(p))\n",
        "    \n",
        "    train_nn.append(num_correct/tot)"
      ],
      "metadata": {
        "id": "cCOuboqmYNpr"
      },
      "execution_count": null,
      "outputs": []
    },
    {
      "cell_type": "code",
      "source": [
        "train_ioc = []\n",
        "train_nn = []\n",
        "test_ioc = 0\n",
        "test_nn = 0"
      ],
      "metadata": {
        "id": "TU9XSUfIqByL"
      },
      "execution_count": null,
      "outputs": []
    },
    {
      "cell_type": "code",
      "source": [
        "def bagging_ioc(num_estimators):\n",
        "  models = []\n",
        "  for i in range(num_estimators):\n",
        "    ioc_model = IOC_MLP(rowsize,colsize,fc_size,inchannels,no_classes).to(device)\n",
        "    ioc_optimizer = torch.optim.Adam(ioc_model.parameters(),lr= 0.0001)\n",
        "    criterion = nn.CrossEntropyLoss().to(device)\n",
        "\n",
        "    train_IOC(ioc_model,ioc_optimizer,criterion)\n",
        "\n",
        "    models.append(ioc_model)\n",
        "  \n",
        "  # Get voting of outputs from all estimators\n",
        "  with torch.no_grad():\n",
        "    correct = 0\n",
        "    total = 0\n",
        "    count=0\n",
        "    for d in range(int(len(X_test)/batchsize)):\n",
        "        pred_list = []\n",
        "        ls = np.arange(count,count+batchsize,1)\n",
        "        ls = torch.from_numpy(ls)\n",
        "        x_data = X_test[ls].to(device)\n",
        "        labels = y_test[ls].to(device)\n",
        "        for ioc_model in models:\n",
        "          outputs = ioc_model(x_data)\n",
        "          _, predicted = torch.max(outputs.data, 1)\n",
        "          pred_list.append(predicted)\n",
        "        \n",
        "        fpredicted = torch.zeros(pred_list[0].size(0))\n",
        "        for p in range(pred_list[0].size(0)):\n",
        "          zero_count = 0\n",
        "          one_count = 0\n",
        "          for vals in pred_list:\n",
        "            if(vals[p] == 0):\n",
        "              zero_count+=1\n",
        "            else:\n",
        "              one_count+=1\n",
        "          if(zero_count>one_count):\n",
        "            fpredicted[p] = 0\n",
        "          else:\n",
        "            fpredicted[p] = 1\n",
        "\n",
        "        fpredicted = fpredicted.to(device)\n",
        "        total += labels.size(0)\n",
        "        correct += (fpredicted == labels).sum().item()\n",
        "        count+=batchsize\n",
        "    test_ioc = 100*correct/total\n",
        "    print(\"Test Accuracy For IOC Model : \",100 * correct / total)\n"
      ],
      "metadata": {
        "id": "iFEmwb0VmdjF"
      },
      "execution_count": null,
      "outputs": []
    },
    {
      "cell_type": "code",
      "source": [
        "def bagging_nn(num_estimators):\n",
        "  models = []\n",
        "  for i in range(num_estimators):\n",
        "    nn_model = NN(rowsize,colsize,fc_size,inchannels,no_classes).to(device)\n",
        "    nn_optimizer = torch.optim.Adam(nn_model.parameters(),lr= 0.0001)\n",
        "    criterion = nn.CrossEntropyLoss().to(device)\n",
        "\n",
        "    train_NN(ioc_model,nn_optimizer,criterion)\n",
        "\n",
        "    models.append(nn_model)\n",
        "  \n",
        "  # Get voting of outputs from all estimators\n",
        "  with torch.no_grad():\n",
        "    correct = 0\n",
        "    total = 0\n",
        "    count=0\n",
        "    for d in range(int(len(X_test)/batchsize)):\n",
        "        pred_list = []\n",
        "        ls = np.arange(count,count+batchsize,1)\n",
        "        ls = torch.from_numpy(ls)\n",
        "        x_data = X_test[ls].to(device)\n",
        "        labels = y_test[ls].to(device)\n",
        "        for nn_model in models:\n",
        "          outputs = nn_model(x_data)\n",
        "          _, predicted = torch.max(outputs.data, 1)\n",
        "          pred_list.append(predicted)\n",
        "        \n",
        "        fpredicted = torch.zeros(pred_list[0].size(0))\n",
        "        for p in range(pred_list[0].size(0)):\n",
        "          zero_count = 0\n",
        "          one_count = 0\n",
        "          for vals in pred_list:\n",
        "            if(vals[p] == 0):\n",
        "              zero_count+=1\n",
        "            else:\n",
        "              one_count+=1\n",
        "          if(zero_count>one_count):\n",
        "            fpredicted[p] = 0\n",
        "          else:\n",
        "            fpredicted[p] = 1\n",
        "\n",
        "        fpredicted = fpredicted.to(device)\n",
        "        total += labels.size(0)\n",
        "        correct += (fpredicted == labels).sum().item()\n",
        "        count+=batchsize\n",
        "    test_nn = 100*correct/total\n",
        "    print(\"Test Accuracy For NN Model : \",100 * correct / total)\n"
      ],
      "metadata": {
        "id": "ka1iqgBdYXVu"
      },
      "execution_count": null,
      "outputs": []
    },
    {
      "cell_type": "code",
      "source": [
        "bagging_ioc(5)"
      ],
      "metadata": {
        "colab": {
          "base_uri": "https://localhost:8080/"
        },
        "id": "TqhFZYhPTnBZ",
        "outputId": "4bfe452a-b373-4389-c57d-c0da9bff46ad"
      },
      "execution_count": null,
      "outputs": [
        {
          "output_type": "stream",
          "name": "stdout",
          "text": [
            "Test Accuracy For IOC Model :  53.544107142251142\n"
          ]
        }
      ]
    },
    {
      "cell_type": "code",
      "source": [
        "a = torch.zeros(2)\n",
        "b = torch.zeros(2)\n",
        "a[0]=1\n",
        "b[1]=1\n",
        "m = {0:a,1:b}"
      ],
      "metadata": {
        "id": "z52eHVmFY-1J"
      },
      "execution_count": null,
      "outputs": []
    },
    {
      "cell_type": "code",
      "source": [
        "bagging_nn(5)"
      ],
      "metadata": {
        "colab": {
          "base_uri": "https://localhost:8080/"
        },
        "id": "vUQNB6BiY_Tq",
        "outputId": "8572bbdd-527a-487c-ab3b-901040e3fced"
      },
      "execution_count": null,
      "outputs": [
        {
          "output_type": "stream",
          "name": "stdout",
          "text": [
            "Test Accuracy For NN Model :  52.566964285714285\n"
          ]
        }
      ]
    }
  ]
}