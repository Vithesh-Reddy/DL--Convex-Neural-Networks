{
  "nbformat": 4,
  "nbformat_minor": 0,
  "metadata": {
    "colab": {
      "provenance": []
    },
    "kernelspec": {
      "name": "python3",
      "display_name": "Python 3"
    },
    "language_info": {
      "name": "python"
    },
    "accelerator": "GPU",
    "gpuClass": "standard",
    "widgets": {
      "application/vnd.jupyter.widget-state+json": {
        "8d47548637bc4bdeaacfdbd085e06f8a": {
          "model_module": "@jupyter-widgets/controls",
          "model_name": "HBoxModel",
          "model_module_version": "1.5.0",
          "state": {
            "_dom_classes": [],
            "_model_module": "@jupyter-widgets/controls",
            "_model_module_version": "1.5.0",
            "_model_name": "HBoxModel",
            "_view_count": null,
            "_view_module": "@jupyter-widgets/controls",
            "_view_module_version": "1.5.0",
            "_view_name": "HBoxView",
            "box_style": "",
            "children": [
              "IPY_MODEL_d99f3c0ff9a64c87a9b6b926df915e70",
              "IPY_MODEL_78be13f0feac4576a43d75fce7578d41",
              "IPY_MODEL_8d366ec161814cd38921d3a1622ca68b"
            ],
            "layout": "IPY_MODEL_66f6250464ab47cfa51cd46d38c24808"
          }
        },
        "d99f3c0ff9a64c87a9b6b926df915e70": {
          "model_module": "@jupyter-widgets/controls",
          "model_name": "HTMLModel",
          "model_module_version": "1.5.0",
          "state": {
            "_dom_classes": [],
            "_model_module": "@jupyter-widgets/controls",
            "_model_module_version": "1.5.0",
            "_model_name": "HTMLModel",
            "_view_count": null,
            "_view_module": "@jupyter-widgets/controls",
            "_view_module_version": "1.5.0",
            "_view_name": "HTMLView",
            "description": "",
            "description_tooltip": null,
            "layout": "IPY_MODEL_91274afd7fa34b7d8747bbb3ec6ced1d",
            "placeholder": "​",
            "style": "IPY_MODEL_e80e39a0df024db48ed7e65e91ec521b",
            "value": "100%"
          }
        },
        "78be13f0feac4576a43d75fce7578d41": {
          "model_module": "@jupyter-widgets/controls",
          "model_name": "FloatProgressModel",
          "model_module_version": "1.5.0",
          "state": {
            "_dom_classes": [],
            "_model_module": "@jupyter-widgets/controls",
            "_model_module_version": "1.5.0",
            "_model_name": "FloatProgressModel",
            "_view_count": null,
            "_view_module": "@jupyter-widgets/controls",
            "_view_module_version": "1.5.0",
            "_view_name": "ProgressView",
            "bar_style": "success",
            "description": "",
            "description_tooltip": null,
            "layout": "IPY_MODEL_de9ccf854c8348c5ad61db2bd4b0fd77",
            "max": 170498071,
            "min": 0,
            "orientation": "horizontal",
            "style": "IPY_MODEL_843bc2dce95c48bd854dc5411472b1d6",
            "value": 170498071
          }
        },
        "8d366ec161814cd38921d3a1622ca68b": {
          "model_module": "@jupyter-widgets/controls",
          "model_name": "HTMLModel",
          "model_module_version": "1.5.0",
          "state": {
            "_dom_classes": [],
            "_model_module": "@jupyter-widgets/controls",
            "_model_module_version": "1.5.0",
            "_model_name": "HTMLModel",
            "_view_count": null,
            "_view_module": "@jupyter-widgets/controls",
            "_view_module_version": "1.5.0",
            "_view_name": "HTMLView",
            "description": "",
            "description_tooltip": null,
            "layout": "IPY_MODEL_2c13deab05ca4c6a90f43cb69a885cde",
            "placeholder": "​",
            "style": "IPY_MODEL_c0e3ae1785de41d7972adb5487f6182b",
            "value": " 170498071/170498071 [00:02&lt;00:00, 89655273.79it/s]"
          }
        },
        "66f6250464ab47cfa51cd46d38c24808": {
          "model_module": "@jupyter-widgets/base",
          "model_name": "LayoutModel",
          "model_module_version": "1.2.0",
          "state": {
            "_model_module": "@jupyter-widgets/base",
            "_model_module_version": "1.2.0",
            "_model_name": "LayoutModel",
            "_view_count": null,
            "_view_module": "@jupyter-widgets/base",
            "_view_module_version": "1.2.0",
            "_view_name": "LayoutView",
            "align_content": null,
            "align_items": null,
            "align_self": null,
            "border": null,
            "bottom": null,
            "display": null,
            "flex": null,
            "flex_flow": null,
            "grid_area": null,
            "grid_auto_columns": null,
            "grid_auto_flow": null,
            "grid_auto_rows": null,
            "grid_column": null,
            "grid_gap": null,
            "grid_row": null,
            "grid_template_areas": null,
            "grid_template_columns": null,
            "grid_template_rows": null,
            "height": null,
            "justify_content": null,
            "justify_items": null,
            "left": null,
            "margin": null,
            "max_height": null,
            "max_width": null,
            "min_height": null,
            "min_width": null,
            "object_fit": null,
            "object_position": null,
            "order": null,
            "overflow": null,
            "overflow_x": null,
            "overflow_y": null,
            "padding": null,
            "right": null,
            "top": null,
            "visibility": null,
            "width": null
          }
        },
        "91274afd7fa34b7d8747bbb3ec6ced1d": {
          "model_module": "@jupyter-widgets/base",
          "model_name": "LayoutModel",
          "model_module_version": "1.2.0",
          "state": {
            "_model_module": "@jupyter-widgets/base",
            "_model_module_version": "1.2.0",
            "_model_name": "LayoutModel",
            "_view_count": null,
            "_view_module": "@jupyter-widgets/base",
            "_view_module_version": "1.2.0",
            "_view_name": "LayoutView",
            "align_content": null,
            "align_items": null,
            "align_self": null,
            "border": null,
            "bottom": null,
            "display": null,
            "flex": null,
            "flex_flow": null,
            "grid_area": null,
            "grid_auto_columns": null,
            "grid_auto_flow": null,
            "grid_auto_rows": null,
            "grid_column": null,
            "grid_gap": null,
            "grid_row": null,
            "grid_template_areas": null,
            "grid_template_columns": null,
            "grid_template_rows": null,
            "height": null,
            "justify_content": null,
            "justify_items": null,
            "left": null,
            "margin": null,
            "max_height": null,
            "max_width": null,
            "min_height": null,
            "min_width": null,
            "object_fit": null,
            "object_position": null,
            "order": null,
            "overflow": null,
            "overflow_x": null,
            "overflow_y": null,
            "padding": null,
            "right": null,
            "top": null,
            "visibility": null,
            "width": null
          }
        },
        "e80e39a0df024db48ed7e65e91ec521b": {
          "model_module": "@jupyter-widgets/controls",
          "model_name": "DescriptionStyleModel",
          "model_module_version": "1.5.0",
          "state": {
            "_model_module": "@jupyter-widgets/controls",
            "_model_module_version": "1.5.0",
            "_model_name": "DescriptionStyleModel",
            "_view_count": null,
            "_view_module": "@jupyter-widgets/base",
            "_view_module_version": "1.2.0",
            "_view_name": "StyleView",
            "description_width": ""
          }
        },
        "de9ccf854c8348c5ad61db2bd4b0fd77": {
          "model_module": "@jupyter-widgets/base",
          "model_name": "LayoutModel",
          "model_module_version": "1.2.0",
          "state": {
            "_model_module": "@jupyter-widgets/base",
            "_model_module_version": "1.2.0",
            "_model_name": "LayoutModel",
            "_view_count": null,
            "_view_module": "@jupyter-widgets/base",
            "_view_module_version": "1.2.0",
            "_view_name": "LayoutView",
            "align_content": null,
            "align_items": null,
            "align_self": null,
            "border": null,
            "bottom": null,
            "display": null,
            "flex": null,
            "flex_flow": null,
            "grid_area": null,
            "grid_auto_columns": null,
            "grid_auto_flow": null,
            "grid_auto_rows": null,
            "grid_column": null,
            "grid_gap": null,
            "grid_row": null,
            "grid_template_areas": null,
            "grid_template_columns": null,
            "grid_template_rows": null,
            "height": null,
            "justify_content": null,
            "justify_items": null,
            "left": null,
            "margin": null,
            "max_height": null,
            "max_width": null,
            "min_height": null,
            "min_width": null,
            "object_fit": null,
            "object_position": null,
            "order": null,
            "overflow": null,
            "overflow_x": null,
            "overflow_y": null,
            "padding": null,
            "right": null,
            "top": null,
            "visibility": null,
            "width": null
          }
        },
        "843bc2dce95c48bd854dc5411472b1d6": {
          "model_module": "@jupyter-widgets/controls",
          "model_name": "ProgressStyleModel",
          "model_module_version": "1.5.0",
          "state": {
            "_model_module": "@jupyter-widgets/controls",
            "_model_module_version": "1.5.0",
            "_model_name": "ProgressStyleModel",
            "_view_count": null,
            "_view_module": "@jupyter-widgets/base",
            "_view_module_version": "1.2.0",
            "_view_name": "StyleView",
            "bar_color": null,
            "description_width": ""
          }
        },
        "2c13deab05ca4c6a90f43cb69a885cde": {
          "model_module": "@jupyter-widgets/base",
          "model_name": "LayoutModel",
          "model_module_version": "1.2.0",
          "state": {
            "_model_module": "@jupyter-widgets/base",
            "_model_module_version": "1.2.0",
            "_model_name": "LayoutModel",
            "_view_count": null,
            "_view_module": "@jupyter-widgets/base",
            "_view_module_version": "1.2.0",
            "_view_name": "LayoutView",
            "align_content": null,
            "align_items": null,
            "align_self": null,
            "border": null,
            "bottom": null,
            "display": null,
            "flex": null,
            "flex_flow": null,
            "grid_area": null,
            "grid_auto_columns": null,
            "grid_auto_flow": null,
            "grid_auto_rows": null,
            "grid_column": null,
            "grid_gap": null,
            "grid_row": null,
            "grid_template_areas": null,
            "grid_template_columns": null,
            "grid_template_rows": null,
            "height": null,
            "justify_content": null,
            "justify_items": null,
            "left": null,
            "margin": null,
            "max_height": null,
            "max_width": null,
            "min_height": null,
            "min_width": null,
            "object_fit": null,
            "object_position": null,
            "order": null,
            "overflow": null,
            "overflow_x": null,
            "overflow_y": null,
            "padding": null,
            "right": null,
            "top": null,
            "visibility": null,
            "width": null
          }
        },
        "c0e3ae1785de41d7972adb5487f6182b": {
          "model_module": "@jupyter-widgets/controls",
          "model_name": "DescriptionStyleModel",
          "model_module_version": "1.5.0",
          "state": {
            "_model_module": "@jupyter-widgets/controls",
            "_model_module_version": "1.5.0",
            "_model_name": "DescriptionStyleModel",
            "_view_count": null,
            "_view_module": "@jupyter-widgets/base",
            "_view_module_version": "1.2.0",
            "_view_name": "StyleView",
            "description_width": ""
          }
        }
      }
    }
  },
  "cells": [
    {
      "cell_type": "code",
      "execution_count": null,
      "metadata": {
        "id": "-0ZExLER_k4X"
      },
      "outputs": [],
      "source": [
        "\n",
        "import torch\n",
        "import numpy as np\n",
        "import pandas as pd\n",
        "import torch.nn as nn\n",
        "import torch.optim as optim\n",
        "import os\n",
        "import matplotlib.pyplot as plt\n",
        "import torch.nn.functional as F\n",
        "%matplotlib inline\n",
        "import random\n",
        "import math"
      ]
    },
    {
      "cell_type": "code",
      "source": [
        "import torchvision\n",
        "import torchvision.transforms as transforms"
      ],
      "metadata": {
        "id": "M--V6EhV_tN4"
      },
      "execution_count": null,
      "outputs": []
    },
    {
      "cell_type": "code",
      "source": [
        "device = torch.device('cuda' if torch.cuda.is_available() else 'cpu')\n",
        "print('Device available now:', device)"
      ],
      "metadata": {
        "colab": {
          "base_uri": "https://localhost:8080/"
        },
        "id": "oAzV8i_3_uko",
        "outputId": "b2ce1a1c-c942-45d7-c3db-0273db3ce4ff"
      },
      "execution_count": null,
      "outputs": [
        {
          "output_type": "stream",
          "name": "stdout",
          "text": [
            "Device available now: cuda\n"
          ]
        }
      ]
    },
    {
      "cell_type": "code",
      "source": [
        "image_transforms = transforms.Compose(\n",
        "         [transforms.ToTensor(),\n",
        "         transforms.CenterCrop(28),\n",
        "         transforms.Normalize((0.5), (0.5))]\n",
        ")"
      ],
      "metadata": {
        "id": "3REdoYlF_v-n"
      },
      "execution_count": null,
      "outputs": []
    },
    {
      "cell_type": "code",
      "source": [
        "batchsize = 256\n",
        "rowsize = 28\n",
        "colsize = 28\n",
        "inchannels = 3\n",
        "kernelsize = 5\n",
        "stride = 1\n",
        "padding = 0\n",
        "poolsize = 3\n",
        "fc_size1 = 384\n",
        "fc_size2 = 192\n",
        "no_classes = 10\n",
        "epochs = 30"
      ],
      "metadata": {
        "id": "hR6e9X3-_xUP"
      },
      "execution_count": null,
      "outputs": []
    },
    {
      "cell_type": "code",
      "source": [
        "\n",
        "train_ioc = []\n",
        "test_ioc = 0\n",
        "train_nn = []\n",
        "noise = 40\n",
        "test_nn = 0"
      ],
      "metadata": {
        "id": "JRi6ZdzL_yrp"
      },
      "execution_count": null,
      "outputs": []
    },
    {
      "cell_type": "code",
      "source": [
        "train = torchvision.datasets.CIFAR10(root='./', train=True, download=True, transform=image_transforms)\n",
        "test = torchvision.datasets.CIFAR10(root='./', train=False, transform=image_transforms)\n",
        "\n"
      ],
      "metadata": {
        "colab": {
          "base_uri": "https://localhost:8080/",
          "height": 85,
          "referenced_widgets": [
            "8d47548637bc4bdeaacfdbd085e06f8a",
            "d99f3c0ff9a64c87a9b6b926df915e70",
            "78be13f0feac4576a43d75fce7578d41",
            "8d366ec161814cd38921d3a1622ca68b",
            "66f6250464ab47cfa51cd46d38c24808",
            "91274afd7fa34b7d8747bbb3ec6ced1d",
            "e80e39a0df024db48ed7e65e91ec521b",
            "de9ccf854c8348c5ad61db2bd4b0fd77",
            "843bc2dce95c48bd854dc5411472b1d6",
            "2c13deab05ca4c6a90f43cb69a885cde",
            "c0e3ae1785de41d7972adb5487f6182b"
          ]
        },
        "id": "rHkmogPR_0sh",
        "outputId": "a6994ac0-690c-45ee-a18d-d7ba7c53e4e0"
      },
      "execution_count": null,
      "outputs": [
        {
          "output_type": "stream",
          "name": "stdout",
          "text": [
            "Downloading https://www.cs.toronto.edu/~kriz/cifar-10-python.tar.gz to ./cifar-10-python.tar.gz\n"
          ]
        },
        {
          "output_type": "display_data",
          "data": {
            "text/plain": [
              "  0%|          | 0/170498071 [00:00<?, ?it/s]"
            ],
            "application/vnd.jupyter.widget-view+json": {
              "version_major": 2,
              "version_minor": 0,
              "model_id": "8d47548637bc4bdeaacfdbd085e06f8a"
            }
          },
          "metadata": {}
        },
        {
          "output_type": "stream",
          "name": "stdout",
          "text": [
            "Extracting ./cifar-10-python.tar.gz to ./\n"
          ]
        }
      ]
    },
    {
      "cell_type": "code",
      "source": [
        "traindata = torch.utils.data.DataLoader(train,batch_size=batchsize, shuffle=True, num_workers=2,pin_memory=True)\n",
        "testdata = torch.utils.data.DataLoader(test,batch_size=batchsize, shuffle=False, num_workers=2,pin_memory=True)"
      ],
      "metadata": {
        "id": "rTGxBKQX_2LH"
      },
      "execution_count": null,
      "outputs": []
    },
    {
      "cell_type": "code",
      "source": [
        "# for i,data in enumerate(traindata):\n",
        "#   #data[0] , data[1]\n",
        "#   for j in range(len(data)):\n",
        "#     data[1][j] = random.randint(0, 9)"
      ],
      "metadata": {
        "id": "f2mrno5r_3op"
      },
      "execution_count": null,
      "outputs": []
    },
    {
      "cell_type": "code",
      "source": [
        "class IOC_CNN(nn.Module):\n",
        "  def __init__(self,inchannels,kernelsize,stride,padding,poolsize,fc_size1,fc_size2,no_classes):\n",
        "    super(IOC_CNN, self).__init__()\n",
        "    self.conv1 = nn.Conv2d(inchannels,24,kernelsize,stride,padding)\n",
        "    self.pool1 = nn.MaxPool2d(poolsize,2)\n",
        "    self.BatchNorm1 = nn.BatchNorm2d(24)\n",
        "    self.conv2 = nn.Conv2d(24,48,kernelsize,stride,padding)\n",
        "    self.pool2 = nn.MaxPool2d(poolsize,2)\n",
        "    self.BatchNorm2 = nn.BatchNorm2d(48)\n",
        "    self.fc1 = nn.Linear(432,fc_size1)\n",
        "    self.fc2 = nn.Linear(fc_size1,fc_size2)\n",
        "    self.fc3 = nn.Linear(fc_size2,no_classes)\n",
        "\n",
        "\n",
        "  def forward(self, x):\n",
        "    x = F.elu(self.conv1(x))\n",
        "    x = self.pool1(x)\n",
        "    x = self.BatchNorm1(x)\n",
        "    x = F.elu(self.conv2(x))\n",
        "    x = self.pool2(x)\n",
        "    x = self.BatchNorm2(x)\n",
        "    x = torch.flatten(x,1)\n",
        "    x = F.elu(self.fc1(x))\n",
        "    x = F.elu(self.fc2(x))\n",
        "    x = F.elu(self.fc3(x))\n",
        "    return x"
      ],
      "metadata": {
        "id": "7BA9_-BI_5Vn"
      },
      "execution_count": null,
      "outputs": []
    },
    {
      "cell_type": "code",
      "source": [
        "class NN_CNN(nn.Module):\n",
        "  def __init__(self,inchannels,kernelsize,stride,padding,poolsize,fc_size1,fc_size2,no_classes):\n",
        "    super(NN_CNN, self).__init__()\n",
        "    self.conv1 = nn.Conv2d(inchannels,24,kernelsize,stride,padding)\n",
        "    self.pool1 = nn.MaxPool2d(poolsize,2)\n",
        "    self.BatchNorm1 = nn.BatchNorm2d(24)\n",
        "    self.conv2 = nn.Conv2d(24,48,kernelsize,stride,padding)\n",
        "    self.pool2 = nn.MaxPool2d(poolsize,2)\n",
        "    self.BatchNorm2 = nn.BatchNorm2d(48)\n",
        "    self.fc1 = nn.Linear(432,fc_size1)\n",
        "    self.fc2 = nn.Linear(fc_size1,fc_size2)\n",
        "    self.fc3 = nn.Linear(fc_size2,no_classes)\n",
        "\n",
        "\n",
        "  def forward(self, x):\n",
        "    x = F.relu(self.conv1(x))\n",
        "    x = self.pool1(x)\n",
        "    x = self.BatchNorm1(x)\n",
        "    x = F.relu(self.conv2(x))\n",
        "    x = self.pool2(x)\n",
        "    x = self.BatchNorm2(x)\n",
        "    x = torch.flatten(x,1)\n",
        "    x = F.relu(self.fc1(x))\n",
        "    x = F.relu(self.fc2(x))\n",
        "    x = F.relu(self.fc3(x))\n",
        "    return x"
      ],
      "metadata": {
        "id": "DzAyfynxC54N"
      },
      "execution_count": null,
      "outputs": []
    },
    {
      "cell_type": "code",
      "source": [
        "ioc_model = IOC_CNN(inchannels,kernelsize,stride,padding,poolsize,fc_size1,fc_size2,no_classes).to(device)\n",
        "nn_model = NN_CNN(inchannels,kernelsize,stride,padding,poolsize,fc_size1,fc_size2,no_classes).to(device)\n",
        "# model = SimpleAlex(no_classes).to(device)"
      ],
      "metadata": {
        "id": "ZlZzuh1H_8AQ"
      },
      "execution_count": null,
      "outputs": []
    },
    {
      "cell_type": "code",
      "source": [
        "ioc_optimizer = torch.optim.Adam(ioc_model.parameters(),lr= 0.0001)\n",
        "nn_optimizer = torch.optim.Adam(nn_model.parameters(),lr= 0.0001)\n",
        "criterion = nn.CrossEntropyLoss().to(device)"
      ],
      "metadata": {
        "id": "6xkpX5Qc_9VP"
      },
      "execution_count": null,
      "outputs": []
    },
    {
      "cell_type": "code",
      "source": [
        "\n",
        "for i in range(epochs):\n",
        "  Loss = 0\n",
        "  num_correct=0\n",
        "  tot = 0\n",
        "  for i,data in enumerate(traindata):\n",
        "    # iterating through every batch\n",
        "    x_data = data[0].to(device)\n",
        "    labels = data[1].to(device)\n",
        "    ioc_optimizer.zero_grad()\n",
        "    outputs = ioc_model(x_data)\n",
        "    _, pred = torch.max(outputs.data, 1)\n",
        "    num_correct += (pred == labels).sum().item()\n",
        "    tot += labels.size(0)\n",
        "    loss = criterion(outputs, labels)\n",
        "    loss.backward()\n",
        "    ioc_optimizer.step()\n",
        "    Loss += loss\n",
        "    for w in ioc_model.parameters():\n",
        "      p = w\n",
        "      torch.where(w > 0, w, torch.exp(p))\n",
        "  train_ioc.append(num_correct/tot)    \n",
        "  print(\"Accuracy for exponentiation on negative weights : \",num_correct/tot)\n",
        "  print(\"Loss for exponentiation on negative weights : \",loss.item())\n",
        "  "
      ],
      "metadata": {
        "colab": {
          "base_uri": "https://localhost:8080/"
        },
        "id": "0EIM8d_i_-lY",
        "outputId": "494c17b6-06cf-4878-9949-9999fcc20407"
      },
      "execution_count": null,
      "outputs": [
        {
          "output_type": "stream",
          "name": "stdout",
          "text": [
            "Accuracy for exponentiation on negative weights :  0.40956\n",
            "Loss for exponentiation on negative weights :  1.4071670770645142\n",
            "Accuracy for exponentiation on negative weights :  0.53332\n",
            "Loss for exponentiation on negative weights :  1.3466993570327759\n",
            "Accuracy for exponentiation on negative weights :  0.57734\n",
            "Loss for exponentiation on negative weights :  1.0971719026565552\n",
            "Accuracy for exponentiation on negative weights :  0.60452\n",
            "Loss for exponentiation on negative weights :  1.1211843490600586\n",
            "Accuracy for exponentiation on negative weights :  0.62606\n",
            "Loss for exponentiation on negative weights :  0.9399492144584656\n",
            "Accuracy for exponentiation on negative weights :  0.64152\n",
            "Loss for exponentiation on negative weights :  0.9627361297607422\n",
            "Accuracy for exponentiation on negative weights :  0.65424\n",
            "Loss for exponentiation on negative weights :  0.9677961468696594\n",
            "Accuracy for exponentiation on negative weights :  0.66712\n",
            "Loss for exponentiation on negative weights :  1.122461199760437\n",
            "Accuracy for exponentiation on negative weights :  0.6783\n",
            "Loss for exponentiation on negative weights :  0.7112027406692505\n",
            "Accuracy for exponentiation on negative weights :  0.6871\n",
            "Loss for exponentiation on negative weights :  0.9029135704040527\n",
            "Accuracy for exponentiation on negative weights :  0.69608\n",
            "Loss for exponentiation on negative weights :  0.9230716824531555\n",
            "Accuracy for exponentiation on negative weights :  0.70398\n",
            "Loss for exponentiation on negative weights :  0.8259015083312988\n",
            "Accuracy for exponentiation on negative weights :  0.7143\n",
            "Loss for exponentiation on negative weights :  0.9389091730117798\n",
            "Accuracy for exponentiation on negative weights :  0.71944\n",
            "Loss for exponentiation on negative weights :  0.8857854008674622\n",
            "Accuracy for exponentiation on negative weights :  0.72684\n",
            "Loss for exponentiation on negative weights :  1.097618818283081\n",
            "Accuracy for exponentiation on negative weights :  0.73524\n",
            "Loss for exponentiation on negative weights :  0.48480385541915894\n",
            "Accuracy for exponentiation on negative weights :  0.74136\n",
            "Loss for exponentiation on negative weights :  0.7237450480461121\n",
            "Accuracy for exponentiation on negative weights :  0.74656\n",
            "Loss for exponentiation on negative weights :  0.7986254692077637\n",
            "Accuracy for exponentiation on negative weights :  0.75038\n",
            "Loss for exponentiation on negative weights :  0.941252589225769\n",
            "Accuracy for exponentiation on negative weights :  0.7569\n",
            "Loss for exponentiation on negative weights :  0.7575832605361938\n",
            "Accuracy for exponentiation on negative weights :  0.76322\n",
            "Loss for exponentiation on negative weights :  0.6697009205818176\n",
            "Accuracy for exponentiation on negative weights :  0.76928\n",
            "Loss for exponentiation on negative weights :  0.7149509191513062\n",
            "Accuracy for exponentiation on negative weights :  0.7741\n",
            "Loss for exponentiation on negative weights :  0.7476043701171875\n",
            "Accuracy for exponentiation on negative weights :  0.77834\n",
            "Loss for exponentiation on negative weights :  0.7127599120140076\n",
            "Accuracy for exponentiation on negative weights :  0.78378\n",
            "Loss for exponentiation on negative weights :  0.593148946762085\n",
            "Accuracy for exponentiation on negative weights :  0.78888\n",
            "Loss for exponentiation on negative weights :  0.7641893625259399\n",
            "Accuracy for exponentiation on negative weights :  0.79386\n",
            "Loss for exponentiation on negative weights :  0.5977246761322021\n",
            "Accuracy for exponentiation on negative weights :  0.798\n",
            "Loss for exponentiation on negative weights :  0.5330496430397034\n",
            "Accuracy for exponentiation on negative weights :  0.80258\n",
            "Loss for exponentiation on negative weights :  0.44746842980384827\n",
            "Accuracy for exponentiation on negative weights :  0.80822\n",
            "Loss for exponentiation on negative weights :  0.6921523809432983\n"
          ]
        }
      ]
    },
    {
      "cell_type": "code",
      "source": [
        "with torch.no_grad():\n",
        "    correct = 0\n",
        "    total = 0\n",
        "    confidence = 0\n",
        "    for images, labels in testdata:\n",
        "        images = images.to(device)\n",
        "        labels = labels.to(device)\n",
        "        outputs = ioc_model(images)\n",
        "        _, predicted = torch.max(outputs.data, 1)\n",
        "        total += labels.size(0)\n",
        "        correct += (predicted == labels).sum().item()\n",
        "        for i in range(len(predicted)):\n",
        "          sum = torch.sum(outputs[i])\n",
        "          confidence = confidence + (outputs[i][predicted[i]]/sum)\n",
        "    test_ioc = correct/total\n",
        "    confidence = confidence/total\n",
        "    print(\"Test Accuracy for exponentiation of weights for IOC Architecture : \",100 * correct / total)\n",
        "    print(\"The confidence Value for IOC Architecture : \",confidence.item())\n",
        "\n"
      ],
      "metadata": {
        "colab": {
          "base_uri": "https://localhost:8080/"
        },
        "id": "RupkgNAmAAIY",
        "outputId": "35dbd196-bfcd-4794-aaec-8c33faa9cca6"
      },
      "execution_count": null,
      "outputs": [
        {
          "output_type": "stream",
          "name": "stdout",
          "text": [
            "Test Accuracy for exponentiation of weights for IOC Architecture :  68.94\n",
            "The confidence Value for IOC Architecture :  0.5515899062156677\n"
          ]
        }
      ]
    },
    {
      "cell_type": "code",
      "source": [
        "\n",
        "for i in range(epochs):\n",
        "  Loss = 0\n",
        "  num_correct=0\n",
        "  tot = 0\n",
        "  for i,data in enumerate(traindata):\n",
        "    # iterating through every batch\n",
        "    x_data = data[0].to(device)\n",
        "    labels = data[1].to(device)\n",
        "    nn_optimizer.zero_grad()\n",
        "    outputs = nn_model(x_data)\n",
        "    _, pred = torch.max(outputs.data, 1)\n",
        "    num_correct += (pred == labels).sum().item()\n",
        "    tot += labels.size(0)\n",
        "    loss = criterion(outputs, labels)\n",
        "    loss.backward()\n",
        "    nn_optimizer.step()\n",
        "    Loss += loss\n",
        "  train_nn.append(num_correct/tot)    \n",
        "  print(\"Accuracy for exponentiation on negative weights : \",num_correct/tot)\n",
        "  print(\"Loss for exponentiation on negative weights : \",loss.item())\n",
        "  "
      ],
      "metadata": {
        "id": "4YpCyHqdACJw"
      },
      "execution_count": null,
      "outputs": []
    },
    {
      "cell_type": "code",
      "source": [
        "with torch.no_grad():\n",
        "    correct = 0\n",
        "    total = 0\n",
        "    for images, labels in testdata:\n",
        "        images = images.to(device)\n",
        "        labels = labels.to(device)\n",
        "        outputs = nn_model(images)\n",
        "        _, predicted = torch.max(outputs.data, 1)\n",
        "\n",
        "        total += labels.size(0)\n",
        "        correct += (predicted == labels).sum().item()\n",
        "        for i in range(len(predicted)):\n",
        "          sum = torch.sum(outputs[i])\n",
        "          confidence = confidence + (outputs[i][predicted[i]]/sum)\n",
        "    test_nn = correct/total\n",
        "    confidence = confidence/total\n",
        "    print(\"Test Accuracy for exponentiation of weights with NN Architecture : \",100 * correct / total)\n",
        "    print(\"The confidence Value for IOC Architecture : \",confidence.item())\n"
      ],
      "metadata": {
        "colab": {
          "base_uri": "https://localhost:8080/"
        },
        "id": "OA1jflobADko",
        "outputId": "ee3b658a-1a7b-4d07-b5b3-baa2d09d4702"
      },
      "execution_count": null,
      "outputs": [
        {
          "output_type": "stream",
          "name": "stdout",
          "text": [
            "Test Accuracy for exponentiation of weights with NN Architecture :  66.01\n",
            "The confidence Value for IOC Architecture :  0.4088934361934662\n"
          ]
        }
      ]
    }
  ]
}