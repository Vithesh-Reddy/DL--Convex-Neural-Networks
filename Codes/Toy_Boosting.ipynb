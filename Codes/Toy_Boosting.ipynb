{
  "nbformat": 4,
  "nbformat_minor": 0,
  "metadata": {
    "colab": {
      "provenance": []
    },
    "kernelspec": {
      "name": "python3",
      "display_name": "Python 3"
    },
    "language_info": {
      "name": "python"
    },
    "accelerator": "GPU",
    "gpuClass": "standard"
  },
  "cells": [
    {
      "cell_type": "code",
      "execution_count": null,
      "metadata": {
        "id": "OaPbkZbKX6pj"
      },
      "outputs": [],
      "source": [
        "import torch\n",
        "import numpy as np\n",
        "import pandas as pd\n",
        "import torch.nn as nn\n",
        "import torch.optim as optim\n",
        "import os\n",
        "import matplotlib.pyplot as plt\n",
        "import torch.nn.functional as F\n",
        "%matplotlib inline\n",
        "import random\n",
        "import math\n",
        "from sklearn.model_selection import train_test_split\n",
        "from sklearn.tree import DecisionTreeClassifier\n",
        "from sklearn.ensemble import AdaBoostClassifier"
      ]
    },
    {
      "cell_type": "code",
      "source": [
        "import torchvision\n",
        "import torchvision.transforms as transforms"
      ],
      "metadata": {
        "id": "jkl8RfxBYJX2"
      },
      "execution_count": null,
      "outputs": []
    },
    {
      "cell_type": "code",
      "source": [
        "device = torch.device('cuda' if torch.cuda.is_available() else 'cpu')\n",
        "print('Device available now:', device)"
      ],
      "metadata": {
        "colab": {
          "base_uri": "https://localhost:8080/"
        },
        "id": "tTPLjHZwYJ48",
        "outputId": "14d59c08-fbe1-4280-b41c-f88d76bb9e0d"
      },
      "execution_count": null,
      "outputs": [
        {
          "output_type": "stream",
          "name": "stdout",
          "text": [
            "Device available now: cuda\n"
          ]
        }
      ]
    },
    {
      "cell_type": "code",
      "source": [
        "image_transforms = transforms.Compose(\n",
        "         [transforms.ToTensor(),\n",
        "         transforms.CenterCrop(28),\n",
        "         transforms.Normalize((0.5), (0.5))]\n",
        ")"
      ],
      "metadata": {
        "id": "O7Gv0zrVYLAk"
      },
      "execution_count": null,
      "outputs": []
    },
    {
      "cell_type": "code",
      "source": [
        "batchsize = 32\n",
        "rowsize = 28\n",
        "colsize = 28\n",
        "inchannels = 3\n",
        "fc_size = 128\n",
        "no_classes = 2\n",
        "epochs = 100"
      ],
      "metadata": {
        "id": "df1nJfcTYNEE"
      },
      "execution_count": null,
      "outputs": []
    },
    {
      "cell_type": "code",
      "source": [
        "download_url = (\"https://archive.ics.uci.edu/ml/machine-learning-databases/spambase/spambase.data\")\n",
        "cols = np.arange(0,58,1)\n",
        "df = pd.read_csv(download_url,names=cols)\n",
        "pd.set_option(\"display.max.rows\", None)\n",
        "data = pd.DataFrame(df).to_numpy()\n",
        "num = len(data)\n",
        "feat = len(data[0])-1"
      ],
      "metadata": {
        "id": "G2LBaGxDeLWB"
      },
      "execution_count": null,
      "outputs": []
    },
    {
      "cell_type": "code",
      "source": [
        "X = data[:,0:feat]\n",
        "label = data[:,-1]\n",
        "Xcopy = X\n",
        "labelcopy = label\n",
        "# print(label)\n",
        "for i in range(int(len(label))):\n",
        "  label[i] = random.choice([0,1])\n",
        "\n",
        "X_train, X_test, y_train, y_test = train_test_split(X, label, test_size=0.2, random_state=42) \n",
        "X_train = torch.Tensor(X_train)\n",
        "X_test = torch.Tensor(X_test)\n",
        "y_train = torch.Tensor(y_train)\n",
        "y_test = torch.Tensor(y_test)"
      ],
      "metadata": {
        "id": "zaJVEQfiisz4"
      },
      "execution_count": null,
      "outputs": []
    },
    {
      "cell_type": "code",
      "source": [
        "print(y_train.shape)"
      ],
      "metadata": {
        "colab": {
          "base_uri": "https://localhost:8080/"
        },
        "id": "8rXTqUQMi1FH",
        "outputId": "3541053f-3c37-4854-a54b-cbd738fe5ed1"
      },
      "execution_count": null,
      "outputs": [
        {
          "output_type": "stream",
          "name": "stdout",
          "text": [
            "torch.Size([3680])\n"
          ]
        }
      ]
    },
    {
      "cell_type": "code",
      "source": [
        "class IOC_MLP(nn.Module):\n",
        "  def __init__(self,rowsize,colsize,fc_size,inchannels,no_classes):\n",
        "    super(IOC_MLP, self).__init__()\n",
        "    self.fc1 = nn.Linear(feat,fc_size)\n",
        "    self.batchnorm1 = nn.BatchNorm1d(fc_size)\n",
        "    self.fc2 = nn.Linear(fc_size,fc_size)\n",
        "    self.batchnorm2 = nn.BatchNorm1d(fc_size)\n",
        "    self.fc3 = nn.Linear(fc_size,fc_size)\n",
        "    self.batchnorm3 = nn.BatchNorm1d(fc_size)\n",
        "    self.fc4 = nn.Linear(fc_size,no_classes)\n",
        "\n",
        "\n",
        "  def forward(self, x):\n",
        "    x = torch.flatten(x)\n",
        "    x = x.view(-1,feat)\n",
        "    x = F.elu(self.fc1(x))\n",
        "    x = self.batchnorm1(x)\n",
        "    x = F.elu(self.fc2(x))\n",
        "    x = self.batchnorm2(x)\n",
        "    x = F.elu(self.fc3(x))\n",
        "    x = self.batchnorm3(x)\n",
        "    x = self.fc4(x)\n",
        "    return x"
      ],
      "metadata": {
        "id": "b0AX6rXqf15B"
      },
      "execution_count": null,
      "outputs": []
    },
    {
      "cell_type": "code",
      "source": [
        "ioc_model = IOC_MLP(rowsize,colsize,fc_size,inchannels,no_classes).to(device)\n",
        "# nn_model = NN(rowsize,colsize,fc_size,inchannels,no_classes).to(device)\n",
        "# model = SimpleAlex(no_classes).to(device)"
      ],
      "metadata": {
        "id": "f8LvMOUfhI_D"
      },
      "execution_count": null,
      "outputs": []
    },
    {
      "cell_type": "code",
      "source": [
        "ioc_optimizer = torch.optim.Adam(ioc_model.parameters(),lr= 0.0001)\n",
        "criterion = nn.CrossEntropyLoss().to(device)\n",
        "# nn_optimizer = torch.optim.Adam(nn_model.parameters(),lr= 0.0001)"
      ],
      "metadata": {
        "id": "8Ggb8UTJgrKx"
      },
      "execution_count": null,
      "outputs": []
    },
    {
      "cell_type": "code",
      "source": [
        "a = torch.zeros(2)\n",
        "b = torch.zeros(2)\n",
        "a[0]=1\n",
        "b[1]=1\n",
        "m = {0:a,1:b}"
      ],
      "metadata": {
        "id": "xbcBTAoSoUaW"
      },
      "execution_count": null,
      "outputs": []
    },
    {
      "cell_type": "code",
      "source": [
        "train_ioc = []\n",
        "# train_nn = []\n",
        "test_ioc = 0\n",
        "# test_nn = 0"
      ],
      "metadata": {
        "id": "dL605XjDQ-y2"
      },
      "execution_count": null,
      "outputs": []
    },
    {
      "cell_type": "code",
      "source": [
        "# def training(model,traindata,testdata)\n",
        "# print(\"Choose the weight Variation number, (1 for clipping negative weight to zero , 2 for taking absolute of weights , 3 for exponentiation of weights\")\n",
        "# a = input()\n",
        "for i in range(epochs):\n",
        "  Loss = 0\n",
        "  num_correct=0\n",
        "  tot = 0\n",
        "  count=0\n",
        "  for d in range(int(len(X_train)/batchsize)):\n",
        "    # iterating through every batch\n",
        "    ls = np.arange(count,count+batchsize,1)\n",
        "    ls = torch.from_numpy(ls)\n",
        "    x_data = X_train[ls].to(device)\n",
        "    labels = y_train[ls].to(device)\n",
        "    ioc_optimizer.zero_grad()\n",
        "    outputs = ioc_model(x_data).to(device)\n",
        "    _, pred = torch.max(outputs.data, 1)\n",
        "    num_correct += (pred == labels).sum().item()\n",
        "    tot += labels.size(0)\n",
        "    onehot_labels = torch.zeros((batchsize,2))\n",
        "    for i in range(batchsize):\n",
        "      onehot_labels[i] = m[int(labels[i])]                                         \n",
        "    onehot_labels = onehot_labels.to(device)\n",
        "    loss = criterion(outputs, onehot_labels)\n",
        "    loss.backward()\n",
        "    ioc_optimizer.step()\n",
        "    Loss += loss\n",
        "    count+=batchsize\n",
        "    for w in ioc_model.parameters():\n",
        "      p = w\n",
        "      torch.where(w > 0, w, torch.exp(p))\n",
        "  train_ioc.append(num_correct/tot)\n",
        "  print(\"Train Accuracy for IOC: \",num_correct/tot)\n",
        "  print(\"Loss: \",loss.item())"
      ],
      "metadata": {
        "id": "-E25oWHigv52"
      },
      "execution_count": null,
      "outputs": []
    },
    {
      "cell_type": "code",
      "source": [
        "with torch.no_grad():\n",
        "    correct = 0\n",
        "    total = 0\n",
        "    count=0\n",
        "    for d in range(int(len(X_test)/batchsize)):\n",
        "        ls = np.arange(count,count+batchsize,1)\n",
        "        ls = torch.from_numpy(ls)\n",
        "        x_data = X_test[ls].to(device)\n",
        "        labels = y_test[ls].to(device)\n",
        "        outputs = ioc_model(x_data)\n",
        "        _, predicted = torch.max(outputs.data, 1)\n",
        "        total += labels.size(0)\n",
        "        correct += (predicted == labels).sum().item()\n",
        "        count+=batchsize\n",
        "    test_ioc = 100*correct/total\n",
        "    print(\"Test Accuracy on absolute weights For IOC Model : \",100 * correct / total)\n",
        "\n"
      ],
      "metadata": {
        "colab": {
          "base_uri": "https://localhost:8080/"
        },
        "id": "2zmgt6nz1G-G",
        "outputId": "6c1745db-e372-4b51-8cae-611bd9b51206"
      },
      "execution_count": null,
      "outputs": [
        {
          "output_type": "stream",
          "name": "stdout",
          "text": [
            "Test Accuracy on absolute weights For IOC Model :  48.88392857142857\n"
          ]
        }
      ]
    },
    {
      "cell_type": "code",
      "source": [
        "# print(\"Generalization Gap for NN Model\",(train_nn[len(train_nn)-1]*100)-test_nn)\n",
        "print(\"Generalization Gap for IOC Model\",(train_ioc[len(train_ioc)-1]*100)-test_ioc)"
      ],
      "metadata": {
        "colab": {
          "base_uri": "https://localhost:8080/"
        },
        "id": "hDV1RJfGa6sa",
        "outputId": "46586a7b-779c-4b79-cbce-6b3d6f1aacaf"
      },
      "execution_count": null,
      "outputs": [
        {
          "output_type": "stream",
          "name": "stdout",
          "text": [
            "Generalization Gap for NN Model 51.76145186335404\n",
            "Generalization Gap for IOC Model 32.828027950310556\n"
          ]
        }
      ]
    },
    {
      "cell_type": "markdown",
      "source": [
        "# AdaBoost"
      ],
      "metadata": {
        "id": "_Kok4tXFzX_Y"
      }
    },
    {
      "cell_type": "code",
      "source": [
        "a = torch.zeros(2)\n",
        "b = torch.zeros(2)\n",
        "a[0]=1\n",
        "b[1]=1\n",
        "m = {0:a,1:b}"
      ],
      "metadata": {
        "id": "3HUtOWOQzV-i"
      },
      "execution_count": null,
      "outputs": []
    },
    {
      "cell_type": "code",
      "source": [
        "def train_IOC(model,ioc_optimizer,criterion):\n",
        "  for i in range(epochs):\n",
        "    # Loss = 0\n",
        "    # num_correct=0\n",
        "    tot = 0\n",
        "    count=0\n",
        "    for d in range(int(len(X_train)/batchsize)):\n",
        "      # iterating through every batch\n",
        "      ls = np.arange(count,count+batchsize,1)\n",
        "      ls = torch.from_numpy(ls)\n",
        "      x_data = X_train[ls].to(device)\n",
        "      labels = y_train[ls].to(device)\n",
        "      ioc_optimizer.zero_grad()\n",
        "      outputs = model(x_data).to(device)\n",
        "      # _, pred = torch.max(outputs.data, 1)\n",
        "      # num_correct += (pred == labels).sum().item()\n",
        "      tot += labels.size(0)\n",
        "      onehot_labels = torch.zeros((batchsize,2))\n",
        "      for i in range(batchsize):\n",
        "        onehot_labels[i] = m[int(labels[i])]                                         \n",
        "      onehot_labels = onehot_labels.to(device)\n",
        "      loss = criterion(outputs, onehot_labels)\n",
        "      loss.backward()\n",
        "      ioc_optimizer.step()\n",
        "      # Loss += loss\n",
        "      count+=batchsize\n",
        "      for w in model.parameters():\n",
        "        p = w\n",
        "        torch.where(w > 0, w, torch.exp(p))"
      ],
      "metadata": {
        "id": "qZYYBegVxXs0"
      },
      "execution_count": null,
      "outputs": []
    },
    {
      "cell_type": "code",
      "source": [
        "def I(predicted, labels):\n",
        "    if(predicted.sum().item() == labels.sum().item()):\n",
        "      return True\n",
        "    else:\n",
        "      return False\n",
        "\n",
        "def sign(x):\n",
        "    return abs(x)/x if x!=0 else 1"
      ],
      "metadata": {
        "id": "TU9XSUfIqByL"
      },
      "execution_count": null,
      "outputs": []
    },
    {
      "cell_type": "code",
      "source": [
        "class AdaBoost:\n",
        "    \n",
        "    def __init__(self,n_estimators=50):\n",
        "        self.n_estimators = n_estimators\n",
        "        self.models = [None]*n_estimators\n",
        "        \n",
        "    def fit(self,X,y):\n",
        "        # X = np.float64(X)\n",
        "        # X = torch.tensor(X).to(device)\n",
        "        X = X.to(device)\n",
        "        y = y.to(device)\n",
        "        N = len(y)\n",
        "        w = np.array([1/N for i in range(N)])\n",
        "        count = 0\n",
        "        \n",
        "        for m in range(self.n_estimators):\n",
        "            \n",
        "            # Gm = DecisionTreeClassifier(max_depth=1).fit(X,y,sample_weight=w).predict\n",
        "            Gm_ioc = IOC_MLP(rowsize,colsize,fc_size,inchannels,no_classes).to(device)\n",
        "            ioc_optimizer_ada = torch.optim.Adam(Gm_ioc.parameters(),lr= 0.0001)\n",
        "            criterion_ada = nn.CrossEntropyLoss().to(device)\n",
        "            train_IOC(Gm_ioc,ioc_optimizer_ada,criterion_ada)\n",
        "\n",
        "            # Get output from trained model\n",
        "            ls = np.arange(count,count+batchsize,1)\n",
        "            ls = torch.from_numpy(ls)\n",
        "            x_data = X[ls].to(device)\n",
        "            labels = y[ls].to(device)\n",
        "            outputs = Gm_ioc(x_data)\n",
        "\n",
        "            _, predicted = torch.max(outputs.data, 1)\n",
        "\n",
        "            # errM = sum([w[i]*I(y[i]!=Gm_ioc(X[i].reshape(1,-1))) for i in range(N)])/sum(w)\n",
        "            errM = sum([w[i]*I(predicted, labels) for i in range(N)])/sum(w)\n",
        "\n",
        "            \n",
        "            AlphaM = np.log((1-errM)/errM)\n",
        "            \n",
        "            w = [w[i]*np.exp(AlphaM*I(predicted, labels)) for i in range(N)]\n",
        "    \n",
        "            self.models[m] = (AlphaM,Gm_ioc)\n",
        "\n",
        "    def predict(self,X):\n",
        "        \n",
        "        y = 0\n",
        "        for m in range(self.n_estimators):\n",
        "            AlphaM,Gm_ioc = self.models[m]\n",
        "            y += AlphaM*Gm_ioc(X)\n",
        "        signA = np.vectorize(sign)\n",
        "        y = np.where(signA(y)==-1,-1,1)\n",
        "        return y"
      ],
      "metadata": {
        "id": "iFEmwb0VmdjF"
      },
      "execution_count": null,
      "outputs": []
    },
    {
      "cell_type": "code",
      "source": [
        "# Check device\n",
        "x_test_ada = X_test.to(device = 'cpu')\n",
        "x_test_ada.numpy()"
      ],
      "metadata": {
        "colab": {
          "base_uri": "https://localhost:8080/"
        },
        "id": "BnzewkCc-iY1",
        "outputId": "06fa6c60-df99-4a91-d3b2-f43e785b775f"
      },
      "execution_count": null,
      "outputs": [
        {
          "output_type": "execute_result",
          "data": {
            "text/plain": [
              "array([[  0.   ,   0.   ,   0.   , ...,   1.   ,   1.   ,   3.   ],\n",
              "       [  0.71 ,   0.   ,   0.71 , ...,   1.032,   2.   ,  32.   ],\n",
              "       [  0.   ,   0.   ,   0.91 , ...,   1.32 ,   7.   , 103.   ],\n",
              "       ...,\n",
              "       [  0.   ,   0.   ,   1.6  , ...,   2.065,  12.   ,  95.   ],\n",
              "       [  0.75 ,   0.   ,   0.   , ...,   2.125,  13.   ,  85.   ],\n",
              "       [  0.   ,   2.4  ,   0.   , ...,   1.696,  15.   ,  56.   ]],\n",
              "      dtype=float32)"
            ]
          },
          "metadata": {},
          "execution_count": 55
        }
      ]
    },
    {
      "cell_type": "code",
      "source": [
        "# Train Boosted Ensemble \n",
        "\n",
        "clf = AdaBoost(n_estimators=5)\n",
        "clf.fit(X_train,y_train)\n",
        "x_test_ada = X_test\n",
        "# x_test_ada.numpy()\n",
        "y_pred = clf.predict(x_test_ada)\n",
        "\n",
        "\n",
        "print(\"Testing accuracy for IOC architecture: %\",100*sum(y_pred==y_test)/len(y_test))\n",
        "\n"
      ],
      "metadata": {
        "colab": {
          "base_uri": "https://localhost:8080/"
        },
        "id": "QcHwvdYS0J9l",
        "outputId": "1bf11b5c-30bf-4ffe-aaf9-cfcfeef7263b"
      },
      "execution_count": null,
      "outputs": [
        {
          "output_type": "stream",
          "name": "stdout",
          "text": [
            "Testing accuracy for IOC architecture: 55.67%\n"
          ]
        }
      ]
    }
  ]
}